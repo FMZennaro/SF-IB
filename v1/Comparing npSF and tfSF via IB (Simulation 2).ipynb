{
 "cells": [
  {
   "cell_type": "markdown",
   "metadata": {},
   "source": [
    "# Comparing npSF and tfSF via IB (Simulation 2)\n",
    "\n",
    "In this notebook we compare npSF and tfSF using the IB, reproducing some of the experiments in [1]."
   ]
  },
  {
   "cell_type": "markdown",
   "metadata": {},
   "source": [
    "## Setup\n",
    "\n",
    "We start by importing some libraries:"
   ]
  },
  {
   "cell_type": "code",
   "execution_count": 1,
   "metadata": {},
   "outputs": [],
   "source": [
    "import numpy as np\n",
    "import joblib\n",
    "import sklearn.datasets as ds\n",
    "import scipy.stats as stats\n",
    "import matplotlib.pyplot as plt\n",
    "from tqdm import tqdm\n",
    "from scipy.stats import linregress\n",
    "\n",
    "import tfSF\n",
    "import npSF\n",
    "\n",
    "import data.data_creation as D\n",
    "import IT"
   ]
  },
  {
   "cell_type": "markdown",
   "metadata": {},
   "source": [
    "We define the parameters of our simulation:"
   ]
  },
  {
   "cell_type": "code",
   "execution_count": 2,
   "metadata": {},
   "outputs": [],
   "source": [
    "learned_features = 2\n",
    "n_epochs = 200\n",
    "\n",
    "IT_bins=30"
   ]
  },
  {
   "cell_type": "markdown",
   "metadata": {},
   "source": [
    "We define a couple of helper functions: a simple linear regression function and a helper function to compute the tfSF learned representation as a function of the weights. Notice that here, for simplicity, we call the steps of SF implemented using *numpy*; since no learning is now required, using *numpy* saves us the overhead of instantiating a *tensorflow* model."
   ]
  },
  {
   "cell_type": "code",
   "execution_count": 3,
   "metadata": {},
   "outputs": [],
   "source": [
    "def linreg(x,y):\n",
    "    a, b, _, _, _ = stats.linregress(x,y)\n",
    "    return a*x+b\n",
    "    \n",
    "\n",
    "def computeZ(X,W):\n",
    "    WX = np.dot(W,X.T)\n",
    "    F = npSF.softabsolute(WX)\n",
    "    Fsquish, _ = npSF.l2row(F)\n",
    "    Fhat, _ = npSF.l2row(Fsquish.T)\n",
    "    Z = Fhat\n",
    "    return Z"
   ]
  },
  {
   "cell_type": "markdown",
   "metadata": {},
   "source": [
    "## Simulation 2 from [1]\n",
    "\n",
    "We now reproduce the results for *Simulation 2* in [1]. We generate random data."
   ]
  },
  {
   "cell_type": "code",
   "execution_count": 4,
   "metadata": {},
   "outputs": [],
   "source": [
    "data = D.get_samples_multivariate_gaussians_ND(n_samples_train=900, \n",
    "                                            n_samples_test=100, \n",
    "                                            mu = stats.uniform.rvs(loc=-5,scale=10,size=4), \n",
    "                                            sigma = ds.make_spd_matrix(4))"
   ]
  },
  {
   "cell_type": "markdown",
   "metadata": {},
   "source": [
    "We train the tfSF module."
   ]
  },
  {
   "cell_type": "code",
   "execution_count": 5,
   "metadata": {},
   "outputs": [
    {
     "name": "stdout",
     "output_type": "stream",
     "text": [
      "Epoch 1/200\n",
      "1/1 [==============================] - 0s 2ms/step - loss: 1136.3616\n",
      "Epoch 2/200\n",
      "1/1 [==============================] - 0s 4ms/step - loss: 1139.8469\n",
      "Epoch 3/200\n",
      "1/1 [==============================] - 0s 5ms/step - loss: 1134.0828\n",
      "Epoch 4/200\n",
      "1/1 [==============================] - 0s 6ms/step - loss: 1124.0521\n",
      "Epoch 5/200\n",
      "1/1 [==============================] - 0s 898us/step - loss: 1113.1584\n",
      "Epoch 6/200\n",
      "1/1 [==============================] - 0s 4ms/step - loss: 1112.8833\n",
      "Epoch 7/200\n",
      "1/1 [==============================] - 0s 4ms/step - loss: 1115.6941\n",
      "Epoch 8/200\n",
      "1/1 [==============================] - 0s 4ms/step - loss: 1114.9583\n",
      "Epoch 9/200\n",
      "1/1 [==============================] - 0s 4ms/step - loss: 1111.5095\n",
      "Epoch 10/200\n",
      "1/1 [==============================] - 0s 6ms/step - loss: 1108.8521\n",
      "Epoch 11/200\n",
      "1/1 [==============================] - 0s 3ms/step - loss: 1107.3193\n",
      "Epoch 12/200\n",
      "1/1 [==============================] - 0s 1ms/step - loss: 1107.0798\n",
      "Epoch 13/200\n",
      "1/1 [==============================] - 0s 1ms/step - loss: 1106.9104\n",
      "Epoch 14/200\n",
      "1/1 [==============================] - 0s 1ms/step - loss: 1107.2122\n",
      "Epoch 15/200\n",
      "1/1 [==============================] - 0s 2ms/step - loss: 1107.4003\n",
      "Epoch 16/200\n",
      "1/1 [==============================] - 0s 2ms/step - loss: 1107.4556\n",
      "Epoch 17/200\n",
      "1/1 [==============================] - 0s 5ms/step - loss: 1107.1665\n",
      "Epoch 18/200\n",
      "1/1 [==============================] - 0s 2ms/step - loss: 1106.7280\n",
      "Epoch 19/200\n",
      "1/1 [==============================] - 0s 4ms/step - loss: 1106.1252\n",
      "Epoch 20/200\n",
      "1/1 [==============================] - 0s 5ms/step - loss: 1105.5919\n",
      "Epoch 21/200\n",
      "1/1 [==============================] - 0s 2ms/step - loss: 1105.2405\n",
      "Epoch 22/200\n",
      "1/1 [==============================] - 0s 6ms/step - loss: 1105.1145\n",
      "Epoch 23/200\n",
      "1/1 [==============================] - 0s 4ms/step - loss: 1105.1340\n",
      "Epoch 24/200\n",
      "1/1 [==============================] - 0s 12ms/step - loss: 1105.1437\n",
      "Epoch 25/200\n",
      "1/1 [==============================] - 0s 7ms/step - loss: 1105.3027\n",
      "Epoch 26/200\n",
      "1/1 [==============================] - 0s 8ms/step - loss: 1105.4896\n",
      "Epoch 27/200\n",
      "1/1 [==============================] - 0s 5ms/step - loss: 1105.6864\n",
      "Epoch 28/200\n",
      "1/1 [==============================] - 0s 8ms/step - loss: 1105.6738\n",
      "Epoch 29/200\n",
      "1/1 [==============================] - 0s 5ms/step - loss: 1105.5698\n",
      "Epoch 30/200\n",
      "1/1 [==============================] - 0s 5ms/step - loss: 1105.4348\n",
      "Epoch 31/200\n",
      "1/1 [==============================] - 0s 6ms/step - loss: 1105.2058\n",
      "Epoch 32/200\n",
      "1/1 [==============================] - 0s 6ms/step - loss: 1105.1804\n",
      "Epoch 33/200\n",
      "1/1 [==============================] - 0s 5ms/step - loss: 1105.1514\n",
      "Epoch 34/200\n",
      "1/1 [==============================] - 0s 7ms/step - loss: 1105.1923\n",
      "Epoch 35/200\n",
      "1/1 [==============================] - 0s 7ms/step - loss: 1105.1853\n",
      "Epoch 36/200\n",
      "1/1 [==============================] - 0s 6ms/step - loss: 1105.1705\n",
      "Epoch 37/200\n",
      "1/1 [==============================] - 0s 5ms/step - loss: 1105.1931\n",
      "Epoch 38/200\n",
      "1/1 [==============================] - 0s 7ms/step - loss: 1105.1836\n",
      "Epoch 39/200\n",
      "1/1 [==============================] - 0s 5ms/step - loss: 1105.1906\n",
      "Epoch 40/200\n",
      "1/1 [==============================] - 0s 6ms/step - loss: 1105.2063\n",
      "Epoch 41/200\n",
      "1/1 [==============================] - 0s 6ms/step - loss: 1105.1844\n",
      "Epoch 42/200\n",
      "1/1 [==============================] - 0s 15ms/step - loss: 1105.1802\n",
      "Epoch 43/200\n",
      "1/1 [==============================] - 0s 5ms/step - loss: 1105.1564\n",
      "Epoch 44/200\n",
      "1/1 [==============================] - 0s 4ms/step - loss: 1105.1229\n",
      "Epoch 45/200\n",
      "1/1 [==============================] - 0s 4ms/step - loss: 1105.0721\n",
      "Epoch 46/200\n",
      "1/1 [==============================] - 0s 8ms/step - loss: 1105.0883\n",
      "Epoch 47/200\n",
      "1/1 [==============================] - 0s 7ms/step - loss: 1105.0767\n",
      "Epoch 48/200\n",
      "1/1 [==============================] - 0s 9ms/step - loss: 1105.0903\n",
      "Epoch 49/200\n",
      "1/1 [==============================] - 0s 5ms/step - loss: 1105.0576\n",
      "Epoch 50/200\n",
      "1/1 [==============================] - 0s 8ms/step - loss: 1105.0415\n",
      "Epoch 51/200\n",
      "1/1 [==============================] - 0s 6ms/step - loss: 1105.0024\n",
      "Epoch 52/200\n",
      "1/1 [==============================] - 0s 5ms/step - loss: 1104.9882\n",
      "Epoch 53/200\n",
      "1/1 [==============================] - 0s 16ms/step - loss: 1104.9818\n",
      "Epoch 54/200\n",
      "1/1 [==============================] - 0s 4ms/step - loss: 1104.9912\n",
      "Epoch 55/200\n",
      "1/1 [==============================] - 0s 5ms/step - loss: 1105.0068\n",
      "Epoch 56/200\n",
      "1/1 [==============================] - 0s 5ms/step - loss: 1105.0211\n",
      "Epoch 57/200\n",
      "1/1 [==============================] - 0s 2ms/step - loss: 1105.0190\n",
      "Epoch 58/200\n",
      "1/1 [==============================] - 0s 2ms/step - loss: 1105.0010\n",
      "Epoch 59/200\n",
      "1/1 [==============================] - 0s 2ms/step - loss: 1104.9917\n",
      "Epoch 60/200\n",
      "1/1 [==============================] - 0s 1ms/step - loss: 1104.9734\n",
      "Epoch 61/200\n",
      "1/1 [==============================] - 0s 3ms/step - loss: 1104.9584\n",
      "Epoch 62/200\n",
      "1/1 [==============================] - 0s 3ms/step - loss: 1104.9429\n",
      "Epoch 63/200\n",
      "1/1 [==============================] - 0s 3ms/step - loss: 1104.9404\n",
      "Epoch 64/200\n",
      "1/1 [==============================] - 0s 3ms/step - loss: 1104.9364\n",
      "Epoch 65/200\n",
      "1/1 [==============================] - 0s 3ms/step - loss: 1104.9441\n",
      "Epoch 66/200\n",
      "1/1 [==============================] - 0s 2ms/step - loss: 1104.9214\n",
      "Epoch 67/200\n",
      "1/1 [==============================] - 0s 4ms/step - loss: 1104.8894\n",
      "Epoch 68/200\n",
      "1/1 [==============================] - 0s 4ms/step - loss: 1104.8998\n",
      "Epoch 69/200\n",
      "1/1 [==============================] - 0s 4ms/step - loss: 1104.8943\n",
      "Epoch 70/200\n",
      "1/1 [==============================] - 0s 4ms/step - loss: 1104.8806\n",
      "Epoch 71/200\n",
      "1/1 [==============================] - 0s 4ms/step - loss: 1104.8829\n",
      "Epoch 72/200\n",
      "1/1 [==============================] - 0s 4ms/step - loss: 1104.8695\n",
      "Epoch 73/200\n",
      "1/1 [==============================] - 0s 7ms/step - loss: 1104.8657\n",
      "Epoch 74/200\n",
      "1/1 [==============================] - 0s 4ms/step - loss: 1104.8790\n",
      "Epoch 75/200\n",
      "1/1 [==============================] - 0s 4ms/step - loss: 1104.8633\n",
      "Epoch 76/200\n",
      "1/1 [==============================] - 0s 4ms/step - loss: 1104.8644\n",
      "Epoch 77/200\n",
      "1/1 [==============================] - 0s 4ms/step - loss: 1104.8710\n",
      "Epoch 78/200\n",
      "1/1 [==============================] - 0s 4ms/step - loss: 1104.8645\n",
      "Epoch 79/200\n",
      "1/1 [==============================] - 0s 2ms/step - loss: 1104.8474\n",
      "Epoch 80/200\n",
      "1/1 [==============================] - 0s 3ms/step - loss: 1104.8755\n",
      "Epoch 81/200\n",
      "1/1 [==============================] - 0s 2ms/step - loss: 1104.8560\n",
      "Epoch 82/200\n",
      "1/1 [==============================] - 0s 2ms/step - loss: 1104.8323\n",
      "Epoch 83/200\n",
      "1/1 [==============================] - 0s 4ms/step - loss: 1104.8718\n",
      "Epoch 84/200\n",
      "1/1 [==============================] - 0s 4ms/step - loss: 1104.8574\n",
      "Epoch 85/200\n",
      "1/1 [==============================] - 0s 4ms/step - loss: 1104.8276\n",
      "Epoch 86/200\n",
      "1/1 [==============================] - 0s 4ms/step - loss: 1104.8409\n",
      "Epoch 87/200\n",
      "1/1 [==============================] - 0s 4ms/step - loss: 1104.8281\n",
      "Epoch 88/200\n",
      "1/1 [==============================] - 0s 3ms/step - loss: 1104.8306\n",
      "Epoch 89/200\n",
      "1/1 [==============================] - 0s 4ms/step - loss: 1104.8386\n",
      "Epoch 90/200\n",
      "1/1 [==============================] - 0s 2ms/step - loss: 1104.8381\n",
      "Epoch 91/200\n",
      "1/1 [==============================] - 0s 7ms/step - loss: 1104.8260\n",
      "Epoch 92/200\n",
      "1/1 [==============================] - 0s 3ms/step - loss: 1104.8199\n",
      "Epoch 93/200\n",
      "1/1 [==============================] - 0s 3ms/step - loss: 1104.8627\n",
      "Epoch 94/200\n",
      "1/1 [==============================] - 0s 3ms/step - loss: 1104.8179\n",
      "Epoch 95/200\n",
      "1/1 [==============================] - 0s 4ms/step - loss: 1104.8367\n",
      "Epoch 96/200\n",
      "1/1 [==============================] - 0s 4ms/step - loss: 1104.8396\n",
      "Epoch 97/200\n",
      "1/1 [==============================] - 0s 4ms/step - loss: 1104.7981\n",
      "Epoch 98/200\n",
      "1/1 [==============================] - 0s 8ms/step - loss: 1104.8081\n",
      "Epoch 99/200\n",
      "1/1 [==============================] - 0s 4ms/step - loss: 1104.7976\n",
      "Epoch 100/200\n",
      "1/1 [==============================] - 0s 2ms/step - loss: 1104.7930\n"
     ]
    },
    {
     "name": "stdout",
     "output_type": "stream",
     "text": [
      "Epoch 101/200\n",
      "1/1 [==============================] - 0s 3ms/step - loss: 1104.7944\n",
      "Epoch 102/200\n",
      "1/1 [==============================] - 0s 5ms/step - loss: 1104.7747\n",
      "Epoch 103/200\n",
      "1/1 [==============================] - 0s 4ms/step - loss: 1104.8030\n",
      "Epoch 104/200\n",
      "1/1 [==============================] - 0s 5ms/step - loss: 1104.7758\n",
      "Epoch 105/200\n",
      "1/1 [==============================] - 0s 4ms/step - loss: 1104.8092\n",
      "Epoch 106/200\n",
      "1/1 [==============================] - 0s 7ms/step - loss: 1104.7678\n",
      "Epoch 107/200\n",
      "1/1 [==============================] - 0s 6ms/step - loss: 1104.7905\n",
      "Epoch 108/200\n",
      "1/1 [==============================] - 0s 7ms/step - loss: 1104.7773\n",
      "Epoch 109/200\n",
      "1/1 [==============================] - 0s 2ms/step - loss: 1104.7998\n",
      "Epoch 110/200\n",
      "1/1 [==============================] - 0s 2ms/step - loss: 1104.7672\n",
      "Epoch 111/200\n",
      "1/1 [==============================] - 0s 2ms/step - loss: 1104.8225\n",
      "Epoch 112/200\n",
      "1/1 [==============================] - 0s 2ms/step - loss: 1104.7679\n",
      "Epoch 113/200\n",
      "1/1 [==============================] - 0s 2ms/step - loss: 1104.8127\n",
      "Epoch 114/200\n",
      "1/1 [==============================] - 0s 1ms/step - loss: 1104.8135\n",
      "Epoch 115/200\n",
      "1/1 [==============================] - 0s 1ms/step - loss: 1104.7697\n",
      "Epoch 116/200\n",
      "1/1 [==============================] - 0s 2ms/step - loss: 1104.8208\n",
      "Epoch 117/200\n",
      "1/1 [==============================] - 0s 1ms/step - loss: 1104.7977\n",
      "Epoch 118/200\n",
      "1/1 [==============================] - 0s 2ms/step - loss: 1104.7815\n",
      "Epoch 119/200\n",
      "1/1 [==============================] - 0s 2ms/step - loss: 1104.8004\n",
      "Epoch 120/200\n",
      "1/1 [==============================] - 0s 2ms/step - loss: 1104.7876\n",
      "Epoch 121/200\n",
      "1/1 [==============================] - 0s 1ms/step - loss: 1104.7778\n",
      "Epoch 122/200\n",
      "1/1 [==============================] - 0s 1ms/step - loss: 1104.8269\n",
      "Epoch 123/200\n",
      "1/1 [==============================] - 0s 2ms/step - loss: 1104.7795\n",
      "Epoch 124/200\n",
      "1/1 [==============================] - 0s 2ms/step - loss: 1104.8208\n",
      "Epoch 125/200\n",
      "1/1 [==============================] - 0s 3ms/step - loss: 1104.7968\n",
      "Epoch 126/200\n",
      "1/1 [==============================] - 0s 4ms/step - loss: 1104.7710\n",
      "Epoch 127/200\n",
      "1/1 [==============================] - 0s 7ms/step - loss: 1104.7793\n",
      "Epoch 128/200\n",
      "1/1 [==============================] - 0s 9ms/step - loss: 1104.7734\n",
      "Epoch 129/200\n",
      "1/1 [==============================] - 0s 2ms/step - loss: 1104.7644\n",
      "Epoch 130/200\n",
      "1/1 [==============================] - 0s 2ms/step - loss: 1104.7881\n",
      "Epoch 131/200\n",
      "1/1 [==============================] - 0s 2ms/step - loss: 1104.7834\n",
      "Epoch 132/200\n",
      "1/1 [==============================] - 0s 2ms/step - loss: 1104.7605\n",
      "Epoch 133/200\n",
      "1/1 [==============================] - 0s 2ms/step - loss: 1104.7805\n",
      "Epoch 134/200\n",
      "1/1 [==============================] - 0s 2ms/step - loss: 1104.7644\n",
      "Epoch 135/200\n",
      "1/1 [==============================] - 0s 2ms/step - loss: 1104.7820\n",
      "Epoch 136/200\n",
      "1/1 [==============================] - 0s 2ms/step - loss: 1104.7632\n",
      "Epoch 137/200\n",
      "1/1 [==============================] - 0s 3ms/step - loss: 1104.7698\n",
      "Epoch 138/200\n",
      "1/1 [==============================] - 0s 5ms/step - loss: 1104.7764\n",
      "Epoch 139/200\n",
      "1/1 [==============================] - 0s 2ms/step - loss: 1104.7634\n",
      "Epoch 140/200\n",
      "1/1 [==============================] - 0s 2ms/step - loss: 1104.7773\n",
      "Epoch 141/200\n",
      "1/1 [==============================] - 0s 2ms/step - loss: 1104.7626\n",
      "Epoch 142/200\n",
      "1/1 [==============================] - 0s 5ms/step - loss: 1104.7655\n",
      "Epoch 143/200\n",
      "1/1 [==============================] - 0s 2ms/step - loss: 1104.7670\n",
      "Epoch 144/200\n",
      "1/1 [==============================] - 0s 4ms/step - loss: 1104.7678\n",
      "Epoch 145/200\n",
      "1/1 [==============================] - 0s 7ms/step - loss: 1104.7697\n",
      "Epoch 146/200\n",
      "1/1 [==============================] - 0s 2ms/step - loss: 1104.7571\n",
      "Epoch 147/200\n",
      "1/1 [==============================] - 0s 4ms/step - loss: 1104.7915\n",
      "Epoch 148/200\n",
      "1/1 [==============================] - 0s 4ms/step - loss: 1104.7717\n",
      "Epoch 149/200\n",
      "1/1 [==============================] - 0s 1ms/step - loss: 1104.7966\n",
      "Epoch 150/200\n",
      "1/1 [==============================] - 0s 3ms/step - loss: 1104.7556\n",
      "Epoch 151/200\n",
      "1/1 [==============================] - 0s 2ms/step - loss: 1104.8247\n",
      "Epoch 152/200\n",
      "1/1 [==============================] - 0s 3ms/step - loss: 1104.7620\n",
      "Epoch 153/200\n",
      "1/1 [==============================] - 0s 3ms/step - loss: 1104.7861\n",
      "Epoch 154/200\n",
      "1/1 [==============================] - 0s 3ms/step - loss: 1104.7764\n",
      "Epoch 155/200\n",
      "1/1 [==============================] - 0s 9ms/step - loss: 1104.7756\n",
      "Epoch 156/200\n",
      "1/1 [==============================] - 0s 7ms/step - loss: 1104.7815\n",
      "Epoch 157/200\n",
      "1/1 [==============================] - 0s 6ms/step - loss: 1104.7748\n",
      "Epoch 158/200\n",
      "1/1 [==============================] - 0s 6ms/step - loss: 1104.7753\n",
      "Epoch 159/200\n",
      "1/1 [==============================] - 0s 11ms/step - loss: 1104.7715\n",
      "Epoch 160/200\n",
      "1/1 [==============================] - 0s 8ms/step - loss: 1104.7709\n",
      "Epoch 161/200\n",
      "1/1 [==============================] - 0s 14ms/step - loss: 1104.7675\n",
      "Epoch 162/200\n",
      "1/1 [==============================] - 0s 12ms/step - loss: 1104.7656\n",
      "Epoch 163/200\n",
      "1/1 [==============================] - ETA: 0s - loss: 1104.75 - 0s 4ms/step - loss: 1104.7594\n",
      "Epoch 164/200\n",
      "1/1 [==============================] - 0s 1ms/step - loss: 1104.7671\n",
      "Epoch 165/200\n",
      "1/1 [==============================] - 0s 1ms/step - loss: 1104.7634\n",
      "Epoch 166/200\n",
      "1/1 [==============================] - 0s 12ms/step - loss: 1104.7738\n",
      "Epoch 167/200\n",
      "1/1 [==============================] - 0s 3ms/step - loss: 1104.7717\n",
      "Epoch 168/200\n",
      "1/1 [==============================] - 0s 3ms/step - loss: 1104.8175\n",
      "Epoch 169/200\n",
      "1/1 [==============================] - 0s 7ms/step - loss: 1104.7972\n",
      "Epoch 170/200\n",
      "1/1 [==============================] - 0s 8ms/step - loss: 1104.8894\n",
      "Epoch 171/200\n",
      "1/1 [==============================] - 0s 9ms/step - loss: 1104.8003\n",
      "Epoch 172/200\n",
      "1/1 [==============================] - 0s 4ms/step - loss: 1104.7761\n",
      "Epoch 173/200\n",
      "1/1 [==============================] - 0s 3ms/step - loss: 1104.8065\n",
      "Epoch 174/200\n",
      "1/1 [==============================] - 0s 3ms/step - loss: 1104.7844\n",
      "Epoch 175/200\n",
      "1/1 [==============================] - 0s 3ms/step - loss: 1104.8035\n",
      "Epoch 176/200\n",
      "1/1 [==============================] - 0s 3ms/step - loss: 1104.7971\n",
      "Epoch 177/200\n",
      "1/1 [==============================] - 0s 3ms/step - loss: 1104.7634\n",
      "Epoch 178/200\n",
      "1/1 [==============================] - 0s 3ms/step - loss: 1104.7827\n",
      "Epoch 179/200\n",
      "1/1 [==============================] - 0s 3ms/step - loss: 1104.7703\n",
      "Epoch 180/200\n",
      "1/1 [==============================] - 0s 3ms/step - loss: 1104.7633\n",
      "Epoch 181/200\n",
      "1/1 [==============================] - 0s 3ms/step - loss: 1104.7799\n",
      "Epoch 182/200\n",
      "1/1 [==============================] - 0s 4ms/step - loss: 1104.7604\n",
      "Epoch 183/200\n",
      "1/1 [==============================] - 0s 5ms/step - loss: 1104.7659\n",
      "Epoch 184/200\n",
      "1/1 [==============================] - 0s 5ms/step - loss: 1104.7583\n",
      "Epoch 185/200\n",
      "1/1 [==============================] - 0s 3ms/step - loss: 1104.7625\n",
      "Epoch 186/200\n",
      "1/1 [==============================] - 0s 4ms/step - loss: 1104.7582\n",
      "Epoch 187/200\n",
      "1/1 [==============================] - 0s 11ms/step - loss: 1104.7859\n",
      "Epoch 188/200\n",
      "1/1 [==============================] - 0s 4ms/step - loss: 1104.7854\n",
      "Epoch 189/200\n",
      "1/1 [==============================] - 0s 3ms/step - loss: 1104.7532\n",
      "Epoch 190/200\n",
      "1/1 [==============================] - 0s 3ms/step - loss: 1104.8296\n",
      "Epoch 191/200\n",
      "1/1 [==============================] - 0s 6ms/step - loss: 1104.7642\n",
      "Epoch 192/200\n",
      "1/1 [==============================] - 0s 4ms/step - loss: 1104.7925\n",
      "Epoch 193/200\n",
      "1/1 [==============================] - 0s 4ms/step - loss: 1104.7788\n",
      "Epoch 194/200\n",
      "1/1 [==============================] - 0s 5ms/step - loss: 1104.7770\n",
      "Epoch 195/200\n",
      "1/1 [==============================] - 0s 5ms/step - loss: 1104.7866\n",
      "Epoch 196/200\n",
      "1/1 [==============================] - 0s 1ms/step - loss: 1104.7805\n",
      "Epoch 197/200\n",
      "1/1 [==============================] - 0s 11ms/step - loss: 1104.7809\n",
      "Epoch 198/200\n",
      "1/1 [==============================] - 0s 1ms/step - loss: 1104.7855\n",
      "Epoch 199/200\n"
     ]
    },
    {
     "name": "stdout",
     "output_type": "stream",
     "text": [
      "1/1 [==============================] - 0s 1ms/step - loss: 1104.7856\n",
      "Epoch 200/200\n",
      "1/1 [==============================] - 0s 2ms/step - loss: 1104.7837\n"
     ]
    }
   ],
   "source": [
    "tfsf = tfSF.SFilter(n_features=learned_features)\n",
    "tfsf.fit(data['X_tr'], epochs=n_epochs, batchsize=900)"
   ]
  },
  {
   "cell_type": "markdown",
   "metadata": {},
   "source": [
    "We train the npSF module."
   ]
  },
  {
   "cell_type": "code",
   "execution_count": 6,
   "metadata": {},
   "outputs": [],
   "source": [
    "npsf = npSF.SFilter()\n",
    "npsf.setFeatures(learned_features)\n",
    "npsf.setTrainData(data['X_tr'])\n",
    "npsf.initializeWeights()\n",
    "npsf.initialiazeNotebook()\n",
    "npsf.train()"
   ]
  },
  {
   "cell_type": "markdown",
   "metadata": {},
   "source": [
    "We plot the loss function to verify that the models converged to a solution."
   ]
  },
  {
   "cell_type": "code",
   "execution_count": 7,
   "metadata": {},
   "outputs": [
    {
     "data": {
      "text/plain": [
       "<matplotlib.legend.Legend at 0x7fdc8c2c7a20>"
      ]
     },
     "execution_count": 7,
     "metadata": {},
     "output_type": "execute_result"
    },
    {
     "data": {
      "image/png": "[encoded data removed]",
      "text/plain": [
       "<Figure size 432x288 with 1 Axes>"
      ]
     },
     "metadata": {
      "needs_background": "light"
     },
     "output_type": "display_data"
    }
   ],
   "source": [
    "plt.title('Loss'); \n",
    "plt.xlabel('Epochs'); \n",
    "plt.ylabel('L1 loss');\n",
    "\n",
    "plt.plot(npsf.notebook['losses'],label='npSF')\n",
    "plt.plot(tfsf.hist.history['loss'],label='tfSF')\n",
    "plt.legend()"
   ]
  },
  {
   "cell_type": "markdown",
   "metadata": {},
   "source": [
    "We compute the information-theoretic statistics of interest (entropy and mutual information) at each iteration."
   ]
  },
  {
   "cell_type": "code",
   "execution_count": 8,
   "metadata": {},
   "outputs": [],
   "source": [
    "npWs = npsf.notebook['weights']    \n",
    "    \n",
    "np_Z_tes = []; np_MI_XZs = []; np_H_Zs = []  \n",
    "for W in npWs:\n",
    "    Z_te = computeZ(data['X_te'],W)\n",
    "    \n",
    "    np_Z_tes.append(Z_te)\n",
    "    np_MI_XZs.append(IT.compute_MI_bin(data['X_te'],Z_te,bins=IT_bins))\n",
    "    np_H_Zs.append(IT.compute_H_bin(Z_te,bins=IT_bins))\n",
    "\n",
    "\n",
    "tfWs = tfsf.weights\n",
    "\n",
    "tf_Z_tes = []; tf_MI_XZs = []; tf_H_Zs = []  \n",
    "for W in tfWs:\n",
    "    Z_te = computeZ(data['X_te'],W)\n",
    "    \n",
    "    tf_Z_tes.append(Z_te)\n",
    "    tf_MI_XZs.append(IT.compute_MI_bin(data['X_te'],Z_te,bins=IT_bins))\n",
    "    tf_H_Zs.append(IT.compute_H_bin(Z_te,bins=IT_bins))"
   ]
  },
  {
   "cell_type": "code",
   "execution_count": 9,
   "metadata": {},
   "outputs": [],
   "source": [
    "Z_trs = []\n",
    "for W in tfWs:\n",
    "    Z_tr = computeZ(data['X_tr'],W)\n",
    "    Z_trs.append(Z_tr)"
   ]
  },
  {
   "cell_type": "markdown",
   "metadata": {},
   "source": [
    "We plot entropy and mutual information."
   ]
  },
  {
   "cell_type": "code",
   "execution_count": 10,
   "metadata": {},
   "outputs": [
    {
     "data": {
      "text/plain": [
       "[<matplotlib.lines.Line2D at 0x7fdc8c1344a8>]"
      ]
     },
     "execution_count": 10,
     "metadata": {},
     "output_type": "execute_result"
    },
    {
     "data": {
      "image/png": "[encoded data removed]",
      "text/plain": [
       "<Figure size 432x288 with 4 Axes>"
      ]
     },
     "metadata": {
      "needs_background": "light"
     },
     "output_type": "display_data"
    }
   ],
   "source": [
    "_,ax = plt.subplots(2,2)\n",
    "\n",
    "ax[0,0].plot(np_MI_XZs)\n",
    "ax[0,0].set_title('npSF: I(X;Z)')\n",
    "ax[0,0].set_xlabel('Epochs')\n",
    "ax[0,0].set_ylabel('Bits')\n",
    "ax[0,0].plot(linreg(np.arange(len(np_MI_XZs)),np_MI_XZs),'r--')\n",
    "\n",
    "ax[0,1].plot(tf_MI_XZs)\n",
    "ax[0,1].set_title('tfSF: I(X;Z)')\n",
    "ax[0,1].set_xlabel('Epochs')\n",
    "ax[0,1].set_ylabel('Bits')\n",
    "ax[0,1].plot(linreg(np.arange(n_epochs),tf_MI_XZs),'r--')\n",
    "\n",
    "ax[1,0].plot(np_H_Zs)\n",
    "ax[1,0].set_title('npSF: H(Z)')\n",
    "ax[1,0].set_xlabel('Epochs')\n",
    "ax[1,0].set_ylabel('Bits')\n",
    "ax[1,0].plot(linreg(np.arange(len(np_H_Zs)),np_H_Zs),'r--')\n",
    "\n",
    "ax[1,1].plot(tf_H_Zs)\n",
    "ax[1,1].set_title('tfSF: H(Z)')\n",
    "ax[1,1].set_xlabel('Epochs')\n",
    "ax[1,1].set_ylabel('Bits')\n",
    "ax[1,1].plot(linreg(np.arange(n_epochs),tf_H_Zs),'r--')"
   ]
  },
  {
   "cell_type": "markdown",
   "metadata": {},
   "source": [
    "And the information graphs."
   ]
  },
  {
   "cell_type": "code",
   "execution_count": 11,
   "metadata": {},
   "outputs": [
    {
     "data": {
      "text/plain": [
       "<matplotlib.collections.PathCollection at 0x7fdc8c0495f8>"
      ]
     },
     "execution_count": 11,
     "metadata": {},
     "output_type": "execute_result"
    },
    {
     "data": {
      "image/png": "[encoded data removed]",
      "text/plain": [
       "<Figure size 432x288 with 2 Axes>"
      ]
     },
     "metadata": {
      "needs_background": "light"
     },
     "output_type": "display_data"
    }
   ],
   "source": [
    "_,ax = plt.subplots(1,2)\n",
    "\n",
    "ax[0].set_title('npSF: Info plot'); \n",
    "ax[0].set_xlabel('I(X;T)'); \n",
    "ax[0].set_ylabel('H(T)'); \n",
    "ax[0].plot(np_MI_XZs,np_H_Zs,c='black', zorder=0)\n",
    "ax[0].scatter(np_MI_XZs[1:-1],np_H_Zs[1:-1],c='black',s=30, zorder=1)\n",
    "ax[0].scatter(np_MI_XZs[0],np_H_Zs[0],c='green',s=75,zorder=2)\n",
    "ax[0].scatter(np_MI_XZs[-1],np_H_Zs[-1],c='red',s=75,zorder=2)\n",
    "\n",
    "ax[1].set_title('tfSF: Info plot'); \n",
    "ax[1].set_xlabel('I(X;T)'); \n",
    "ax[1].set_ylabel('H(T)'); \n",
    "ax[1].plot(tf_MI_XZs,tf_H_Zs,c='black', zorder=0)\n",
    "ax[1].scatter(tf_MI_XZs[1:-1],tf_H_Zs[1:-1],c='black',s=30, zorder=1)\n",
    "ax[1].scatter(tf_MI_XZs[0],tf_H_Zs[0],c='green',s=75,zorder=2)\n",
    "ax[1].scatter(tf_MI_XZs[-1],tf_H_Zs[-1],c='red',s=75,zorder=2)"
   ]
  },
  {
   "cell_type": "markdown",
   "metadata": {},
   "source": [
    "### References\n",
    "\n",
    "[1] Zennaro, F.M. and Chen, K., 2019. Towards Further Understanding of Sparse Filtering via Information Bottleneck. arXiv preprint arXiv:1910.08964."
   ]
  }
 ],
 "metadata": {
  "kernelspec": {
   "display_name": "Python 3",
   "language": "python",
   "name": "python3"
  },
  "language_info": {
   "codemirror_mode": {
    "name": "ipython",
    "version": 3
   },
   "file_extension": ".py",
   "mimetype": "text/x-python",
   "name": "python",
   "nbconvert_exporter": "python",
   "pygments_lexer": "ipython3",
   "version": "3.6.10"
  }
 },
 "nbformat": 4,
 "nbformat_minor": 4
}
