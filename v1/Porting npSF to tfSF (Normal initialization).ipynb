{
 "cells": [
  {
   "cell_type": "markdown",
   "metadata": {},
   "source": [
    "# Porting Sparse Filtering from *numpy* to *Tensorflow*\n",
    "\n",
    "In this notebook we review the porting of the sparse filtering (SF) from its basic python implementation in *numpy* into a *tensorflow* module.\n",
    "\n",
    "1. Definition of SF\n",
    "2. Analysis of npSF code\n",
    "3. Analysis of tfSF code\n",
    "4. Comparison of npSF vs tfSF"
   ]
  },
  {
   "cell_type": "markdown",
   "metadata": {},
   "source": [
    "Before starting we import libraries:"
   ]
  },
  {
   "cell_type": "code",
   "execution_count": 1,
   "metadata": {},
   "outputs": [],
   "source": [
    "import numpy as np\n",
    "import tensorflow as tf\n",
    "import matplotlib.pyplot as plt\n",
    "from tqdm import tqdm"
   ]
  },
  {
   "cell_type": "markdown",
   "metadata": {},
   "source": [
    "## 1. Definition of SF\n",
    "\n",
    "The SF algorithm was first proposed by Ngiam et al. [1]. An implementation of the algorithm in *Matlab* was provided by the authors [2]. A first porting in python was made public in [3]; a further porting and extension is provided at [4]."
   ]
  },
  {
   "cell_type": "markdown",
   "metadata": {},
   "source": [
    "## 2. Analysis of npSF code\n",
    "\n",
    "From now on we will refer to the basic implementation of SF relying on *numpy* as **npSF**. The implementation we refer to is avaiable at ; this is a simplified version of the code in [4].\n",
    "\n",
    "### Structure\n",
    "The code of *npSf.py* is organized as follows:\n",
    "- **External functions**: support functions\n",
    "    - *Normalizations*:\n",
    "        - l2row(): L2-normalization along the rows\n",
    "        - l2rowg(): derivative of L2-normalization along the rows\n",
    "    - *Non-linearities*:\n",
    "        - softabsolute(): soft-abs function\n",
    "        - deriv_softabsolute(): derivative of soft-abs function\n",
    "- **SFilter class**: instantiates an object that constitute a shallow SF algorithm\n",
    "    - *Initializers*:\n",
    "        - setFeatures(): method to set the number of learned features\n",
    "        - setTrainData(): method to set the training data\n",
    "        - setWeights(): method to set the weights\n",
    "        - initializeWeights(): method to randomly initialize the weights\n",
    "        - initializeNotebook(): method to initialize the logging systems\n",
    "    - *Training\":\n",
    "        - train(): method to train the SF module\n",
    "        - callbackIteration(): method to manage the logging\n",
    "        - writeNotebook(): method to persist the logging\n",
    "    - *Feedforward*:\n",
    "        - feedForward(): method to process data"
   ]
  },
  {
   "cell_type": "markdown",
   "metadata": {},
   "source": [
    "### Usage\n",
    "\n",
    "Use of the npSF code is straigthforward. First, we generate sample data $X$."
   ]
  },
  {
   "cell_type": "code",
   "execution_count": 2,
   "metadata": {},
   "outputs": [],
   "source": [
    "maxX = 5\n",
    "minX = -5\n",
    "\n",
    "n_samples = 10\n",
    "original_features = 2 \n",
    "\n",
    "X = (minX-maxX) * np.random.rand(n_samples,original_features) + maxX"
   ]
  },
  {
   "cell_type": "markdown",
   "metadata": {},
   "source": [
    "Next, we instantiate a npSF module."
   ]
  },
  {
   "cell_type": "code",
   "execution_count": 3,
   "metadata": {},
   "outputs": [],
   "source": [
    "import npSF\n",
    "npsf = npSF.SFilter()"
   ]
  },
  {
   "cell_type": "markdown",
   "metadata": {},
   "source": [
    "We specify the number of learned features, we set the training data, we initialize the weights and the logging system."
   ]
  },
  {
   "cell_type": "code",
   "execution_count": 4,
   "metadata": {},
   "outputs": [],
   "source": [
    "npsf.setFeatures(2)\n",
    "npsf.setTrainData(X)\n",
    "npsf.initializeWeights()\n",
    "npsf.initialiazeNotebook()"
   ]
  },
  {
   "cell_type": "markdown",
   "metadata": {},
   "source": [
    "Finally, we train the module."
   ]
  },
  {
   "cell_type": "code",
   "execution_count": 5,
   "metadata": {},
   "outputs": [],
   "source": [
    "npsf.train()"
   ]
  },
  {
   "cell_type": "markdown",
   "metadata": {},
   "source": [
    "We can now obtain the learned representation of the data:"
   ]
  },
  {
   "cell_type": "code",
   "execution_count": 6,
   "metadata": {},
   "outputs": [],
   "source": [
    "Z = npsf.feedForward(X)"
   ]
  },
  {
   "cell_type": "markdown",
   "metadata": {},
   "source": [
    "We can now plot and observe the original data and the learned representation."
   ]
  },
  {
   "cell_type": "code",
   "execution_count": 7,
   "metadata": {},
   "outputs": [
    {
     "data": {
      "text/plain": [
       "Text(0.5, 1.0, 'Learned data')"
      ]
     },
     "execution_count": 7,
     "metadata": {},
     "output_type": "execute_result"
    },
    {
     "data": {
      "image/png": "[encoded data removed]",
      "text/plain": [
       "<Figure size 432x288 with 2 Axes>"
      ]
     },
     "metadata": {
      "needs_background": "light"
     },
     "output_type": "display_data"
    }
   ],
   "source": [
    "fig, ax = plt.subplots(1,2)\n",
    "ax[0].scatter(X[:,0],X[:,1])\n",
    "ax[0].axhline(0,color='black')\n",
    "ax[0].axvline(0,color='black')\n",
    "ax[0].set_title('Original data')\n",
    "\n",
    "ax[1].scatter(Z[:,0],Z[:,1])\n",
    "ax[1].axhline(0,color='black')\n",
    "ax[1].axvline(0,color='black')\n",
    "ax[1].set_title('Learned data')"
   ]
  },
  {
   "cell_type": "markdown",
   "metadata": {},
   "source": [
    "## 2. Analysis of tfSF code\n",
    "\n",
    "From now on we will refer to the implementation of SF relying on *tensorflow* as **tfSF**. The implementation we refer to is avaiable at .\n",
    "\n",
    "### Structure\n",
    "The code of *npSf.py* is organized as follows:\n",
    "- **External functions**: support functions\n",
    "    - *Losses*:\n",
    "        - L1loss(): L1 loss function\n",
    "- **SFLayer class**: defines a SF layer as a Keras layer\n",
    "    - *Initializers*:\n",
    "        - build(): initialize the weights\n",
    "    - *Support functions*\n",
    "        - l2row(): L2-normalization along the rows\n",
    "        - softabsolute(): soft-abs functionze the weights\n",
    "    - *Feedforward*:\n",
    "        - call(): method to process data\n",
    "- **SFilter class**: instantiates an object that constitute a shallow SF algorithm in the form of a 1-layer Keras neural network\n",
    "    - *Training\":\n",
    "        - fit(): method to train the SF module\n",
    "    - *Feedforward*:\n",
    "        - transform(): method to process data\n",
    "        \n",
    "In this new implementation the algorithm of SF is implemented as a neural network layer. *SFilter* provides an interface that returns a neural network with a single SF layer."
   ]
  },
  {
   "cell_type": "markdown",
   "metadata": {},
   "source": [
    "Use of the npSF code is straigthforward. Using the data $X$ we generated before, we instantiate a tfSF module, at the same time specifying the number of features we want to learn."
   ]
  },
  {
   "cell_type": "code",
   "execution_count": 8,
   "metadata": {},
   "outputs": [],
   "source": [
    "import tfSF\n",
    "tfsf = tfSF.SFilter(n_features=2)"
   ]
  },
  {
   "cell_type": "code",
   "execution_count": 9,
   "metadata": {},
   "outputs": [
    {
     "data": {
      "text/plain": [
       "array([[ 1.42461530e+00, -3.49685745e-03],\n",
       "       [-1.24258605e+00, -5.61220254e-01],\n",
       "       [-1.98530872e+00,  2.61247201e+00],\n",
       "       [-3.44000701e-01, -2.37249944e+00],\n",
       "       [-1.52119136e+00, -2.59115131e+00],\n",
       "       [ 3.04950973e+00, -4.34898255e+00],\n",
       "       [-3.71716381e+00,  3.86175947e-01],\n",
       "       [-4.68303290e+00, -3.08033105e+00],\n",
       "       [-4.11307859e+00, -1.90251055e+00],\n",
       "       [ 5.35839887e-01, -3.54055141e+00]])"
      ]
     },
     "execution_count": 9,
     "metadata": {},
     "output_type": "execute_result"
    }
   ],
   "source": [
    "X"
   ]
  },
  {
   "cell_type": "markdown",
   "metadata": {},
   "source": [
    "We then fit the model to the data."
   ]
  },
  {
   "cell_type": "code",
   "execution_count": 10,
   "metadata": {},
   "outputs": [
    {
     "name": "stdout",
     "output_type": "stream",
     "text": [
      "Epoch 1/200\n",
      "1/1 [==============================] - 0s 3ms/step - loss: 12.8566\n",
      "Epoch 2/200\n",
      "1/1 [==============================] - 0s 1ms/step - loss: 12.3716\n",
      "Epoch 3/200\n",
      "1/1 [==============================] - 0s 2ms/step - loss: 12.3438\n",
      "Epoch 4/200\n",
      "1/1 [==============================] - 0s 2ms/step - loss: 12.2629\n",
      "Epoch 5/200\n",
      "1/1 [==============================] - 0s 4ms/step - loss: 12.3572\n",
      "Epoch 6/200\n",
      "1/1 [==============================] - 0s 3ms/step - loss: 12.3274\n",
      "Epoch 7/200\n",
      "1/1 [==============================] - 0s 2ms/step - loss: 12.2680\n",
      "Epoch 8/200\n",
      "1/1 [==============================] - 0s 3ms/step - loss: 12.2691\n",
      "Epoch 9/200\n",
      "1/1 [==============================] - 0s 2ms/step - loss: 12.2444\n",
      "Epoch 10/200\n",
      "1/1 [==============================] - 0s 2ms/step - loss: 12.2138\n",
      "Epoch 11/200\n",
      "1/1 [==============================] - 0s 1ms/step - loss: 12.1867\n",
      "Epoch 12/200\n",
      "1/1 [==============================] - 0s 2ms/step - loss: 12.1945\n",
      "Epoch 13/200\n",
      "1/1 [==============================] - 0s 1ms/step - loss: 12.2087\n",
      "Epoch 14/200\n",
      "1/1 [==============================] - ETA: 0s - loss: 12.21 - 0s 4ms/step - loss: 12.2154\n",
      "Epoch 15/200\n",
      "1/1 [==============================] - 0s 2ms/step - loss: 12.1823\n",
      "Epoch 16/200\n",
      "1/1 [==============================] - 0s 2ms/step - loss: 12.2031\n",
      "Epoch 17/200\n",
      "1/1 [==============================] - 0s 4ms/step - loss: 12.2202\n",
      "Epoch 18/200\n",
      "1/1 [==============================] - 0s 7ms/step - loss: 12.1864\n",
      "Epoch 19/200\n",
      "1/1 [==============================] - 0s 3ms/step - loss: 12.1844\n",
      "Epoch 20/200\n",
      "1/1 [==============================] - 0s 2ms/step - loss: 12.2079\n",
      "Epoch 21/200\n",
      "1/1 [==============================] - 0s 2ms/step - loss: 12.1972\n",
      "Epoch 22/200\n",
      "1/1 [==============================] - 0s 2ms/step - loss: 12.1666\n",
      "Epoch 23/200\n",
      "1/1 [==============================] - 0s 2ms/step - loss: 12.1854\n",
      "Epoch 24/200\n",
      "1/1 [==============================] - 0s 3ms/step - loss: 12.1904\n",
      "Epoch 25/200\n",
      "1/1 [==============================] - 0s 5ms/step - loss: 12.1739\n",
      "Epoch 26/200\n",
      "1/1 [==============================] - 0s 2ms/step - loss: 12.1695\n",
      "Epoch 27/200\n",
      "1/1 [==============================] - 0s 2ms/step - loss: 12.1671\n",
      "Epoch 28/200\n",
      "1/1 [==============================] - 0s 2ms/step - loss: 12.1794\n",
      "Epoch 29/200\n",
      "1/1 [==============================] - 0s 4ms/step - loss: 12.1635\n",
      "Epoch 30/200\n",
      "1/1 [==============================] - 0s 11ms/step - loss: 12.1822\n",
      "Epoch 31/200\n",
      "1/1 [==============================] - 0s 3ms/step - loss: 12.1802\n",
      "Epoch 32/200\n",
      "1/1 [==============================] - 0s 7ms/step - loss: 12.1696\n",
      "Epoch 33/200\n",
      "1/1 [==============================] - 0s 16ms/step - loss: 12.1842\n",
      "Epoch 34/200\n",
      "1/1 [==============================] - 0s 7ms/step - loss: 12.1649\n",
      "Epoch 35/200\n",
      "1/1 [==============================] - 0s 6ms/step - loss: 12.1705\n",
      "Epoch 36/200\n",
      "1/1 [==============================] - 0s 7ms/step - loss: 12.1647\n",
      "Epoch 37/200\n",
      "1/1 [==============================] - 0s 4ms/step - loss: 12.1636\n",
      "Epoch 38/200\n",
      "1/1 [==============================] - 0s 4ms/step - loss: 12.1638\n",
      "Epoch 39/200\n",
      "1/1 [==============================] - 0s 2ms/step - loss: 12.1685\n",
      "Epoch 40/200\n",
      "1/1 [==============================] - 0s 6ms/step - loss: 12.1669\n",
      "Epoch 41/200\n",
      "1/1 [==============================] - 0s 5ms/step - loss: 12.1716\n",
      "Epoch 42/200\n",
      "1/1 [==============================] - 0s 3ms/step - loss: 12.1657\n",
      "Epoch 43/200\n",
      "1/1 [==============================] - 0s 3ms/step - loss: 12.1870\n",
      "Epoch 44/200\n",
      "1/1 [==============================] - 0s 4ms/step - loss: 12.1741\n",
      "Epoch 45/200\n",
      "1/1 [==============================] - 0s 4ms/step - loss: 12.1771\n",
      "Epoch 46/200\n",
      "1/1 [==============================] - 0s 3ms/step - loss: 12.1660\n",
      "Epoch 47/200\n",
      "1/1 [==============================] - 0s 3ms/step - loss: 12.1673\n",
      "Epoch 48/200\n",
      "1/1 [==============================] - 0s 4ms/step - loss: 12.1678\n",
      "Epoch 49/200\n",
      "1/1 [==============================] - 0s 3ms/step - loss: 12.1683\n",
      "Epoch 50/200\n",
      "1/1 [==============================] - 0s 3ms/step - loss: 12.1639\n",
      "Epoch 51/200\n",
      "1/1 [==============================] - 0s 6ms/step - loss: 12.1671\n",
      "Epoch 52/200\n",
      "1/1 [==============================] - 0s 3ms/step - loss: 12.1683\n",
      "Epoch 53/200\n",
      "1/1 [==============================] - 0s 4ms/step - loss: 12.1665\n",
      "Epoch 54/200\n",
      "1/1 [==============================] - 0s 3ms/step - loss: 12.1633\n",
      "Epoch 55/200\n",
      "1/1 [==============================] - 0s 3ms/step - loss: 12.1788\n",
      "Epoch 56/200\n",
      "1/1 [==============================] - 0s 3ms/step - loss: 12.1697\n",
      "Epoch 57/200\n",
      "1/1 [==============================] - 0s 3ms/step - loss: 12.1755\n",
      "Epoch 58/200\n",
      "1/1 [==============================] - 0s 2ms/step - loss: 12.1700\n",
      "Epoch 59/200\n",
      "1/1 [==============================] - 0s 3ms/step - loss: 12.1864\n",
      "Epoch 60/200\n",
      "1/1 [==============================] - 0s 3ms/step - loss: 12.1840\n",
      "Epoch 61/200\n",
      "1/1 [==============================] - 0s 3ms/step - loss: 12.1780\n",
      "Epoch 62/200\n",
      "1/1 [==============================] - 0s 5ms/step - loss: 12.1674\n",
      "Epoch 63/200\n",
      "1/1 [==============================] - 0s 6ms/step - loss: 12.1831\n",
      "Epoch 64/200\n",
      "1/1 [==============================] - 0s 4ms/step - loss: 12.1863\n",
      "Epoch 65/200\n",
      "1/1 [==============================] - 0s 4ms/step - loss: 12.1705\n",
      "Epoch 66/200\n",
      "1/1 [==============================] - 0s 3ms/step - loss: 12.1867\n",
      "Epoch 67/200\n",
      "1/1 [==============================] - 0s 3ms/step - loss: 12.1713\n",
      "Epoch 68/200\n",
      "1/1 [==============================] - 0s 3ms/step - loss: 12.1827\n",
      "Epoch 69/200\n",
      "1/1 [==============================] - 0s 7ms/step - loss: 12.1883\n",
      "Epoch 70/200\n",
      "1/1 [==============================] - 0s 947us/step - loss: 12.1681\n",
      "Epoch 71/200\n",
      "1/1 [==============================] - 0s 980us/step - loss: 12.1965\n",
      "Epoch 72/200\n",
      "1/1 [==============================] - 0s 4ms/step - loss: 12.2168\n",
      "Epoch 73/200\n",
      "1/1 [==============================] - 0s 2ms/step - loss: 12.1953\n",
      "Epoch 74/200\n",
      "1/1 [==============================] - 0s 4ms/step - loss: 12.1875\n",
      "Epoch 75/200\n",
      "1/1 [==============================] - 0s 4ms/step - loss: 12.1970\n",
      "Epoch 76/200\n",
      "1/1 [==============================] - 0s 4ms/step - loss: 12.1944\n",
      "Epoch 77/200\n",
      "1/1 [==============================] - 0s 4ms/step - loss: 12.1635\n",
      "Epoch 78/200\n",
      "1/1 [==============================] - 0s 4ms/step - loss: 12.1855\n",
      "Epoch 79/200\n",
      "1/1 [==============================] - 0s 8ms/step - loss: 12.1770\n",
      "Epoch 80/200\n",
      "1/1 [==============================] - 0s 10ms/step - loss: 12.1748\n",
      "Epoch 81/200\n",
      "1/1 [==============================] - 0s 7ms/step - loss: 12.1795\n",
      "Epoch 82/200\n",
      "1/1 [==============================] - 0s 4ms/step - loss: 12.1725\n",
      "Epoch 83/200\n",
      "1/1 [==============================] - 0s 7ms/step - loss: 12.1733\n",
      "Epoch 84/200\n",
      "1/1 [==============================] - 0s 4ms/step - loss: 12.1729\n",
      "Epoch 85/200\n",
      "1/1 [==============================] - 0s 4ms/step - loss: 12.1663\n",
      "Epoch 86/200\n",
      "1/1 [==============================] - 0s 4ms/step - loss: 12.1662\n",
      "Epoch 87/200\n",
      "1/1 [==============================] - 0s 8ms/step - loss: 12.1717\n",
      "Epoch 88/200\n",
      "1/1 [==============================] - 0s 961us/step - loss: 12.1659\n",
      "Epoch 89/200\n",
      "1/1 [==============================] - 0s 2ms/step - loss: 12.1671\n",
      "Epoch 90/200\n",
      "1/1 [==============================] - 0s 3ms/step - loss: 12.1735\n",
      "Epoch 91/200\n",
      "1/1 [==============================] - 0s 2ms/step - loss: 12.1701\n",
      "Epoch 92/200\n",
      "1/1 [==============================] - 0s 4ms/step - loss: 12.1698\n",
      "Epoch 93/200\n",
      "1/1 [==============================] - 0s 7ms/step - loss: 12.1723\n",
      "Epoch 94/200\n",
      "1/1 [==============================] - 0s 7ms/step - loss: 12.1727\n",
      "Epoch 95/200\n",
      "1/1 [==============================] - 0s 4ms/step - loss: 12.1649\n",
      "Epoch 96/200\n",
      "1/1 [==============================] - 0s 2ms/step - loss: 12.1737\n",
      "Epoch 97/200\n",
      "1/1 [==============================] - 0s 1ms/step - loss: 12.1755\n",
      "Epoch 98/200\n",
      "1/1 [==============================] - 0s 6ms/step - loss: 12.1672\n",
      "Epoch 99/200\n",
      "1/1 [==============================] - 0s 6ms/step - loss: 12.1774\n",
      "Epoch 100/200\n",
      "1/1 [==============================] - 0s 1ms/step - loss: 12.1813\n",
      "Epoch 101/200\n",
      "1/1 [==============================] - 0s 6ms/step - loss: 12.1804\n",
      "Epoch 102/200\n",
      "1/1 [==============================] - 0s 1ms/step - loss: 12.1854\n",
      "Epoch 103/200\n"
     ]
    },
    {
     "name": "stdout",
     "output_type": "stream",
     "text": [
      "1/1 [==============================] - 0s 2ms/step - loss: 12.1646\n",
      "Epoch 104/200\n",
      "1/1 [==============================] - 0s 3ms/step - loss: 12.1830\n",
      "Epoch 105/200\n",
      "1/1 [==============================] - 0s 1ms/step - loss: 12.1951\n",
      "Epoch 106/200\n",
      "1/1 [==============================] - 0s 4ms/step - loss: 12.1915\n",
      "Epoch 107/200\n",
      "1/1 [==============================] - 0s 4ms/step - loss: 12.1787\n",
      "Epoch 108/200\n",
      "1/1 [==============================] - 0s 3ms/step - loss: 12.1656\n",
      "Epoch 109/200\n",
      "1/1 [==============================] - 0s 2ms/step - loss: 12.1727\n",
      "Epoch 110/200\n",
      "1/1 [==============================] - 0s 4ms/step - loss: 12.1757\n",
      "Epoch 111/200\n",
      "1/1 [==============================] - 0s 2ms/step - loss: 12.1711\n",
      "Epoch 112/200\n",
      "1/1 [==============================] - 0s 3ms/step - loss: 12.1722\n",
      "Epoch 113/200\n",
      "1/1 [==============================] - 0s 4ms/step - loss: 12.1741\n",
      "Epoch 114/200\n",
      "1/1 [==============================] - 0s 4ms/step - loss: 12.1716\n",
      "Epoch 115/200\n",
      "1/1 [==============================] - 0s 5ms/step - loss: 12.1744\n",
      "Epoch 116/200\n",
      "1/1 [==============================] - 0s 4ms/step - loss: 12.1865\n",
      "Epoch 117/200\n",
      "1/1 [==============================] - 0s 4ms/step - loss: 12.1791\n",
      "Epoch 118/200\n",
      "1/1 [==============================] - 0s 6ms/step - loss: 12.1905\n",
      "Epoch 119/200\n",
      "1/1 [==============================] - 0s 4ms/step - loss: 12.1740\n",
      "Epoch 120/200\n",
      "1/1 [==============================] - 0s 4ms/step - loss: 12.1717\n",
      "Epoch 121/200\n",
      "1/1 [==============================] - 0s 4ms/step - loss: 12.1694\n",
      "Epoch 122/200\n",
      "1/1 [==============================] - 0s 4ms/step - loss: 12.1730\n",
      "Epoch 123/200\n",
      "1/1 [==============================] - 0s 9ms/step - loss: 12.1787\n",
      "Epoch 124/200\n",
      "1/1 [==============================] - 0s 4ms/step - loss: 12.1695\n",
      "Epoch 125/200\n",
      "1/1 [==============================] - 0s 4ms/step - loss: 12.1890\n",
      "Epoch 126/200\n",
      "1/1 [==============================] - 0s 2ms/step - loss: 12.1754\n",
      "Epoch 127/200\n",
      "1/1 [==============================] - 0s 1ms/step - loss: 12.1858\n",
      "Epoch 128/200\n",
      "1/1 [==============================] - 0s 1ms/step - loss: 12.2025\n",
      "Epoch 129/200\n",
      "1/1 [==============================] - 0s 3ms/step - loss: 12.1904\n",
      "Epoch 130/200\n",
      "1/1 [==============================] - 0s 2ms/step - loss: 12.1652\n",
      "Epoch 131/200\n",
      "1/1 [==============================] - 0s 1ms/step - loss: 12.1966\n",
      "Epoch 132/200\n",
      "1/1 [==============================] - 0s 5ms/step - loss: 12.1855\n",
      "Epoch 133/200\n",
      "1/1 [==============================] - 0s 5ms/step - loss: 12.1888\n",
      "Epoch 134/200\n",
      "1/1 [==============================] - 0s 6ms/step - loss: 12.1924\n",
      "Epoch 135/200\n",
      "1/1 [==============================] - 0s 7ms/step - loss: 12.1904\n",
      "Epoch 136/200\n",
      "1/1 [==============================] - 0s 7ms/step - loss: 12.1880\n",
      "Epoch 137/200\n",
      "1/1 [==============================] - 0s 5ms/step - loss: 12.1887\n",
      "Epoch 138/200\n",
      "1/1 [==============================] - ETA: 0s - loss: 12.16 - 0s 4ms/step - loss: 12.1646\n",
      "Epoch 139/200\n",
      "1/1 [==============================] - 0s 4ms/step - loss: 12.2007\n",
      "Epoch 140/200\n",
      "1/1 [==============================] - 0s 4ms/step - loss: 12.2077\n",
      "Epoch 141/200\n",
      "1/1 [==============================] - 0s 4ms/step - loss: 12.1899\n",
      "Epoch 142/200\n",
      "1/1 [==============================] - 0s 4ms/step - loss: 12.1953\n",
      "Epoch 143/200\n",
      "1/1 [==============================] - 0s 4ms/step - loss: 12.1839\n",
      "Epoch 144/200\n",
      "1/1 [==============================] - 0s 4ms/step - loss: 12.1726\n",
      "Epoch 145/200\n",
      "1/1 [==============================] - 0s 7ms/step - loss: 12.1708\n",
      "Epoch 146/200\n",
      "1/1 [==============================] - 0s 4ms/step - loss: 12.1795\n",
      "Epoch 147/200\n",
      "1/1 [==============================] - 0s 4ms/step - loss: 12.1780\n",
      "Epoch 148/200\n",
      "1/1 [==============================] - 0s 4ms/step - loss: 12.1672\n",
      "Epoch 149/200\n",
      "1/1 [==============================] - 0s 4ms/step - loss: 12.1757\n",
      "Epoch 150/200\n",
      "1/1 [==============================] - 0s 3ms/step - loss: 12.1824\n",
      "Epoch 151/200\n",
      "1/1 [==============================] - 0s 4ms/step - loss: 12.1897\n",
      "Epoch 152/200\n",
      "1/1 [==============================] - 0s 2ms/step - loss: 12.1822\n",
      "Epoch 153/200\n",
      "1/1 [==============================] - 0s 2ms/step - loss: 12.1806\n",
      "Epoch 154/200\n",
      "1/1 [==============================] - 0s 2ms/step - loss: 12.1650\n",
      "Epoch 155/200\n",
      "1/1 [==============================] - 0s 2ms/step - loss: 12.1831\n",
      "Epoch 156/200\n",
      "1/1 [==============================] - 0s 5ms/step - loss: 12.1710\n",
      "Epoch 157/200\n",
      "1/1 [==============================] - 0s 5ms/step - loss: 12.1807\n",
      "Epoch 158/200\n",
      "1/1 [==============================] - 0s 5ms/step - loss: 12.1836\n",
      "Epoch 159/200\n",
      "1/1 [==============================] - 0s 5ms/step - loss: 12.1792\n",
      "Epoch 160/200\n",
      "1/1 [==============================] - 0s 4ms/step - loss: 12.1749\n",
      "Epoch 161/200\n",
      "1/1 [==============================] - 0s 7ms/step - loss: 12.1730\n",
      "Epoch 162/200\n",
      "1/1 [==============================] - 0s 19ms/step - loss: 12.1921\n",
      "Epoch 163/200\n",
      "1/1 [==============================] - 0s 8ms/step - loss: 12.1731\n",
      "Epoch 164/200\n",
      "1/1 [==============================] - 0s 4ms/step - loss: 12.1688\n",
      "Epoch 165/200\n",
      "1/1 [==============================] - 0s 2ms/step - loss: 12.1705\n",
      "Epoch 166/200\n",
      "1/1 [==============================] - 0s 2ms/step - loss: 12.1688\n",
      "Epoch 167/200\n",
      "1/1 [==============================] - 0s 3ms/step - loss: 12.1651\n",
      "Epoch 168/200\n",
      "1/1 [==============================] - 0s 4ms/step - loss: 12.1639\n",
      "Epoch 169/200\n",
      "1/1 [==============================] - 0s 2ms/step - loss: 12.1728\n",
      "Epoch 170/200\n",
      "1/1 [==============================] - 0s 2ms/step - loss: 12.1722\n",
      "Epoch 171/200\n",
      "1/1 [==============================] - 0s 2ms/step - loss: 12.1811\n",
      "Epoch 172/200\n",
      "1/1 [==============================] - 0s 3ms/step - loss: 12.1705\n",
      "Epoch 173/200\n",
      "1/1 [==============================] - 0s 2ms/step - loss: 12.1742\n",
      "Epoch 174/200\n",
      "1/1 [==============================] - ETA: 0s - loss: 12.16 - 0s 2ms/step - loss: 12.1637\n",
      "Epoch 175/200\n",
      "1/1 [==============================] - 0s 3ms/step - loss: 12.1749\n",
      "Epoch 176/200\n",
      "1/1 [==============================] - 0s 2ms/step - loss: 12.1802\n",
      "Epoch 177/200\n",
      "1/1 [==============================] - 0s 5ms/step - loss: 12.1801\n",
      "Epoch 178/200\n",
      "1/1 [==============================] - 0s 4ms/step - loss: 12.1750\n",
      "Epoch 179/200\n",
      "1/1 [==============================] - 0s 4ms/step - loss: 12.1649\n",
      "Epoch 180/200\n",
      "1/1 [==============================] - 0s 7ms/step - loss: 12.1833\n",
      "Epoch 181/200\n",
      "1/1 [==============================] - 0s 3ms/step - loss: 12.1861\n",
      "Epoch 182/200\n",
      "1/1 [==============================] - 0s 6ms/step - loss: 12.1929\n",
      "Epoch 183/200\n",
      "1/1 [==============================] - 0s 4ms/step - loss: 12.1760\n",
      "Epoch 184/200\n",
      "1/1 [==============================] - 0s 8ms/step - loss: 12.1757\n",
      "Epoch 185/200\n",
      "1/1 [==============================] - 0s 4ms/step - loss: 12.1741\n",
      "Epoch 186/200\n",
      "1/1 [==============================] - 0s 5ms/step - loss: 12.1865\n",
      "Epoch 187/200\n",
      "1/1 [==============================] - 0s 5ms/step - loss: 12.1814\n",
      "Epoch 188/200\n",
      "1/1 [==============================] - 0s 4ms/step - loss: 12.1681\n",
      "Epoch 189/200\n",
      "1/1 [==============================] - 0s 4ms/step - loss: 12.1743\n",
      "Epoch 190/200\n",
      "1/1 [==============================] - 0s 2ms/step - loss: 12.1646\n",
      "Epoch 191/200\n",
      "1/1 [==============================] - 0s 2ms/step - loss: 12.1888\n",
      "Epoch 192/200\n",
      "1/1 [==============================] - 0s 4ms/step - loss: 12.1787\n",
      "Epoch 193/200\n",
      "1/1 [==============================] - 0s 4ms/step - loss: 12.1770\n",
      "Epoch 194/200\n",
      "1/1 [==============================] - 0s 4ms/step - loss: 12.1716\n",
      "Epoch 195/200\n",
      "1/1 [==============================] - 0s 4ms/step - loss: 12.1659\n",
      "Epoch 196/200\n",
      "1/1 [==============================] - 0s 7ms/step - loss: 12.1691\n",
      "Epoch 197/200\n",
      "1/1 [==============================] - 0s 4ms/step - loss: 12.1641\n",
      "Epoch 198/200\n",
      "1/1 [==============================] - 0s 5ms/step - loss: 12.1636\n",
      "Epoch 199/200\n",
      "1/1 [==============================] - 0s 4ms/step - loss: 12.1672\n",
      "Epoch 200/200\n",
      "1/1 [==============================] - 0s 4ms/step - loss: 12.1728\n"
     ]
    }
   ],
   "source": [
    "tfsf.fit(X,epochs=200)"
   ]
  },
  {
   "cell_type": "markdown",
   "metadata": {},
   "source": [
    "We can then process the data and learn a new representation."
   ]
  },
  {
   "cell_type": "code",
   "execution_count": 11,
   "metadata": {},
   "outputs": [
    {
     "name": "stdout",
     "output_type": "stream",
     "text": [
      "WARNING:tensorflow:Layer sf_layer is casting an input tensor from dtype float64 to the layer's dtype of float32, which is new behavior in TensorFlow 2.  The layer has dtype float32 because it's dtype defaults to floatx.\n",
      "\n",
      "If you intended to run this layer in float32, you can safely ignore this warning. If in doubt, this warning is likely only an issue if you are porting a TensorFlow 1.X model to TensorFlow 2.\n",
      "\n",
      "To change all layers to have dtype float64 by default, call `tf.keras.backend.set_floatx('float64')`. To change just this layer, pass dtype='float64' to the layer constructor. If you are the author of this layer, you can disable autocasting by passing autocast=False to the base Layer constructor.\n",
      "\n"
     ]
    }
   ],
   "source": [
    "Z = tfsf.transform(X)"
   ]
  },
  {
   "cell_type": "markdown",
   "metadata": {},
   "source": [
    "Finally, we plot the original data and the learned representations."
   ]
  },
  {
   "cell_type": "code",
   "execution_count": 12,
   "metadata": {},
   "outputs": [
    {
     "data": {
      "text/plain": [
       "Text(0.5, 1.0, 'Learned data')"
      ]
     },
     "execution_count": 12,
     "metadata": {},
     "output_type": "execute_result"
    },
    {
     "data": {
      "image/png": "[encoded data removed]",
      "text/plain": [
       "<Figure size 432x288 with 2 Axes>"
      ]
     },
     "metadata": {
      "needs_background": "light"
     },
     "output_type": "display_data"
    }
   ],
   "source": [
    "fig, ax = plt.subplots(1,2)\n",
    "ax[0].scatter(X[:,0],X[:,1])\n",
    "ax[0].axhline(0,color='black')\n",
    "ax[0].axvline(0,color='black')\n",
    "ax[0].set_title('Original data')\n",
    "\n",
    "ax[1].scatter(Z[:,0],Z[:,1])\n",
    "ax[1].axhline(0,color='black')\n",
    "ax[1].axvline(0,color='black')\n",
    "ax[1].set_title('Learned data')"
   ]
  },
  {
   "cell_type": "markdown",
   "metadata": {},
   "source": [
    "## 4. Comparison of npSF vs tfSF\n",
    "\n",
    "Although the implement the same algorithm and optimize the same loss function, npSF and tfSF use two different optimization algorithms. npSF relies on **Limited-memory BFGS (L-BFGS)**, a quasi-Newton method that relies on the explicit gradient of the loss function for minimization. tfSF relies on **Adam**, a standard backpropagation algorithm for training neural networks. \n",
    "\n",
    "In general, npSF is more efficient as it explicitly exploits the knowledge of the gradient; tfSF is more versatile, as it allows for easier modification of the SF algorithm, leaving the problem of optimization to automatic gradient computation.\n",
    "\n",
    "We can compare the loss function dynamics of the two algorithms. First, we train a npSF module and retrieve its losses."
   ]
  },
  {
   "cell_type": "code",
   "execution_count": 13,
   "metadata": {},
   "outputs": [],
   "source": [
    "npsf.setFeatures(2)\n",
    "npsf.setTrainData(X)\n",
    "npsf.initializeWeights()\n",
    "npsf.initialiazeNotebook()\n",
    "npsf.train()\n",
    "npLosses = npsf.notebook['losses']"
   ]
  },
  {
   "cell_type": "markdown",
   "metadata": {},
   "source": [
    "Similarly, we train a tfSF module and retrieve its losses."
   ]
  },
  {
   "cell_type": "code",
   "execution_count": 14,
   "metadata": {},
   "outputs": [
    {
     "name": "stdout",
     "output_type": "stream",
     "text": [
      "Epoch 1/200\n",
      "1/1 [==============================] - 0s 2ms/step - loss: 13.4620\n",
      "Epoch 2/200\n",
      "1/1 [==============================] - 0s 2ms/step - loss: 13.5969\n",
      "Epoch 3/200\n",
      "1/1 [==============================] - 0s 2ms/step - loss: 13.2593\n",
      "Epoch 4/200\n",
      "1/1 [==============================] - 0s 3ms/step - loss: 12.9888\n",
      "Epoch 5/200\n",
      "1/1 [==============================] - 0s 2ms/step - loss: 12.8523\n",
      "Epoch 6/200\n",
      "1/1 [==============================] - 0s 2ms/step - loss: 12.9295\n",
      "Epoch 7/200\n",
      "1/1 [==============================] - 0s 2ms/step - loss: 12.9872\n",
      "Epoch 8/200\n",
      "1/1 [==============================] - 0s 2ms/step - loss: 13.0007\n",
      "Epoch 9/200\n",
      "1/1 [==============================] - 0s 2ms/step - loss: 12.9830\n",
      "Epoch 10/200\n",
      "1/1 [==============================] - 0s 2ms/step - loss: 12.9385\n",
      "Epoch 11/200\n",
      "1/1 [==============================] - 0s 2ms/step - loss: 12.9013\n",
      "Epoch 12/200\n",
      "1/1 [==============================] - 0s 5ms/step - loss: 12.9215\n",
      "Epoch 13/200\n",
      "1/1 [==============================] - 0s 2ms/step - loss: 12.9220\n",
      "Epoch 14/200\n",
      "1/1 [==============================] - 0s 1ms/step - loss: 12.9090\n",
      "Epoch 15/200\n",
      "1/1 [==============================] - 0s 2ms/step - loss: 12.8856\n",
      "Epoch 16/200\n",
      "1/1 [==============================] - 0s 2ms/step - loss: 12.8532\n",
      "Epoch 17/200\n",
      "1/1 [==============================] - 0s 3ms/step - loss: 12.8121\n",
      "Epoch 18/200\n",
      "1/1 [==============================] - 0s 4ms/step - loss: 12.7618\n",
      "Epoch 19/200\n",
      "1/1 [==============================] - 0s 2ms/step - loss: 12.7013\n",
      "Epoch 20/200\n",
      "1/1 [==============================] - 0s 3ms/step - loss: 12.6288\n",
      "Epoch 21/200\n",
      "1/1 [==============================] - 0s 5ms/step - loss: 12.5678\n",
      "Epoch 22/200\n",
      "1/1 [==============================] - 0s 2ms/step - loss: 12.5675\n",
      "Epoch 23/200\n",
      "1/1 [==============================] - 0s 2ms/step - loss: 12.5573\n",
      "Epoch 24/200\n",
      "1/1 [==============================] - 0s 2ms/step - loss: 12.5404\n",
      "Epoch 25/200\n",
      "1/1 [==============================] - 0s 9ms/step - loss: 12.5181\n",
      "Epoch 26/200\n",
      "1/1 [==============================] - 0s 4ms/step - loss: 12.4908\n",
      "Epoch 27/200\n",
      "1/1 [==============================] - 0s 2ms/step - loss: 12.4891\n",
      "Epoch 28/200\n",
      "1/1 [==============================] - 0s 2ms/step - loss: 12.5013\n",
      "Epoch 29/200\n",
      "1/1 [==============================] - 0s 2ms/step - loss: 12.5176\n",
      "Epoch 30/200\n",
      "1/1 [==============================] - 0s 2ms/step - loss: 12.5248\n",
      "Epoch 31/200\n",
      "1/1 [==============================] - 0s 2ms/step - loss: 12.5245\n",
      "Epoch 32/200\n",
      "1/1 [==============================] - 0s 1ms/step - loss: 12.5171\n",
      "Epoch 33/200\n",
      "1/1 [==============================] - 0s 3ms/step - loss: 12.5273\n",
      "Epoch 34/200\n",
      "1/1 [==============================] - 0s 2ms/step - loss: 12.5364\n",
      "Epoch 35/200\n",
      "1/1 [==============================] - 0s 2ms/step - loss: 12.5404\n",
      "Epoch 36/200\n",
      "1/1 [==============================] - 0s 2ms/step - loss: 12.5400\n",
      "Epoch 37/200\n",
      "1/1 [==============================] - 0s 2ms/step - loss: 12.5358\n",
      "Epoch 38/200\n",
      "1/1 [==============================] - 0s 8ms/step - loss: 12.5274\n",
      "Epoch 39/200\n",
      "1/1 [==============================] - 0s 3ms/step - loss: 12.5300\n",
      "Epoch 40/200\n",
      "1/1 [==============================] - 0s 8ms/step - loss: 12.5370\n",
      "Epoch 41/200\n",
      "1/1 [==============================] - 0s 4ms/step - loss: 12.5371\n",
      "Epoch 42/200\n",
      "1/1 [==============================] - 0s 6ms/step - loss: 12.5308\n",
      "Epoch 43/200\n",
      "1/1 [==============================] - 0s 5ms/step - loss: 12.5228\n",
      "Epoch 44/200\n",
      "1/1 [==============================] - 0s 5ms/step - loss: 12.5265\n",
      "Epoch 45/200\n",
      "1/1 [==============================] - ETA: 0s - loss: 12.52 - 0s 8ms/step - loss: 12.5251\n",
      "Epoch 46/200\n",
      "1/1 [==============================] - 0s 5ms/step - loss: 12.5189\n",
      "Epoch 47/200\n",
      "1/1 [==============================] - 0s 5ms/step - loss: 12.5275\n",
      "Epoch 48/200\n",
      "1/1 [==============================] - 0s 3ms/step - loss: 12.5295\n",
      "Epoch 49/200\n",
      "1/1 [==============================] - 0s 12ms/step - loss: 12.5247\n",
      "Epoch 50/200\n",
      "1/1 [==============================] - 0s 2ms/step - loss: 12.5135\n",
      "Epoch 51/200\n",
      "1/1 [==============================] - 0s 5ms/step - loss: 12.5223\n",
      "Epoch 52/200\n",
      "1/1 [==============================] - 0s 1ms/step - loss: 12.5264\n",
      "Epoch 53/200\n",
      "1/1 [==============================] - 0s 2ms/step - loss: 12.5257\n",
      "Epoch 54/200\n",
      "1/1 [==============================] - 0s 1ms/step - loss: 12.5205\n",
      "Epoch 55/200\n",
      "1/1 [==============================] - 0s 1ms/step - loss: 12.5111\n",
      "Epoch 56/200\n",
      "1/1 [==============================] - 0s 1ms/step - loss: 12.4968\n",
      "Epoch 57/200\n",
      "1/1 [==============================] - 0s 1ms/step - loss: 12.5053\n",
      "Epoch 58/200\n",
      "1/1 [==============================] - 0s 1ms/step - loss: 12.5086\n",
      "Epoch 59/200\n",
      "1/1 [==============================] - 0s 1ms/step - loss: 12.5047\n",
      "Epoch 60/200\n",
      "1/1 [==============================] - 0s 2ms/step - loss: 12.4945\n",
      "Epoch 61/200\n",
      "1/1 [==============================] - 0s 3ms/step - loss: 12.4854\n",
      "Epoch 62/200\n",
      "1/1 [==============================] - 0s 2ms/step - loss: 12.4850\n",
      "Epoch 63/200\n",
      "1/1 [==============================] - 0s 1ms/step - loss: 12.4960\n",
      "Epoch 64/200\n",
      "1/1 [==============================] - 0s 3ms/step - loss: 12.4987\n",
      "Epoch 65/200\n",
      "1/1 [==============================] - 0s 1ms/step - loss: 12.4941\n",
      "Epoch 66/200\n",
      "1/1 [==============================] - 0s 1ms/step - loss: 12.4828\n",
      "Epoch 67/200\n",
      "1/1 [==============================] - 0s 2ms/step - loss: 12.4830\n",
      "Epoch 68/200\n",
      "1/1 [==============================] - 0s 995us/step - loss: 12.4743\n",
      "Epoch 69/200\n",
      "1/1 [==============================] - 0s 1ms/step - loss: 12.4796\n",
      "Epoch 70/200\n",
      "1/1 [==============================] - 0s 2ms/step - loss: 12.4850\n",
      "Epoch 71/200\n",
      "1/1 [==============================] - 0s 2ms/step - loss: 12.4838\n",
      "Epoch 72/200\n",
      "1/1 [==============================] - 0s 2ms/step - loss: 12.4892\n",
      "Epoch 73/200\n",
      "1/1 [==============================] - 0s 2ms/step - loss: 12.4913\n",
      "Epoch 74/200\n",
      "1/1 [==============================] - 0s 2ms/step - loss: 12.4855\n",
      "Epoch 75/200\n",
      "1/1 [==============================] - 0s 2ms/step - loss: 12.4863\n",
      "Epoch 76/200\n",
      "1/1 [==============================] - 0s 1ms/step - loss: 12.4873\n",
      "Epoch 77/200\n",
      "1/1 [==============================] - 0s 2ms/step - loss: 12.4822\n",
      "Epoch 78/200\n",
      "1/1 [==============================] - 0s 2ms/step - loss: 12.4731\n",
      "Epoch 79/200\n",
      "1/1 [==============================] - 0s 2ms/step - loss: 12.4852\n",
      "Epoch 80/200\n",
      "1/1 [==============================] - 0s 2ms/step - loss: 12.4907\n",
      "Epoch 81/200\n",
      "1/1 [==============================] - 0s 2ms/step - loss: 12.4870\n",
      "Epoch 82/200\n",
      "1/1 [==============================] - 0s 2ms/step - loss: 12.4756\n",
      "Epoch 83/200\n",
      "1/1 [==============================] - 0s 2ms/step - loss: 12.4805\n",
      "Epoch 84/200\n",
      "1/1 [==============================] - 0s 2ms/step - loss: 12.4872\n",
      "Epoch 85/200\n",
      "1/1 [==============================] - 0s 2ms/step - loss: 12.4874\n",
      "Epoch 86/200\n",
      "1/1 [==============================] - 0s 2ms/step - loss: 12.4818\n",
      "Epoch 87/200\n",
      "1/1 [==============================] - 0s 10ms/step - loss: 12.4743\n",
      "Epoch 88/200\n",
      "1/1 [==============================] - ETA: 0s - loss: 12.48 - 0s 1ms/step - loss: 12.4860\n",
      "Epoch 89/200\n",
      "1/1 [==============================] - 0s 3ms/step - loss: 12.4909\n",
      "Epoch 90/200\n",
      "1/1 [==============================] - 0s 1ms/step - loss: 12.4916\n",
      "Epoch 91/200\n",
      "1/1 [==============================] - 0s 2ms/step - loss: 12.4869\n",
      "Epoch 92/200\n",
      "1/1 [==============================] - 0s 2ms/step - loss: 12.4747\n",
      "Epoch 93/200\n",
      "1/1 [==============================] - 0s 2ms/step - loss: 12.4860\n",
      "Epoch 94/200\n",
      "1/1 [==============================] - 0s 2ms/step - loss: 12.4933\n",
      "Epoch 95/200\n",
      "1/1 [==============================] - 0s 2ms/step - loss: 12.4974\n",
      "Epoch 96/200\n",
      "1/1 [==============================] - 0s 2ms/step - loss: 12.4952\n",
      "Epoch 97/200\n",
      "1/1 [==============================] - 0s 2ms/step - loss: 12.4912\n",
      "Epoch 98/200\n",
      "1/1 [==============================] - 0s 8ms/step - loss: 12.4821\n",
      "Epoch 99/200\n",
      "1/1 [==============================] - 0s 2ms/step - loss: 12.4735\n",
      "Epoch 100/200\n",
      "1/1 [==============================] - ETA: 0s - loss: 12.48 - 0s 2ms/step - loss: 12.4806\n",
      "Epoch 101/200\n",
      "1/1 [==============================] - 0s 2ms/step - loss: 12.4806\n",
      "Epoch 102/200\n"
     ]
    },
    {
     "name": "stdout",
     "output_type": "stream",
     "text": [
      "1/1 [==============================] - 0s 2ms/step - loss: 12.4735\n",
      "Epoch 103/200\n",
      "1/1 [==============================] - 0s 1ms/step - loss: 12.4800\n",
      "Epoch 104/200\n",
      "1/1 [==============================] - 0s 2ms/step - loss: 12.4848\n",
      "Epoch 105/200\n",
      "1/1 [==============================] - 0s 2ms/step - loss: 12.4851\n",
      "Epoch 106/200\n",
      "1/1 [==============================] - 0s 1ms/step - loss: 12.4801\n",
      "Epoch 107/200\n",
      "1/1 [==============================] - 0s 2ms/step - loss: 12.4713\n",
      "Epoch 108/200\n",
      "1/1 [==============================] - 0s 2ms/step - loss: 12.4759\n",
      "Epoch 109/200\n",
      "1/1 [==============================] - 0s 2ms/step - loss: 12.4743\n",
      "Epoch 110/200\n",
      "1/1 [==============================] - 0s 2ms/step - loss: 12.4761\n",
      "Epoch 111/200\n",
      "1/1 [==============================] - 0s 1ms/step - loss: 12.4776\n",
      "Epoch 112/200\n",
      "1/1 [==============================] - 0s 2ms/step - loss: 12.4738\n",
      "Epoch 113/200\n",
      "1/1 [==============================] - 0s 2ms/step - loss: 12.4771\n",
      "Epoch 114/200\n",
      "1/1 [==============================] - 0s 5ms/step - loss: 12.4789\n",
      "Epoch 115/200\n",
      "1/1 [==============================] - 0s 2ms/step - loss: 12.4741\n",
      "Epoch 116/200\n",
      "1/1 [==============================] - 0s 1ms/step - loss: 12.4779\n",
      "Epoch 117/200\n",
      "1/1 [==============================] - 0s 4ms/step - loss: 12.4823\n",
      "Epoch 118/200\n",
      "1/1 [==============================] - ETA: 0s - loss: 12.48 - 0s 4ms/step - loss: 12.4806\n",
      "Epoch 119/200\n",
      "1/1 [==============================] - 0s 3ms/step - loss: 12.4738\n",
      "Epoch 120/200\n",
      "1/1 [==============================] - 0s 2ms/step - loss: 12.4798\n",
      "Epoch 121/200\n",
      "1/1 [==============================] - 0s 3ms/step - loss: 12.4850\n",
      "Epoch 122/200\n",
      "1/1 [==============================] - 0s 1ms/step - loss: 12.4825\n",
      "Epoch 123/200\n",
      "1/1 [==============================] - 0s 1ms/step - loss: 12.4743\n",
      "Epoch 124/200\n",
      "1/1 [==============================] - 0s 5ms/step - loss: 12.4806\n",
      "Epoch 125/200\n",
      "1/1 [==============================] - 0s 5ms/step - loss: 12.4875\n",
      "Epoch 126/200\n",
      "1/1 [==============================] - 0s 2ms/step - loss: 12.4885\n",
      "Epoch 127/200\n",
      "1/1 [==============================] - 0s 2ms/step - loss: 12.4841\n",
      "Epoch 128/200\n",
      "1/1 [==============================] - 0s 16ms/step - loss: 12.4763\n",
      "Epoch 129/200\n",
      "1/1 [==============================] - 0s 6ms/step - loss: 12.4794\n",
      "Epoch 130/200\n",
      "1/1 [==============================] - 0s 1ms/step - loss: 12.4856\n",
      "Epoch 131/200\n",
      "1/1 [==============================] - 0s 13ms/step - loss: 12.4849\n",
      "Epoch 132/200\n",
      "1/1 [==============================] - 0s 5ms/step - loss: 12.4774\n",
      "Epoch 133/200\n",
      "1/1 [==============================] - 0s 4ms/step - loss: 12.4763\n",
      "Epoch 134/200\n",
      "1/1 [==============================] - 0s 2ms/step - loss: 12.4811\n",
      "Epoch 135/200\n",
      "1/1 [==============================] - 0s 2ms/step - loss: 12.4811\n",
      "Epoch 136/200\n",
      "1/1 [==============================] - 0s 3ms/step - loss: 12.4759\n",
      "Epoch 137/200\n",
      "1/1 [==============================] - 0s 2ms/step - loss: 12.4765\n",
      "Epoch 138/200\n",
      "1/1 [==============================] - ETA: 0s - loss: 12.48 - 0s 8ms/step - loss: 12.4804\n",
      "Epoch 139/200\n",
      "1/1 [==============================] - 0s 2ms/step - loss: 12.4762\n",
      "Epoch 140/200\n",
      "1/1 [==============================] - 0s 7ms/step - loss: 12.4748\n",
      "Epoch 141/200\n",
      "1/1 [==============================] - 0s 7ms/step - loss: 12.4771\n",
      "Epoch 142/200\n",
      "1/1 [==============================] - 0s 1ms/step - loss: 12.4749\n",
      "Epoch 143/200\n",
      "1/1 [==============================] - ETA: 0s - loss: 12.47 - 0s 2ms/step - loss: 12.4757\n",
      "Epoch 144/200\n",
      "1/1 [==============================] - 0s 2ms/step - loss: 12.4780\n",
      "Epoch 145/200\n",
      "1/1 [==============================] - 0s 2ms/step - loss: 12.4726\n",
      "Epoch 146/200\n",
      "1/1 [==============================] - 0s 2ms/step - loss: 12.4806\n",
      "Epoch 147/200\n",
      "1/1 [==============================] - 0s 8ms/step - loss: 12.4862\n",
      "Epoch 148/200\n",
      "1/1 [==============================] - 0s 8ms/step - loss: 12.4850\n",
      "Epoch 149/200\n",
      "1/1 [==============================] - 0s 11ms/step - loss: 12.4777\n",
      "Epoch 150/200\n",
      "1/1 [==============================] - 0s 2ms/step - loss: 12.4757\n",
      "Epoch 151/200\n",
      "1/1 [==============================] - 0s 4ms/step - loss: 12.4789\n",
      "Epoch 152/200\n",
      "1/1 [==============================] - 0s 2ms/step - loss: 12.4770\n",
      "Epoch 153/200\n",
      "1/1 [==============================] - 0s 4ms/step - loss: 12.4755\n",
      "Epoch 154/200\n",
      "1/1 [==============================] - 0s 9ms/step - loss: 12.4780\n",
      "Epoch 155/200\n",
      "1/1 [==============================] - 0s 2ms/step - loss: 12.4757\n",
      "Epoch 156/200\n",
      "1/1 [==============================] - 0s 3ms/step - loss: 12.4769\n",
      "Epoch 157/200\n",
      "1/1 [==============================] - 0s 1ms/step - loss: 12.4781\n",
      "Epoch 158/200\n",
      "1/1 [==============================] - 0s 7ms/step - loss: 12.4726\n",
      "Epoch 159/200\n",
      "1/1 [==============================] - 0s 6ms/step - loss: 12.4805\n",
      "Epoch 160/200\n",
      "1/1 [==============================] - 0s 2ms/step - loss: 12.4849\n",
      "Epoch 161/200\n",
      "1/1 [==============================] - 0s 9ms/step - loss: 12.4828\n",
      "Epoch 162/200\n",
      "1/1 [==============================] - 0s 1ms/step - loss: 12.4787\n",
      "Epoch 163/200\n",
      "1/1 [==============================] - 0s 1ms/step - loss: 12.4771\n",
      "Epoch 164/200\n",
      "1/1 [==============================] - 0s 1ms/step - loss: 12.4800\n",
      "Epoch 165/200\n",
      "1/1 [==============================] - 0s 3ms/step - loss: 12.4778\n",
      "Epoch 166/200\n",
      "1/1 [==============================] - 0s 2ms/step - loss: 12.4741\n",
      "Epoch 167/200\n",
      "1/1 [==============================] - 0s 6ms/step - loss: 12.4774\n",
      "Epoch 168/200\n",
      "1/1 [==============================] - 0s 9ms/step - loss: 12.4737\n",
      "Epoch 169/200\n",
      "1/1 [==============================] - 0s 2ms/step - loss: 12.4784\n",
      "Epoch 170/200\n",
      "1/1 [==============================] - 0s 3ms/step - loss: 12.4808\n",
      "Epoch 171/200\n",
      "1/1 [==============================] - 0s 5ms/step - loss: 12.4747\n",
      "Epoch 172/200\n",
      "1/1 [==============================] - 0s 4ms/step - loss: 12.4788\n",
      "Epoch 173/200\n",
      "1/1 [==============================] - 0s 19ms/step - loss: 12.4824\n",
      "Epoch 174/200\n",
      "1/1 [==============================] - 0s 2ms/step - loss: 12.4808\n",
      "Epoch 175/200\n",
      "1/1 [==============================] - 0s 2ms/step - loss: 12.4751\n",
      "Epoch 176/200\n",
      "1/1 [==============================] - 0s 8ms/step - loss: 12.4801\n",
      "Epoch 177/200\n",
      "1/1 [==============================] - 0s 1ms/step - loss: 12.4856\n",
      "Epoch 178/200\n",
      "1/1 [==============================] - 0s 1ms/step - loss: 12.4832\n",
      "Epoch 179/200\n",
      "1/1 [==============================] - 0s 2ms/step - loss: 12.4740\n",
      "Epoch 180/200\n",
      "1/1 [==============================] - 0s 2ms/step - loss: 12.4821\n",
      "Epoch 181/200\n",
      "1/1 [==============================] - 0s 2ms/step - loss: 12.4872\n",
      "Epoch 182/200\n",
      "1/1 [==============================] - 0s 2ms/step - loss: 12.4896\n",
      "Epoch 183/200\n",
      "1/1 [==============================] - 0s 2ms/step - loss: 12.4857\n",
      "Epoch 184/200\n",
      "1/1 [==============================] - 0s 2ms/step - loss: 12.4774\n",
      "Epoch 185/200\n",
      "1/1 [==============================] - 0s 9ms/step - loss: 12.4799\n",
      "Epoch 186/200\n",
      "1/1 [==============================] - 0s 5ms/step - loss: 12.4850\n",
      "Epoch 187/200\n",
      "1/1 [==============================] - 0s 4ms/step - loss: 12.4845\n",
      "Epoch 188/200\n",
      "1/1 [==============================] - 0s 7ms/step - loss: 12.4773\n",
      "Epoch 189/200\n",
      "1/1 [==============================] - 0s 10ms/step - loss: 12.4780\n",
      "Epoch 190/200\n",
      "1/1 [==============================] - 0s 15ms/step - loss: 12.4837\n",
      "Epoch 191/200\n",
      "1/1 [==============================] - 0s 7ms/step - loss: 12.4824\n",
      "Epoch 192/200\n",
      "1/1 [==============================] - 0s 4ms/step - loss: 12.4789\n",
      "Epoch 193/200\n",
      "1/1 [==============================] - 0s 7ms/step - loss: 12.4757\n",
      "Epoch 194/200\n",
      "1/1 [==============================] - 0s 6ms/step - loss: 12.4779\n",
      "Epoch 195/200\n",
      "1/1 [==============================] - 0s 4ms/step - loss: 12.4748\n",
      "Epoch 196/200\n",
      "1/1 [==============================] - 0s 2ms/step - loss: 12.4773\n",
      "Epoch 197/200\n",
      "1/1 [==============================] - 0s 1ms/step - loss: 12.4816\n",
      "Epoch 198/200\n",
      "1/1 [==============================] - 0s 2ms/step - loss: 12.4789\n",
      "Epoch 199/200\n",
      "1/1 [==============================] - 0s 4ms/step - loss: 12.4717\n",
      "Epoch 200/200\n",
      "1/1 [==============================] - 0s 3ms/step - loss: 12.4748\n"
     ]
    }
   ],
   "source": [
    "tfsf = tfSF.SFilter(n_features=2)\n",
    "tfsf.fit(X,epochs=200)\n",
    "tfLosses = tfsf.hist.history['loss']"
   ]
  },
  {
   "cell_type": "markdown",
   "metadata": {},
   "source": [
    "We can now plot and compare the losses."
   ]
  },
  {
   "cell_type": "code",
   "execution_count": 15,
   "metadata": {},
   "outputs": [
    {
     "data": {
      "text/plain": [
       "Text(0, 0.5, 'L1 loss')"
      ]
     },
     "execution_count": 15,
     "metadata": {},
     "output_type": "execute_result"
    },
    {
     "data": {
      "image/png": "[encoded data removed]",
      "text/plain": [
       "<Figure size 432x288 with 1 Axes>"
      ]
     },
     "metadata": {
      "needs_background": "light"
     },
     "output_type": "display_data"
    }
   ],
   "source": [
    "plt.title('L1 losses')    \n",
    "plt.plot(npLosses, label='npSF')\n",
    "plt.plot(tfLosses, label='tfSF')\n",
    "plt.legend()\n",
    "plt.xlabel('Epochs')\n",
    "plt.ylabel('L1 loss')"
   ]
  },
  {
   "cell_type": "markdown",
   "metadata": {},
   "source": [
    "We can look more closely at the average final loss of npSF and tfSF across several simulations.\n",
    "\n",
    "### (a) Loss as a function of the original features"
   ]
  },
  {
   "cell_type": "code",
   "execution_count": 16,
   "metadata": {},
   "outputs": [
    {
     "name": "stderr",
     "output_type": "stream",
     "text": [
      "\r",
      "  0%|          | 0/100 [00:00<?, ?it/s]"
     ]
    },
    {
     "name": "stdout",
     "output_type": "stream",
     "text": [
      "Original features 2\n"
     ]
    },
    {
     "name": "stderr",
     "output_type": "stream",
     "text": [
      "100%|██████████| 100/100 [02:40<00:00,  1.60s/it]\n",
      "  0%|          | 0/100 [00:00<?, ?it/s]"
     ]
    },
    {
     "name": "stdout",
     "output_type": "stream",
     "text": [
      "Original features 5\n"
     ]
    },
    {
     "name": "stderr",
     "output_type": "stream",
     "text": [
      "100%|██████████| 100/100 [02:45<00:00,  1.65s/it]\n",
      "  0%|          | 0/100 [00:00<?, ?it/s]"
     ]
    },
    {
     "name": "stdout",
     "output_type": "stream",
     "text": [
      "Original features 10\n"
     ]
    },
    {
     "name": "stderr",
     "output_type": "stream",
     "text": [
      "100%|██████████| 100/100 [02:38<00:00,  1.58s/it]\n",
      "  0%|          | 0/100 [00:00<?, ?it/s]"
     ]
    },
    {
     "name": "stdout",
     "output_type": "stream",
     "text": [
      "Original features 15\n"
     ]
    },
    {
     "name": "stderr",
     "output_type": "stream",
     "text": [
      "100%|██████████| 100/100 [02:35<00:00,  1.56s/it]\n",
      "  0%|          | 0/100 [00:00<?, ?it/s]"
     ]
    },
    {
     "name": "stdout",
     "output_type": "stream",
     "text": [
      "Original features 20\n"
     ]
    },
    {
     "name": "stderr",
     "output_type": "stream",
     "text": [
      "100%|██████████| 100/100 [02:30<00:00,  1.51s/it]\n",
      "  0%|          | 0/100 [00:00<?, ?it/s]"
     ]
    },
    {
     "name": "stdout",
     "output_type": "stream",
     "text": [
      "Original features 25\n"
     ]
    },
    {
     "name": "stderr",
     "output_type": "stream",
     "text": [
      "100%|██████████| 100/100 [03:01<00:00,  1.81s/it]\n",
      "  0%|          | 0/100 [00:00<?, ?it/s]"
     ]
    },
    {
     "name": "stdout",
     "output_type": "stream",
     "text": [
      "Original features 50\n"
     ]
    },
    {
     "name": "stderr",
     "output_type": "stream",
     "text": [
      "100%|██████████| 100/100 [02:40<00:00,  1.60s/it]\n",
      "  0%|          | 0/100 [00:00<?, ?it/s]"
     ]
    },
    {
     "name": "stdout",
     "output_type": "stream",
     "text": [
      "Original features 100\n"
     ]
    },
    {
     "name": "stderr",
     "output_type": "stream",
     "text": [
      "100%|██████████| 100/100 [02:32<00:00,  1.53s/it]\n"
     ]
    }
   ],
   "source": [
    "n_simulations = 100\n",
    "\n",
    "original_features = [2,5,10,15,20,25,50,100]\n",
    "learned_features = 2\n",
    "n_samples = 10\n",
    "n_epochs = 200\n",
    "    \n",
    "maxX = 5; minX = -5   \n",
    "\n",
    "avg_losses = np.zeros((2,len(original_features)))\n",
    "for i,orig_feats in enumerate(original_features):\n",
    "    \n",
    "    print('Original features {0}'.format(orig_feats))\n",
    "    np_losses = []\n",
    "    tf_losses = []\n",
    "    \n",
    "    for _ in tqdm(range(n_simulations)):\n",
    "        X = (minX-maxX) * np.random.rand(n_samples,orig_feats) + maxX\n",
    "        \n",
    "        npsf = npSF.SFilter(epochs=n_epochs)\n",
    "        npsf.setFeatures(learned_features)\n",
    "        npsf.setTrainData(X)\n",
    "        npsf.initializeWeights()\n",
    "        npsf.initialiazeNotebook()\n",
    "        npsf.train()\n",
    "        np_losses.append(npsf.notebook['losses'][-1])\n",
    "\n",
    "        tfsf = tfSF.SFilter(n_features=learned_features)\n",
    "        tfsf.fit(X,epochs=n_epochs,verbose=0)\n",
    "        tf_losses.append(tfsf.hist.history['loss'][-1])\n",
    "        \n",
    "    avg_losses[0,i] = np.mean(np_losses)\n",
    "    avg_losses[1,i] = np.mean(tf_losses)"
   ]
  },
  {
   "cell_type": "code",
   "execution_count": 17,
   "metadata": {},
   "outputs": [
    {
     "data": {
      "text/plain": [
       "Text(0, 0.5, 'Final L1 loss')"
      ]
     },
     "execution_count": 17,
     "metadata": {},
     "output_type": "execute_result"
    },
    {
     "data": {
      "image/png": "[encoded data removed]",
      "text/plain": [
       "<Figure size 432x288 with 1 Axes>"
      ]
     },
     "metadata": {
      "needs_background": "light"
     },
     "output_type": "display_data"
    }
   ],
   "source": [
    "xs = np.arange(0,len(original_features))\n",
    "plt.bar(xs, avg_losses[0,:], width=0.2, color='b', align='center', label='npSF')\n",
    "plt.bar(xs+0.2, avg_losses[1,:], width=0.2, color='g', align='center', label='tfSF')\n",
    "plt.legend()\n",
    "plt.xticks(np.arange(0,len(original_features))+0.1,[str(i) for i in original_features])\n",
    "plt.xlabel('Original features')\n",
    "plt.ylabel('Final L1 loss')"
   ]
  },
  {
   "cell_type": "markdown",
   "metadata": {},
   "source": [
    "### (b) Loss as a function of the learned features"
   ]
  },
  {
   "cell_type": "code",
   "execution_count": 18,
   "metadata": {},
   "outputs": [
    {
     "name": "stderr",
     "output_type": "stream",
     "text": [
      "\r",
      "  0%|          | 0/100 [00:00<?, ?it/s]"
     ]
    },
    {
     "name": "stdout",
     "output_type": "stream",
     "text": [
      "Learned features 2\n"
     ]
    },
    {
     "name": "stderr",
     "output_type": "stream",
     "text": [
      "100%|██████████| 100/100 [02:53<00:00,  1.73s/it]\n",
      "  0%|          | 0/100 [00:00<?, ?it/s]"
     ]
    },
    {
     "name": "stdout",
     "output_type": "stream",
     "text": [
      "Learned features 5\n"
     ]
    },
    {
     "name": "stderr",
     "output_type": "stream",
     "text": [
      "100%|██████████| 100/100 [03:01<00:00,  1.82s/it]\n",
      "  0%|          | 0/100 [00:00<?, ?it/s]"
     ]
    },
    {
     "name": "stdout",
     "output_type": "stream",
     "text": [
      "Learned features 10\n"
     ]
    },
    {
     "name": "stderr",
     "output_type": "stream",
     "text": [
      "100%|██████████| 100/100 [03:02<00:00,  1.83s/it]\n",
      "  0%|          | 0/100 [00:00<?, ?it/s]"
     ]
    },
    {
     "name": "stdout",
     "output_type": "stream",
     "text": [
      "Learned features 15\n"
     ]
    },
    {
     "name": "stderr",
     "output_type": "stream",
     "text": [
      "100%|██████████| 100/100 [02:58<00:00,  1.79s/it]\n",
      "  0%|          | 0/100 [00:00<?, ?it/s]"
     ]
    },
    {
     "name": "stdout",
     "output_type": "stream",
     "text": [
      "Learned features 20\n"
     ]
    },
    {
     "name": "stderr",
     "output_type": "stream",
     "text": [
      "100%|██████████| 100/100 [02:35<00:00,  1.56s/it]\n",
      "  0%|          | 0/100 [00:00<?, ?it/s]"
     ]
    },
    {
     "name": "stdout",
     "output_type": "stream",
     "text": [
      "Learned features 25\n"
     ]
    },
    {
     "name": "stderr",
     "output_type": "stream",
     "text": [
      "100%|██████████| 100/100 [02:41<00:00,  1.62s/it]\n",
      "  0%|          | 0/100 [00:00<?, ?it/s]"
     ]
    },
    {
     "name": "stdout",
     "output_type": "stream",
     "text": [
      "Learned features 50\n"
     ]
    },
    {
     "name": "stderr",
     "output_type": "stream",
     "text": [
      "100%|██████████| 100/100 [03:04<00:00,  1.85s/it]\n",
      "  0%|          | 0/100 [00:00<?, ?it/s]"
     ]
    },
    {
     "name": "stdout",
     "output_type": "stream",
     "text": [
      "Learned features 100\n"
     ]
    },
    {
     "name": "stderr",
     "output_type": "stream",
     "text": [
      "100%|██████████| 100/100 [02:59<00:00,  1.79s/it]\n"
     ]
    }
   ],
   "source": [
    "n_simulations = 100\n",
    "\n",
    "original_features = 10\n",
    "learned_features = [2,5,10,15,20,25,50,100]\n",
    "n_samples = 10\n",
    "n_epochs = 200\n",
    "    \n",
    "maxX = 5; minX = -5   \n",
    "\n",
    "avg_losses = np.zeros((2,len(learned_features)))\n",
    "for i,learn_feats in enumerate(learned_features):\n",
    "    \n",
    "    print('Learned features {0}'.format(learn_feats))\n",
    "    np_losses = []\n",
    "    tf_losses = []\n",
    "    \n",
    "    for _ in tqdm(range(n_simulations)):\n",
    "        X = (minX-maxX) * np.random.rand(n_samples,original_features) + maxX\n",
    "        \n",
    "        npsf = npSF.SFilter(epochs=n_epochs)\n",
    "        npsf.setFeatures(learn_feats)\n",
    "        npsf.setTrainData(X)\n",
    "        npsf.initializeWeights()\n",
    "        npsf.initialiazeNotebook()\n",
    "        npsf.train()\n",
    "        np_losses.append(npsf.notebook['losses'][-1])\n",
    "\n",
    "        tfsf = tfSF.SFilter(n_features=learn_feats)\n",
    "        tfsf.fit(X,epochs=n_epochs,verbose=0)\n",
    "        tf_losses.append(tfsf.hist.history['loss'][-1])\n",
    "        \n",
    "    avg_losses[0,i] = np.mean(np_losses)\n",
    "    avg_losses[1,i] = np.mean(tf_losses)"
   ]
  },
  {
   "cell_type": "code",
   "execution_count": 19,
   "metadata": {},
   "outputs": [
    {
     "data": {
      "text/plain": [
       "Text(0, 0.5, 'Final L1 loss')"
      ]
     },
     "execution_count": 19,
     "metadata": {},
     "output_type": "execute_result"
    },
    {
     "data": {
      "image/png": "[encoded data removed]",
      "text/plain": [
       "<Figure size 432x288 with 1 Axes>"
      ]
     },
     "metadata": {
      "needs_background": "light"
     },
     "output_type": "display_data"
    }
   ],
   "source": [
    "xs = np.arange(0,len(learned_features))\n",
    "plt.bar(xs, avg_losses[0,:], width=0.2, color='b', align='center', label='npSF')\n",
    "plt.bar(xs+0.2, avg_losses[1,:], width=0.2, color='g', align='center', label='tfSF')\n",
    "plt.legend()\n",
    "plt.xticks(np.arange(0,len(learned_features))+0.1,[str(i) for i in learned_features])\n",
    "plt.xlabel('Learned features')\n",
    "plt.ylabel('Final L1 loss')"
   ]
  },
  {
   "cell_type": "markdown",
   "metadata": {},
   "source": [
    "### (c) Loss as a function of the number of samples"
   ]
  },
  {
   "cell_type": "code",
   "execution_count": 20,
   "metadata": {},
   "outputs": [
    {
     "name": "stderr",
     "output_type": "stream",
     "text": [
      "\r",
      "  0%|          | 0/100 [00:00<?, ?it/s]"
     ]
    },
    {
     "name": "stdout",
     "output_type": "stream",
     "text": [
      "Samples 2\n"
     ]
    },
    {
     "name": "stderr",
     "output_type": "stream",
     "text": [
      "100%|██████████| 100/100 [02:32<00:00,  1.52s/it]\n",
      "  0%|          | 0/100 [00:00<?, ?it/s]"
     ]
    },
    {
     "name": "stdout",
     "output_type": "stream",
     "text": [
      "Samples 5\n"
     ]
    },
    {
     "name": "stderr",
     "output_type": "stream",
     "text": [
      "100%|██████████| 100/100 [02:31<00:00,  1.51s/it]\n",
      "  0%|          | 0/100 [00:00<?, ?it/s]"
     ]
    },
    {
     "name": "stdout",
     "output_type": "stream",
     "text": [
      "Samples 10\n"
     ]
    },
    {
     "name": "stderr",
     "output_type": "stream",
     "text": [
      "100%|██████████| 100/100 [02:30<00:00,  1.51s/it]\n",
      "  0%|          | 0/100 [00:00<?, ?it/s]"
     ]
    },
    {
     "name": "stdout",
     "output_type": "stream",
     "text": [
      "Samples 15\n"
     ]
    },
    {
     "name": "stderr",
     "output_type": "stream",
     "text": [
      "100%|██████████| 100/100 [02:30<00:00,  1.50s/it]\n",
      "  0%|          | 0/100 [00:00<?, ?it/s]"
     ]
    },
    {
     "name": "stdout",
     "output_type": "stream",
     "text": [
      "Samples 20\n"
     ]
    },
    {
     "name": "stderr",
     "output_type": "stream",
     "text": [
      "100%|██████████| 100/100 [02:32<00:00,  1.52s/it]\n",
      "  0%|          | 0/100 [00:00<?, ?it/s]"
     ]
    },
    {
     "name": "stdout",
     "output_type": "stream",
     "text": [
      "Samples 25\n"
     ]
    },
    {
     "name": "stderr",
     "output_type": "stream",
     "text": [
      "100%|██████████| 100/100 [02:32<00:00,  1.53s/it]\n",
      "  0%|          | 0/100 [00:00<?, ?it/s]"
     ]
    },
    {
     "name": "stdout",
     "output_type": "stream",
     "text": [
      "Samples 50\n"
     ]
    },
    {
     "name": "stderr",
     "output_type": "stream",
     "text": [
      "100%|██████████| 100/100 [02:29<00:00,  1.50s/it]\n",
      "  0%|          | 0/100 [00:00<?, ?it/s]"
     ]
    },
    {
     "name": "stdout",
     "output_type": "stream",
     "text": [
      "Samples 100\n"
     ]
    },
    {
     "name": "stderr",
     "output_type": "stream",
     "text": [
      "100%|██████████| 100/100 [02:37<00:00,  1.57s/it]\n"
     ]
    }
   ],
   "source": [
    "n_simulations = 100\n",
    "\n",
    "original_features = 10\n",
    "learned_features = 10\n",
    "n_samples = [2,5,10,15,20,25,50,100]\n",
    "n_epochs = 200\n",
    "    \n",
    "maxX = 5; minX = -5   \n",
    "\n",
    "avg_losses = np.zeros((2,len(n_samples)))\n",
    "for i,n_samp in enumerate(n_samples):\n",
    "    \n",
    "    print('Samples {0}'.format(n_samp))\n",
    "    np_losses = []\n",
    "    tf_losses = []\n",
    "    \n",
    "    for _ in tqdm(range(n_simulations)):\n",
    "        X = (minX-maxX) * np.random.rand(n_samp,original_features) + maxX\n",
    "        \n",
    "        npsf = npSF.SFilter(epochs=n_epochs)\n",
    "        npsf.setFeatures(learned_features)\n",
    "        npsf.setTrainData(X)\n",
    "        npsf.initializeWeights()\n",
    "        npsf.initialiazeNotebook()\n",
    "        npsf.train()\n",
    "        np_losses.append(npsf.notebook['losses'][-1])\n",
    "\n",
    "        tfsf = tfSF.SFilter(n_features=learned_features)\n",
    "        tfsf.fit(X,epochs=n_epochs,verbose=0,batchsize=n_samp)\n",
    "        tf_losses.append(tfsf.hist.history['loss'][-1])\n",
    "        \n",
    "    avg_losses[0,i] = np.mean(np_losses)\n",
    "    avg_losses[1,i] = np.mean(tf_losses)"
   ]
  },
  {
   "cell_type": "code",
   "execution_count": 21,
   "metadata": {},
   "outputs": [
    {
     "data": {
      "text/plain": [
       "Text(0, 0.5, 'Final L1 loss')"
      ]
     },
     "execution_count": 21,
     "metadata": {},
     "output_type": "execute_result"
    },
    {
     "data": {
      "image/png": "[encoded data removed]",
      "text/plain": [
       "<Figure size 432x288 with 1 Axes>"
      ]
     },
     "metadata": {
      "needs_background": "light"
     },
     "output_type": "display_data"
    }
   ],
   "source": [
    "xs = np.arange(0,len(n_samples))\n",
    "plt.bar(xs, avg_losses[0,:], width=0.2, color='b', align='center', label='npSF')\n",
    "plt.bar(xs+0.2, avg_losses[1,:], width=0.2, color='g', align='center', label='tfSF')\n",
    "plt.legend()\n",
    "plt.xticks(np.arange(0,len(n_samples))+0.1,[str(i) for i in n_samples])\n",
    "plt.xlabel('Number samples')\n",
    "plt.ylabel('Final L1 loss')"
   ]
  },
  {
   "cell_type": "markdown",
   "metadata": {},
   "source": [
    "### References\n",
    "[1] Ngiam, J., Chen, Z., Bhaskar, S.A., Koh, P.W. and Ng, A.Y., 2011. Sparse filtering. In Advances in neural information processing systems (pp. 1125-1133).\n",
    "\n",
    "[2] https://github.com/jngiam/sparseFiltering\n",
    "\n",
    "[3] https://github.com/jmetzen/sparse-filtering\n",
    "\n",
    "[4] https://github.com/FMZennaro/PSF"
   ]
  }
 ],
 "metadata": {
  "kernelspec": {
   "display_name": "Python 3",
   "language": "python",
   "name": "python3"
  },
  "language_info": {
   "codemirror_mode": {
    "name": "ipython",
    "version": 3
   },
   "file_extension": ".py",
   "mimetype": "text/x-python",
   "name": "python",
   "nbconvert_exporter": "python",
   "pygments_lexer": "ipython3",
   "version": "3.6.10"
  }
 },
 "nbformat": 4,
 "nbformat_minor": 4
}
