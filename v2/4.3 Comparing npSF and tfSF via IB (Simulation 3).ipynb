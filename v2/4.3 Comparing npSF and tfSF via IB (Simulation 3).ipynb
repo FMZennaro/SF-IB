{
 "cells": [
  {
   "cell_type": "markdown",
   "metadata": {},
   "source": [
    "# Comparing npSF and tfSF via IB (Simulation 3)\n",
    "\n",
    "In this notebook we compare npSF and tfSF using the IB, reproducing some of the experiments in [1]."
   ]
  },
  {
   "cell_type": "markdown",
   "metadata": {},
   "source": [
    "## Setup\n",
    "\n",
    "We start by importing some libraries:"
   ]
  },
  {
   "cell_type": "code",
   "execution_count": 1,
   "metadata": {},
   "outputs": [],
   "source": [
    "import numpy as np\n",
    "import joblib\n",
    "import sklearn.datasets as ds\n",
    "import scipy.stats as stats\n",
    "import matplotlib.pyplot as plt\n",
    "from tqdm import tqdm\n",
    "from scipy.stats import linregress\n",
    "\n",
    "import tfSF\n",
    "import npSF\n",
    "\n",
    "import data.data_creation as D\n",
    "from IT import IT"
   ]
  },
  {
   "cell_type": "markdown",
   "metadata": {},
   "source": [
    "We define the parameters of our simulation:"
   ]
  },
  {
   "cell_type": "code",
   "execution_count": 2,
   "metadata": {},
   "outputs": [],
   "source": [
    "learned_features = 8\n",
    "n_epochs = 200\n",
    "\n",
    "IT_bins=30"
   ]
  },
  {
   "cell_type": "markdown",
   "metadata": {},
   "source": [
    "We define a couple of helper functions: a simple linear regression function and a helper function to compute the tfSF learned representation as a function of the weights. Notice that here, for simplicity, we call the steps of SF implemented using *numpy*; since no learning is now required, using *numpy* saves us the overhead of instantiating a *tensorflow* model."
   ]
  },
  {
   "cell_type": "code",
   "execution_count": 3,
   "metadata": {},
   "outputs": [],
   "source": [
    "def linreg(x,y):\n",
    "    a, b, _, _, _ = stats.linregress(x,y)\n",
    "    return a*x+b\n",
    "    \n",
    "\n",
    "def computeZ(X,W):\n",
    "    WX = np.dot(W,X.T)\n",
    "    F = npSF.softabsolute(WX)\n",
    "    Fsquish, _ = npSF.l2row(F)\n",
    "    Fhat, _ = npSF.l2row(Fsquish.T)\n",
    "    Z = Fhat\n",
    "    return Z"
   ]
  },
  {
   "cell_type": "markdown",
   "metadata": {},
   "source": [
    "## Simulation 3 from [1]\n",
    "\n",
    "We now reproduce the results for *Simulation 3* in [1]. We generate random data."
   ]
  },
  {
   "cell_type": "code",
   "execution_count": 4,
   "metadata": {},
   "outputs": [],
   "source": [
    "data = D.get_samples_multivariate_gaussians_ND(n_samples_train=900, \n",
    "                                            n_samples_test=100, \n",
    "                                            mu = stats.uniform.rvs(loc=-5,scale=10,size=4), \n",
    "                                            sigma = ds.make_spd_matrix(4))"
   ]
  },
  {
   "cell_type": "markdown",
   "metadata": {},
   "source": [
    "We train the tfSF module."
   ]
  },
  {
   "cell_type": "code",
   "execution_count": 5,
   "metadata": {},
   "outputs": [
    {
     "name": "stdout",
     "output_type": "stream",
     "text": [
      "Epoch 1/200\n",
      "1/1 [==============================] - 0s 2ms/step - loss: 2377.0742\n",
      "Epoch 2/200\n",
      "1/1 [==============================] - 0s 2ms/step - loss: 2317.6770\n",
      "Epoch 3/200\n",
      "1/1 [==============================] - 0s 2ms/step - loss: 2247.0947\n",
      "Epoch 4/200\n",
      "1/1 [==============================] - 0s 4ms/step - loss: 2225.9431\n",
      "Epoch 5/200\n",
      "1/1 [==============================] - 0s 9ms/step - loss: 2219.8528\n",
      "Epoch 6/200\n",
      "1/1 [==============================] - 0s 7ms/step - loss: 2226.5435\n",
      "Epoch 7/200\n",
      "1/1 [==============================] - 0s 6ms/step - loss: 2218.0593\n",
      "Epoch 8/200\n",
      "1/1 [==============================] - 0s 9ms/step - loss: 2204.6003\n",
      "Epoch 9/200\n",
      "1/1 [==============================] - 0s 13ms/step - loss: 2196.0088\n",
      "Epoch 10/200\n",
      "1/1 [==============================] - 0s 8ms/step - loss: 2196.7390\n",
      "Epoch 11/200\n",
      "1/1 [==============================] - 0s 1ms/step - loss: 2196.9246\n",
      "Epoch 12/200\n",
      "1/1 [==============================] - 0s 5ms/step - loss: 2193.7981\n",
      "Epoch 13/200\n",
      "1/1 [==============================] - 0s 3ms/step - loss: 2185.9883\n",
      "Epoch 14/200\n",
      "1/1 [==============================] - 0s 2ms/step - loss: 2183.0669\n",
      "Epoch 15/200\n",
      "1/1 [==============================] - 0s 4ms/step - loss: 2181.2671\n",
      "Epoch 16/200\n",
      "1/1 [==============================] - 0s 4ms/step - loss: 2177.9170\n",
      "Epoch 17/200\n",
      "1/1 [==============================] - 0s 2ms/step - loss: 2173.0146\n",
      "Epoch 18/200\n",
      "1/1 [==============================] - 0s 2ms/step - loss: 2167.0938\n",
      "Epoch 19/200\n",
      "1/1 [==============================] - 0s 4ms/step - loss: 2169.2500\n",
      "Epoch 20/200\n",
      "1/1 [==============================] - 0s 2ms/step - loss: 2171.1094\n",
      "Epoch 21/200\n",
      "1/1 [==============================] - 0s 2ms/step - loss: 2168.5195\n",
      "Epoch 22/200\n",
      "1/1 [==============================] - 0s 2ms/step - loss: 2165.9712\n",
      "Epoch 23/200\n",
      "1/1 [==============================] - 0s 2ms/step - loss: 2165.4072\n",
      "Epoch 24/200\n",
      "1/1 [==============================] - 0s 9ms/step - loss: 2165.0684\n",
      "Epoch 25/200\n",
      "1/1 [==============================] - 0s 3ms/step - loss: 2163.4441\n",
      "Epoch 26/200\n",
      "1/1 [==============================] - 0s 2ms/step - loss: 2161.4937\n",
      "Epoch 27/200\n",
      "1/1 [==============================] - 0s 5ms/step - loss: 2160.5525\n",
      "Epoch 28/200\n",
      "1/1 [==============================] - 0s 2ms/step - loss: 2160.7078\n",
      "Epoch 29/200\n",
      "1/1 [==============================] - 0s 2ms/step - loss: 2161.1826\n",
      "Epoch 30/200\n",
      "1/1 [==============================] - 0s 7ms/step - loss: 2160.6443\n",
      "Epoch 31/200\n",
      "1/1 [==============================] - 0s 4ms/step - loss: 2159.1733\n",
      "Epoch 32/200\n",
      "1/1 [==============================] - 0s 2ms/step - loss: 2158.0500\n",
      "Epoch 33/200\n",
      "1/1 [==============================] - 0s 3ms/step - loss: 2157.4194\n",
      "Epoch 34/200\n",
      "1/1 [==============================] - 0s 3ms/step - loss: 2156.8213\n",
      "Epoch 35/200\n",
      "1/1 [==============================] - 0s 2ms/step - loss: 2156.1599\n",
      "Epoch 36/200\n",
      "1/1 [==============================] - 0s 2ms/step - loss: 2154.5601\n",
      "Epoch 37/200\n",
      "1/1 [==============================] - ETA: 0s - loss: 2153.04 - 0s 2ms/step - loss: 2153.0488\n",
      "Epoch 38/200\n",
      "1/1 [==============================] - 0s 2ms/step - loss: 2152.6099\n",
      "Epoch 39/200\n",
      "1/1 [==============================] - 0s 1ms/step - loss: 2152.4883\n",
      "Epoch 40/200\n",
      "1/1 [==============================] - 0s 1ms/step - loss: 2151.3113\n",
      "Epoch 41/200\n",
      "1/1 [==============================] - 0s 1ms/step - loss: 2150.6094\n",
      "Epoch 42/200\n",
      "1/1 [==============================] - 0s 1ms/step - loss: 2150.7188\n",
      "Epoch 43/200\n",
      "1/1 [==============================] - ETA: 0s - loss: 2150.27 - 0s 1ms/step - loss: 2150.2781\n",
      "Epoch 44/200\n",
      "1/1 [==============================] - 0s 1ms/step - loss: 2149.7866\n",
      "Epoch 45/200\n",
      "1/1 [==============================] - 0s 1ms/step - loss: 2149.2559\n",
      "Epoch 46/200\n",
      "1/1 [==============================] - 0s 2ms/step - loss: 2148.8208\n",
      "Epoch 47/200\n",
      "1/1 [==============================] - 0s 2ms/step - loss: 2148.3975\n",
      "Epoch 48/200\n",
      "1/1 [==============================] - 0s 1ms/step - loss: 2147.6777\n",
      "Epoch 49/200\n",
      "1/1 [==============================] - 0s 1ms/step - loss: 2146.9207\n",
      "Epoch 50/200\n",
      "1/1 [==============================] - 0s 1ms/step - loss: 2146.2656\n",
      "Epoch 51/200\n",
      "1/1 [==============================] - 0s 1ms/step - loss: 2145.6182\n",
      "Epoch 52/200\n",
      "1/1 [==============================] - 0s 2ms/step - loss: 2144.9302\n",
      "Epoch 53/200\n",
      "1/1 [==============================] - 0s 1ms/step - loss: 2144.2759\n",
      "Epoch 54/200\n",
      "1/1 [==============================] - 0s 2ms/step - loss: 2143.6025\n",
      "Epoch 55/200\n",
      "1/1 [==============================] - 0s 2ms/step - loss: 2142.9854\n",
      "Epoch 56/200\n",
      "1/1 [==============================] - 0s 2ms/step - loss: 2142.3462\n",
      "Epoch 57/200\n",
      "1/1 [==============================] - 0s 4ms/step - loss: 2141.7207\n",
      "Epoch 58/200\n",
      "1/1 [==============================] - 0s 6ms/step - loss: 2141.2361\n",
      "Epoch 59/200\n",
      "1/1 [==============================] - 0s 4ms/step - loss: 2140.5608\n",
      "Epoch 60/200\n",
      "1/1 [==============================] - 0s 2ms/step - loss: 2140.1326\n",
      "Epoch 61/200\n",
      "1/1 [==============================] - 0s 1ms/step - loss: 2139.6689\n",
      "Epoch 62/200\n",
      "1/1 [==============================] - 0s 1ms/step - loss: 2139.0188\n",
      "Epoch 63/200\n",
      "1/1 [==============================] - 0s 1ms/step - loss: 2138.3818\n",
      "Epoch 64/200\n",
      "1/1 [==============================] - 0s 1ms/step - loss: 2137.6101\n",
      "Epoch 65/200\n",
      "1/1 [==============================] - 0s 2ms/step - loss: 2136.7539\n",
      "Epoch 66/200\n",
      "1/1 [==============================] - 0s 2ms/step - loss: 2135.8811\n",
      "Epoch 67/200\n",
      "1/1 [==============================] - 0s 2ms/step - loss: 2135.0581\n",
      "Epoch 68/200\n",
      "1/1 [==============================] - 0s 2ms/step - loss: 2133.9941\n",
      "Epoch 69/200\n",
      "1/1 [==============================] - 0s 2ms/step - loss: 2132.6660\n",
      "Epoch 70/200\n",
      "1/1 [==============================] - 0s 2ms/step - loss: 2131.5764\n",
      "Epoch 71/200\n",
      "1/1 [==============================] - 0s 2ms/step - loss: 2131.0095\n",
      "Epoch 72/200\n",
      "1/1 [==============================] - 0s 2ms/step - loss: 2130.5190\n",
      "Epoch 73/200\n",
      "1/1 [==============================] - 0s 2ms/step - loss: 2130.0471\n",
      "Epoch 74/200\n",
      "1/1 [==============================] - 0s 3ms/step - loss: 2129.5381\n",
      "Epoch 75/200\n",
      "1/1 [==============================] - 0s 3ms/step - loss: 2129.1404\n",
      "Epoch 76/200\n",
      "1/1 [==============================] - 0s 3ms/step - loss: 2128.5767\n",
      "Epoch 77/200\n",
      "1/1 [==============================] - 0s 3ms/step - loss: 2127.9980\n",
      "Epoch 78/200\n",
      "1/1 [==============================] - 0s 3ms/step - loss: 2127.7300\n",
      "Epoch 79/200\n",
      "1/1 [==============================] - 0s 3ms/step - loss: 2127.4551\n",
      "Epoch 80/200\n",
      "1/1 [==============================] - 0s 3ms/step - loss: 2126.9814\n",
      "Epoch 81/200\n",
      "1/1 [==============================] - 0s 3ms/step - loss: 2126.6299\n",
      "Epoch 82/200\n",
      "1/1 [==============================] - 0s 3ms/step - loss: 2126.4346\n",
      "Epoch 83/200\n",
      "1/1 [==============================] - 0s 3ms/step - loss: 2125.9614\n",
      "Epoch 84/200\n",
      "1/1 [==============================] - 0s 3ms/step - loss: 2125.8362\n",
      "Epoch 85/200\n",
      "1/1 [==============================] - 0s 3ms/step - loss: 2125.4448\n",
      "Epoch 86/200\n",
      "1/1 [==============================] - 0s 3ms/step - loss: 2125.0737\n",
      "Epoch 87/200\n",
      "1/1 [==============================] - 0s 1ms/step - loss: 2124.7659\n",
      "Epoch 88/200\n",
      "1/1 [==============================] - 0s 1ms/step - loss: 2124.5801\n",
      "Epoch 89/200\n",
      "1/1 [==============================] - 0s 1ms/step - loss: 2124.2798\n",
      "Epoch 90/200\n",
      "1/1 [==============================] - 0s 1ms/step - loss: 2123.8936\n",
      "Epoch 91/200\n",
      "1/1 [==============================] - 0s 1ms/step - loss: 2123.4136\n",
      "Epoch 92/200\n",
      "1/1 [==============================] - 0s 2ms/step - loss: 2123.0125\n",
      "Epoch 93/200\n",
      "1/1 [==============================] - 0s 4ms/step - loss: 2123.0515\n",
      "Epoch 94/200\n",
      "1/1 [==============================] - 0s 2ms/step - loss: 2122.8472\n",
      "Epoch 95/200\n",
      "1/1 [==============================] - 0s 2ms/step - loss: 2122.5112\n",
      "Epoch 96/200\n",
      "1/1 [==============================] - 0s 2ms/step - loss: 2122.1406\n",
      "Epoch 97/200\n",
      "1/1 [==============================] - 0s 2ms/step - loss: 2122.1421\n",
      "Epoch 98/200\n",
      "1/1 [==============================] - 0s 2ms/step - loss: 2121.7363\n",
      "Epoch 99/200\n",
      "1/1 [==============================] - 0s 2ms/step - loss: 2121.3584\n",
      "Epoch 100/200\n"
     ]
    },
    {
     "name": "stdout",
     "output_type": "stream",
     "text": [
      "1/1 [==============================] - 0s 2ms/step - loss: 2120.9917\n",
      "Epoch 101/200\n",
      "1/1 [==============================] - 0s 1ms/step - loss: 2120.6252\n",
      "Epoch 102/200\n",
      "1/1 [==============================] - 0s 2ms/step - loss: 2120.2065\n",
      "Epoch 103/200\n",
      "1/1 [==============================] - 0s 2ms/step - loss: 2119.8567\n",
      "Epoch 104/200\n",
      "1/1 [==============================] - 0s 2ms/step - loss: 2119.4404\n",
      "Epoch 105/200\n",
      "1/1 [==============================] - 0s 2ms/step - loss: 2119.2886\n",
      "Epoch 106/200\n",
      "1/1 [==============================] - 0s 2ms/step - loss: 2119.0481\n",
      "Epoch 107/200\n",
      "1/1 [==============================] - 0s 2ms/step - loss: 2119.0120\n",
      "Epoch 108/200\n",
      "1/1 [==============================] - 0s 2ms/step - loss: 2118.6304\n",
      "Epoch 109/200\n",
      "1/1 [==============================] - 0s 2ms/step - loss: 2118.5256\n",
      "Epoch 110/200\n",
      "1/1 [==============================] - 0s 2ms/step - loss: 2118.2490\n",
      "Epoch 111/200\n",
      "1/1 [==============================] - 0s 2ms/step - loss: 2118.0273\n",
      "Epoch 112/200\n",
      "1/1 [==============================] - 0s 2ms/step - loss: 2117.8604\n",
      "Epoch 113/200\n",
      "1/1 [==============================] - 0s 2ms/step - loss: 2117.4658\n",
      "Epoch 114/200\n",
      "1/1 [==============================] - 0s 2ms/step - loss: 2117.4785\n",
      "Epoch 115/200\n",
      "1/1 [==============================] - 0s 2ms/step - loss: 2117.0376\n",
      "Epoch 116/200\n",
      "1/1 [==============================] - 0s 2ms/step - loss: 2116.9697\n",
      "Epoch 117/200\n",
      "1/1 [==============================] - 0s 2ms/step - loss: 2116.7900\n",
      "Epoch 118/200\n",
      "1/1 [==============================] - 0s 1ms/step - loss: 2116.3843\n",
      "Epoch 119/200\n",
      "1/1 [==============================] - 0s 2ms/step - loss: 2116.3604\n",
      "Epoch 120/200\n",
      "1/1 [==============================] - 0s 1ms/step - loss: 2116.1428\n",
      "Epoch 121/200\n",
      "1/1 [==============================] - 0s 1ms/step - loss: 2116.2158\n",
      "Epoch 122/200\n",
      "1/1 [==============================] - 0s 1ms/step - loss: 2116.4502\n",
      "Epoch 123/200\n",
      "1/1 [==============================] - 0s 1ms/step - loss: 2116.0215\n",
      "Epoch 124/200\n",
      "1/1 [==============================] - 0s 1ms/step - loss: 2116.6963\n",
      "Epoch 125/200\n",
      "1/1 [==============================] - 0s 1ms/step - loss: 2116.1956\n",
      "Epoch 126/200\n",
      "1/1 [==============================] - 0s 1ms/step - loss: 2116.2542\n",
      "Epoch 127/200\n",
      "1/1 [==============================] - 0s 1ms/step - loss: 2115.2656\n",
      "Epoch 128/200\n",
      "1/1 [==============================] - 0s 1ms/step - loss: 2116.1714\n",
      "Epoch 129/200\n",
      "1/1 [==============================] - 0s 1ms/step - loss: 2115.0474\n",
      "Epoch 130/200\n",
      "1/1 [==============================] - 0s 1ms/step - loss: 2115.4985\n",
      "Epoch 131/200\n",
      "1/1 [==============================] - 0s 3ms/step - loss: 2115.2258\n",
      "Epoch 132/200\n",
      "1/1 [==============================] - 0s 2ms/step - loss: 2115.6101\n",
      "Epoch 133/200\n",
      "1/1 [==============================] - ETA: 0s - loss: 2115.48 - 0s 2ms/step - loss: 2115.4844\n",
      "Epoch 134/200\n",
      "1/1 [==============================] - 0s 2ms/step - loss: 2116.1416\n",
      "Epoch 135/200\n",
      "1/1 [==============================] - 0s 2ms/step - loss: 2115.3203\n",
      "Epoch 136/200\n",
      "1/1 [==============================] - ETA: 0s - loss: 2115.50 - 0s 1ms/step - loss: 2115.5088\n",
      "Epoch 137/200\n",
      "1/1 [==============================] - 0s 2ms/step - loss: 2115.4851\n",
      "Epoch 138/200\n",
      "1/1 [==============================] - 0s 1ms/step - loss: 2115.0400\n",
      "Epoch 139/200\n",
      "1/1 [==============================] - 0s 2ms/step - loss: 2115.2817\n",
      "Epoch 140/200\n",
      "1/1 [==============================] - 0s 1ms/step - loss: 2114.7827\n",
      "Epoch 141/200\n",
      "1/1 [==============================] - 0s 2ms/step - loss: 2114.9834\n",
      "Epoch 142/200\n",
      "1/1 [==============================] - 0s 1ms/step - loss: 2114.8875\n",
      "Epoch 143/200\n",
      "1/1 [==============================] - 0s 2ms/step - loss: 2114.7063\n",
      "Epoch 144/200\n",
      "1/1 [==============================] - 0s 2ms/step - loss: 2114.8838\n",
      "Epoch 145/200\n",
      "1/1 [==============================] - ETA: 0s - loss: 2114.56 - 0s 2ms/step - loss: 2114.5693\n",
      "Epoch 146/200\n",
      "1/1 [==============================] - 0s 1ms/step - loss: 2114.5352\n",
      "Epoch 147/200\n",
      "1/1 [==============================] - 0s 2ms/step - loss: 2114.4417\n",
      "Epoch 148/200\n",
      "1/1 [==============================] - 0s 1ms/step - loss: 2114.2839\n",
      "Epoch 149/200\n",
      "1/1 [==============================] - 0s 1ms/step - loss: 2114.3608\n",
      "Epoch 150/200\n",
      "1/1 [==============================] - 0s 1ms/step - loss: 2114.5024\n",
      "Epoch 151/200\n",
      "1/1 [==============================] - 0s 2ms/step - loss: 2114.1772\n",
      "Epoch 152/200\n",
      "1/1 [==============================] - 0s 2ms/step - loss: 2114.1152\n",
      "Epoch 153/200\n",
      "1/1 [==============================] - 0s 2ms/step - loss: 2113.9133\n",
      "Epoch 154/200\n",
      "1/1 [==============================] - 0s 1ms/step - loss: 2113.8853\n",
      "Epoch 155/200\n",
      "1/1 [==============================] - 0s 2ms/step - loss: 2113.8101\n",
      "Epoch 156/200\n",
      "1/1 [==============================] - 0s 2ms/step - loss: 2113.6519\n",
      "Epoch 157/200\n",
      "1/1 [==============================] - 0s 2ms/step - loss: 2113.9365\n",
      "Epoch 158/200\n",
      "1/1 [==============================] - 0s 1ms/step - loss: 2113.5645\n",
      "Epoch 159/200\n",
      "1/1 [==============================] - 0s 2ms/step - loss: 2114.0320\n",
      "Epoch 160/200\n",
      "1/1 [==============================] - 0s 2ms/step - loss: 2113.6267\n",
      "Epoch 161/200\n",
      "1/1 [==============================] - 0s 2ms/step - loss: 2113.5225\n",
      "Epoch 162/200\n",
      "1/1 [==============================] - 0s 3ms/step - loss: 2113.4937\n",
      "Epoch 163/200\n",
      "1/1 [==============================] - 0s 3ms/step - loss: 2113.2947\n",
      "Epoch 164/200\n",
      "1/1 [==============================] - 0s 3ms/step - loss: 2113.5476\n",
      "Epoch 165/200\n",
      "1/1 [==============================] - 0s 3ms/step - loss: 2113.3259\n",
      "Epoch 166/200\n",
      "1/1 [==============================] - 0s 2ms/step - loss: 2113.2405\n",
      "Epoch 167/200\n",
      "1/1 [==============================] - 0s 2ms/step - loss: 2113.4197\n",
      "Epoch 168/200\n",
      "1/1 [==============================] - 0s 3ms/step - loss: 2113.1685\n",
      "Epoch 169/200\n",
      "1/1 [==============================] - 0s 2ms/step - loss: 2113.4062\n",
      "Epoch 170/200\n",
      "1/1 [==============================] - 0s 2ms/step - loss: 2113.1296\n",
      "Epoch 171/200\n",
      "1/1 [==============================] - 0s 2ms/step - loss: 2113.2112\n",
      "Epoch 172/200\n",
      "1/1 [==============================] - 0s 2ms/step - loss: 2113.5801\n",
      "Epoch 173/200\n",
      "1/1 [==============================] - 0s 2ms/step - loss: 2113.1975\n",
      "Epoch 174/200\n",
      "1/1 [==============================] - 0s 2ms/step - loss: 2113.3794\n",
      "Epoch 175/200\n",
      "1/1 [==============================] - 0s 2ms/step - loss: 2113.2634\n",
      "Epoch 176/200\n",
      "1/1 [==============================] - 0s 2ms/step - loss: 2113.1924\n",
      "Epoch 177/200\n",
      "1/1 [==============================] - 0s 2ms/step - loss: 2113.5596\n",
      "Epoch 178/200\n",
      "1/1 [==============================] - 0s 2ms/step - loss: 2113.1221\n",
      "Epoch 179/200\n",
      "1/1 [==============================] - 0s 2ms/step - loss: 2113.3286\n",
      "Epoch 180/200\n",
      "1/1 [==============================] - 0s 2ms/step - loss: 2113.2803\n",
      "Epoch 181/200\n",
      "1/1 [==============================] - 0s 2ms/step - loss: 2113.1401\n",
      "Epoch 182/200\n",
      "1/1 [==============================] - 0s 2ms/step - loss: 2113.3896\n",
      "Epoch 183/200\n",
      "1/1 [==============================] - 0s 2ms/step - loss: 2113.2563\n",
      "Epoch 184/200\n",
      "1/1 [==============================] - 0s 2ms/step - loss: 2113.6021\n",
      "Epoch 185/200\n",
      "1/1 [==============================] - 0s 2ms/step - loss: 2113.1250\n",
      "Epoch 186/200\n",
      "1/1 [==============================] - ETA: 0s - loss: 2113.50 - 0s 3ms/step - loss: 2113.5029\n",
      "Epoch 187/200\n",
      "1/1 [==============================] - 0s 2ms/step - loss: 2113.0886\n",
      "Epoch 188/200\n",
      "1/1 [==============================] - 0s 2ms/step - loss: 2113.2603\n",
      "Epoch 189/200\n",
      "1/1 [==============================] - 0s 1ms/step - loss: 2113.4441\n",
      "Epoch 190/200\n",
      "1/1 [==============================] - 0s 7ms/step - loss: 2112.8364\n",
      "Epoch 191/200\n",
      "1/1 [==============================] - 0s 1ms/step - loss: 2113.5962\n",
      "Epoch 192/200\n",
      "1/1 [==============================] - 0s 1ms/step - loss: 2113.0706\n",
      "Epoch 193/200\n",
      "1/1 [==============================] - 0s 1ms/step - loss: 2113.2349\n",
      "Epoch 194/200\n",
      "1/1 [==============================] - 0s 1ms/step - loss: 2113.6211\n",
      "Epoch 195/200\n",
      "1/1 [==============================] - 0s 2ms/step - loss: 2112.7744\n",
      "Epoch 196/200\n",
      "1/1 [==============================] - 0s 1ms/step - loss: 2113.6768\n",
      "Epoch 197/200\n"
     ]
    },
    {
     "name": "stdout",
     "output_type": "stream",
     "text": [
      "1/1 [==============================] - 0s 1ms/step - loss: 2113.3438\n",
      "Epoch 198/200\n",
      "1/1 [==============================] - 0s 2ms/step - loss: 2113.0164\n",
      "Epoch 199/200\n",
      "1/1 [==============================] - 0s 6ms/step - loss: 2113.8701\n",
      "Epoch 200/200\n",
      "1/1 [==============================] - 0s 1ms/step - loss: 2112.7456\n"
     ]
    }
   ],
   "source": [
    "tfsf = tfSF.SFilter(n_features=learned_features)\n",
    "tfsf.fit(data['X_tr'], epochs=n_epochs, batchsize=900)"
   ]
  },
  {
   "cell_type": "markdown",
   "metadata": {},
   "source": [
    "We train the npSF module."
   ]
  },
  {
   "cell_type": "code",
   "execution_count": 6,
   "metadata": {},
   "outputs": [],
   "source": [
    "npsf = npSF.SFilter()\n",
    "npsf.setFeatures(learned_features)\n",
    "npsf.setTrainData(data['X_tr'])\n",
    "npsf.initializeWeights()\n",
    "npsf.initialiazeNotebook()\n",
    "npsf.train()"
   ]
  },
  {
   "cell_type": "markdown",
   "metadata": {},
   "source": [
    "We plot the loss function to verify that the models converged to a solution."
   ]
  },
  {
   "cell_type": "code",
   "execution_count": 7,
   "metadata": {},
   "outputs": [
    {
     "data": {
      "text/plain": [
       "<matplotlib.legend.Legend at 0x7f26d4423dd8>"
      ]
     },
     "execution_count": 7,
     "metadata": {},
     "output_type": "execute_result"
    },
    {
     "data": {
      "image/png": "[encoded data removed]",
      "text/plain": [
       "<Figure size 432x288 with 1 Axes>"
      ]
     },
     "metadata": {
      "needs_background": "light"
     },
     "output_type": "display_data"
    }
   ],
   "source": [
    "plt.title('Loss'); \n",
    "plt.xlabel('Epochs'); \n",
    "plt.ylabel('L1 loss');\n",
    "\n",
    "plt.plot(npsf.notebook['losses'],label='npSF')\n",
    "plt.plot(tfsf.hist.history['loss'],label='tfSF')\n",
    "plt.legend()"
   ]
  },
  {
   "cell_type": "markdown",
   "metadata": {},
   "source": [
    "We compute the information-theoretic statistics of interest (entropy and mutual information) at each iteration."
   ]
  },
  {
   "cell_type": "code",
   "execution_count": 8,
   "metadata": {},
   "outputs": [],
   "source": [
    "npWs = npsf.notebook['weights']    \n",
    "    \n",
    "np_Z_tes = []; np_MI_XZs = []; np_H_Zs = []  \n",
    "for W in npWs:\n",
    "    Z_te = computeZ(data['X_te'],W)\n",
    "    \n",
    "    np_Z_tes.append(Z_te)\n",
    "    np_MI_XZs.append(IT.compute_MI_dd_bin(data['X_te'],Z_te,n_bins=IT_bins))\n",
    "    np_H_Zs.append(IT.compute_H_bin(Z_te,n_bins=IT_bins))\n",
    "\n",
    "\n",
    "tfWs = tfsf.weights\n",
    "\n",
    "tf_Z_tes = []; tf_MI_XZs = []; tf_H_Zs = []  \n",
    "for W in tfWs:\n",
    "    Z_te = computeZ(data['X_te'],W)\n",
    "    \n",
    "    tf_Z_tes.append(Z_te)\n",
    "    tf_MI_XZs.append(IT.compute_MI_dd_bin(data['X_te'],Z_te,n_bins=IT_bins))\n",
    "    tf_H_Zs.append(IT.compute_H_bin(Z_te,n_bins=IT_bins))"
   ]
  },
  {
   "cell_type": "code",
   "execution_count": 9,
   "metadata": {},
   "outputs": [],
   "source": [
    "Z_trs = []\n",
    "for W in tfWs:\n",
    "    Z_tr = computeZ(data['X_tr'],W)\n",
    "    Z_trs.append(Z_tr)"
   ]
  },
  {
   "cell_type": "markdown",
   "metadata": {},
   "source": [
    "We plot entropy and mutual information."
   ]
  },
  {
   "cell_type": "code",
   "execution_count": 10,
   "metadata": {},
   "outputs": [
    {
     "data": {
      "text/plain": [
       "[<matplotlib.lines.Line2D at 0x7f26d42c4898>]"
      ]
     },
     "execution_count": 10,
     "metadata": {},
     "output_type": "execute_result"
    },
    {
     "data": {
      "image/png": "[encoded data removed]",
      "text/plain": [
       "<Figure size 432x288 with 4 Axes>"
      ]
     },
     "metadata": {
      "needs_background": "light"
     },
     "output_type": "display_data"
    }
   ],
   "source": [
    "_,ax = plt.subplots(2,2)\n",
    "\n",
    "ax[0,0].plot(np_MI_XZs)\n",
    "ax[0,0].set_title('npSF: I(X;Z)')\n",
    "ax[0,0].set_xlabel('Epochs')\n",
    "ax[0,0].set_ylabel('Bits')\n",
    "ax[0,0].plot(linreg(np.arange(len(np_MI_XZs)),np_MI_XZs),'r--')\n",
    "\n",
    "ax[0,1].plot(tf_MI_XZs)\n",
    "ax[0,1].set_title('tfSF: I(X;Z)')\n",
    "ax[0,1].set_xlabel('Epochs')\n",
    "ax[0,1].set_ylabel('Bits')\n",
    "ax[0,1].plot(linreg(np.arange(n_epochs),tf_MI_XZs),'r--')\n",
    "\n",
    "ax[1,0].plot(np_H_Zs)\n",
    "ax[1,0].set_title('npSF: H(Z)')\n",
    "ax[1,0].set_xlabel('Epochs')\n",
    "ax[1,0].set_ylabel('Bits')\n",
    "ax[1,0].plot(linreg(np.arange(len(np_H_Zs)),np_H_Zs),'r--')\n",
    "\n",
    "ax[1,1].plot(tf_H_Zs)\n",
    "ax[1,1].set_title('tfSF: H(Z)')\n",
    "ax[1,1].set_xlabel('Epochs')\n",
    "ax[1,1].set_ylabel('Bits')\n",
    "ax[1,1].plot(linreg(np.arange(n_epochs),tf_H_Zs),'r--')"
   ]
  },
  {
   "cell_type": "markdown",
   "metadata": {},
   "source": [
    "And the information graphs."
   ]
  },
  {
   "cell_type": "code",
   "execution_count": 11,
   "metadata": {},
   "outputs": [
    {
     "data": {
      "text/plain": [
       "<matplotlib.collections.PathCollection at 0x7f26d41b5128>"
      ]
     },
     "execution_count": 11,
     "metadata": {},
     "output_type": "execute_result"
    },
    {
     "data": {
      "image/png": "[encoded data removed]",
      "text/plain": [
       "<Figure size 432x288 with 2 Axes>"
      ]
     },
     "metadata": {
      "needs_background": "light"
     },
     "output_type": "display_data"
    }
   ],
   "source": [
    "_,ax = plt.subplots(1,2)\n",
    "\n",
    "ax[0].set_title('npSF: Info plot'); \n",
    "ax[0].set_xlabel('I(X;T)'); \n",
    "ax[0].set_ylabel('H(T)'); \n",
    "ax[0].plot(np_MI_XZs,np_H_Zs,c='black', zorder=0)\n",
    "ax[0].scatter(np_MI_XZs[1:-1],np_H_Zs[1:-1],c='black',s=30, zorder=1)\n",
    "ax[0].scatter(np_MI_XZs[0],np_H_Zs[0],c='green',s=75,zorder=2)\n",
    "ax[0].scatter(np_MI_XZs[-1],np_H_Zs[-1],c='red',s=75,zorder=2)\n",
    "\n",
    "ax[1].set_title('tfSF: Info plot'); \n",
    "ax[1].set_xlabel('I(X;T)'); \n",
    "ax[1].set_ylabel('H(T)'); \n",
    "ax[1].plot(tf_MI_XZs,tf_H_Zs,c='black', zorder=0)\n",
    "ax[1].scatter(tf_MI_XZs[1:-1],tf_H_Zs[1:-1],c='black',s=30, zorder=1)\n",
    "ax[1].scatter(tf_MI_XZs[0],tf_H_Zs[0],c='green',s=75,zorder=2)\n",
    "ax[1].scatter(tf_MI_XZs[-1],tf_H_Zs[-1],c='red',s=75,zorder=2)"
   ]
  },
  {
   "cell_type": "markdown",
   "metadata": {},
   "source": [
    "## Conclusions\n",
    "\n",
    "- Results are close to the results in  [1]"
   ]
  },
  {
   "cell_type": "markdown",
   "metadata": {},
   "source": [
    "### References\n",
    "\n",
    "[1] Zennaro, F.M. and Chen, K., 2019. Towards Further Understanding of Sparse Filtering via Information Bottleneck. arXiv preprint arXiv:1910.08964."
   ]
  }
 ],
 "metadata": {
  "kernelspec": {
   "display_name": "Python 3",
   "language": "python",
   "name": "python3"
  },
  "language_info": {
   "codemirror_mode": {
    "name": "ipython",
    "version": 3
   },
   "file_extension": ".py",
   "mimetype": "text/x-python",
   "name": "python",
   "nbconvert_exporter": "python",
   "pygments_lexer": "ipython3",
   "version": "3.6.10"
  }
 },
 "nbformat": 4,
 "nbformat_minor": 4
}
