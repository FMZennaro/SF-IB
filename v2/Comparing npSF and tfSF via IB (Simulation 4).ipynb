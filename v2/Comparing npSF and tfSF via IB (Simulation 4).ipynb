{
 "cells": [
  {
   "cell_type": "markdown",
   "metadata": {},
   "source": [
    "# Comparing npSF and tfSF via IB (Simulation 4)\n",
    "\n",
    "In this notebook we compare npSF and tfSF using the IB, reproducing some of the experiments in [1]."
   ]
  },
  {
   "cell_type": "markdown",
   "metadata": {},
   "source": [
    "## Setup\n",
    "\n",
    "We start by importing some libraries:"
   ]
  },
  {
   "cell_type": "code",
   "execution_count": 1,
   "metadata": {},
   "outputs": [],
   "source": [
    "import numpy as np\n",
    "import joblib\n",
    "import sklearn.datasets as ds\n",
    "import scipy.stats as stats\n",
    "import matplotlib.pyplot as plt\n",
    "from tqdm import tqdm\n",
    "from scipy.stats import linregress\n",
    "\n",
    "import tfSF\n",
    "import npSF\n",
    "\n",
    "import data.data_creation as D\n",
    "import IT"
   ]
  },
  {
   "cell_type": "markdown",
   "metadata": {},
   "source": [
    "We define the parameters of our simulation:"
   ]
  },
  {
   "cell_type": "code",
   "execution_count": 2,
   "metadata": {},
   "outputs": [],
   "source": [
    "learned_features = 4\n",
    "n_epochs = 200\n",
    "\n",
    "IT_bins=30"
   ]
  },
  {
   "cell_type": "markdown",
   "metadata": {},
   "source": [
    "We define a couple of helper functions: a simple linear regression function and a helper function to compute the tfSF learned representation as a function of the weights. Notice that here, for simplicity, we call the steps of SF implemented using *numpy*; since no learning is now required, using *numpy* saves us the overhead of instantiating a *tensorflow* model."
   ]
  },
  {
   "cell_type": "code",
   "execution_count": 3,
   "metadata": {},
   "outputs": [],
   "source": [
    "def linreg(x,y):\n",
    "    a, b, _, _, _ = stats.linregress(x,y)\n",
    "    return a*x+b\n",
    "    \n",
    "\n",
    "def computeZ(X,W):\n",
    "    WX = np.dot(W,X.T)\n",
    "    F = npSF.softabsolute(WX)\n",
    "    Fsquish, _ = npSF.l2row(F)\n",
    "    Fhat, _ = npSF.l2row(Fsquish.T)\n",
    "    Z = Fhat\n",
    "    return Z"
   ]
  },
  {
   "cell_type": "markdown",
   "metadata": {},
   "source": [
    "## Simulation 4 from [1]\n",
    "\n",
    "We now reproduce the results for *Simulation 4* in [1]. We generate random data."
   ]
  },
  {
   "cell_type": "code",
   "execution_count": 4,
   "metadata": {},
   "outputs": [],
   "source": [
    "data = D.get_samples_multivariate_gaussians_ND(n_samples_train=900, \n",
    "                                            n_samples_test=100, \n",
    "                                            mu = stats.uniform.rvs(loc=-5,scale=10,size=10), \n",
    "                                            sigma = ds.make_spd_matrix(10))"
   ]
  },
  {
   "cell_type": "markdown",
   "metadata": {},
   "source": [
    "We train the tfSF module."
   ]
  },
  {
   "cell_type": "code",
   "execution_count": 5,
   "metadata": {},
   "outputs": [
    {
     "name": "stdout",
     "output_type": "stream",
     "text": [
      "Epoch 1/200\n",
      "1/1 [==============================] - 0s 2ms/step - loss: 1589.2933\n",
      "Epoch 2/200\n",
      "1/1 [==============================] - 0s 2ms/step - loss: 1572.3184\n",
      "Epoch 3/200\n",
      "1/1 [==============================] - 0s 2ms/step - loss: 1568.5010\n",
      "Epoch 4/200\n",
      "1/1 [==============================] - 0s 2ms/step - loss: 1557.5676\n",
      "Epoch 5/200\n",
      "1/1 [==============================] - 0s 2ms/step - loss: 1547.9644\n",
      "Epoch 6/200\n",
      "1/1 [==============================] - 0s 2ms/step - loss: 1568.9871\n",
      "Epoch 7/200\n",
      "1/1 [==============================] - 0s 2ms/step - loss: 1563.3618\n",
      "Epoch 8/200\n",
      "1/1 [==============================] - 0s 2ms/step - loss: 1532.7158\n",
      "Epoch 9/200\n",
      "1/1 [==============================] - 0s 1ms/step - loss: 1536.2275\n",
      "Epoch 10/200\n",
      "1/1 [==============================] - 0s 2ms/step - loss: 1548.4523\n",
      "Epoch 11/200\n",
      "1/1 [==============================] - 0s 2ms/step - loss: 1553.1992\n",
      "Epoch 12/200\n",
      "1/1 [==============================] - 0s 2ms/step - loss: 1541.5396\n",
      "Epoch 13/200\n",
      "1/1 [==============================] - 0s 4ms/step - loss: 1525.7719\n",
      "Epoch 14/200\n",
      "1/1 [==============================] - 0s 4ms/step - loss: 1524.1202\n",
      "Epoch 15/200\n",
      "1/1 [==============================] - 0s 8ms/step - loss: 1525.0853\n",
      "Epoch 16/200\n",
      "1/1 [==============================] - 0s 6ms/step - loss: 1533.9160\n",
      "Epoch 17/200\n",
      "1/1 [==============================] - 0s 5ms/step - loss: 1535.4473\n",
      "Epoch 18/200\n",
      "1/1 [==============================] - 0s 2ms/step - loss: 1528.4810\n",
      "Epoch 19/200\n",
      "1/1 [==============================] - ETA: 0s - loss: 1523.19 - 0s 7ms/step - loss: 1523.1904\n",
      "Epoch 20/200\n",
      "1/1 [==============================] - 0s 5ms/step - loss: 1521.4303\n",
      "Epoch 21/200\n",
      "1/1 [==============================] - 0s 2ms/step - loss: 1523.4087\n",
      "Epoch 22/200\n",
      "1/1 [==============================] - 0s 2ms/step - loss: 1522.5857\n",
      "Epoch 23/200\n",
      "1/1 [==============================] - 0s 4ms/step - loss: 1520.3687\n",
      "Epoch 24/200\n",
      "1/1 [==============================] - 0s 2ms/step - loss: 1523.2683\n",
      "Epoch 25/200\n",
      "1/1 [==============================] - 0s 2ms/step - loss: 1524.7722\n",
      "Epoch 26/200\n",
      "1/1 [==============================] - 0s 1ms/step - loss: 1523.6711\n",
      "Epoch 27/200\n",
      "1/1 [==============================] - 0s 1ms/step - loss: 1520.7417\n",
      "Epoch 28/200\n",
      "1/1 [==============================] - 0s 2ms/step - loss: 1517.8228\n",
      "Epoch 29/200\n",
      "1/1 [==============================] - 0s 6ms/step - loss: 1515.3870\n",
      "Epoch 30/200\n",
      "1/1 [==============================] - 0s 1ms/step - loss: 1513.9561\n",
      "Epoch 31/200\n",
      "1/1 [==============================] - 0s 2ms/step - loss: 1513.9136\n",
      "Epoch 32/200\n",
      "1/1 [==============================] - 0s 2ms/step - loss: 1514.4750\n",
      "Epoch 33/200\n",
      "1/1 [==============================] - 0s 2ms/step - loss: 1518.0347\n",
      "Epoch 34/200\n",
      "1/1 [==============================] - 0s 2ms/step - loss: 1518.8196\n",
      "Epoch 35/200\n",
      "1/1 [==============================] - 0s 5ms/step - loss: 1515.9197\n",
      "Epoch 36/200\n",
      "1/1 [==============================] - 0s 3ms/step - loss: 1511.6541\n",
      "Epoch 37/200\n",
      "1/1 [==============================] - 0s 2ms/step - loss: 1509.2825\n",
      "Epoch 38/200\n",
      "1/1 [==============================] - 0s 7ms/step - loss: 1507.0117\n",
      "Epoch 39/200\n",
      "1/1 [==============================] - 0s 1ms/step - loss: 1507.4764\n",
      "Epoch 40/200\n",
      "1/1 [==============================] - 0s 4ms/step - loss: 1507.5679\n",
      "Epoch 41/200\n",
      "1/1 [==============================] - 0s 4ms/step - loss: 1507.5702\n",
      "Epoch 42/200\n",
      "1/1 [==============================] - 0s 6ms/step - loss: 1506.5557\n",
      "Epoch 43/200\n",
      "1/1 [==============================] - 0s 15ms/step - loss: 1505.7432\n",
      "Epoch 44/200\n",
      "1/1 [==============================] - 0s 4ms/step - loss: 1504.0918\n",
      "Epoch 45/200\n",
      "1/1 [==============================] - 0s 1ms/step - loss: 1503.1500\n",
      "Epoch 46/200\n",
      "1/1 [==============================] - 0s 3ms/step - loss: 1501.9695\n",
      "Epoch 47/200\n",
      "1/1 [==============================] - 0s 2ms/step - loss: 1500.8334\n",
      "Epoch 48/200\n",
      "1/1 [==============================] - 0s 2ms/step - loss: 1502.3895\n",
      "Epoch 49/200\n",
      "1/1 [==============================] - 0s 4ms/step - loss: 1501.9279\n",
      "Epoch 50/200\n",
      "1/1 [==============================] - 0s 2ms/step - loss: 1499.9358\n",
      "Epoch 51/200\n",
      "1/1 [==============================] - 0s 2ms/step - loss: 1499.6843\n",
      "Epoch 52/200\n",
      "1/1 [==============================] - 0s 6ms/step - loss: 1499.6792\n",
      "Epoch 53/200\n",
      "1/1 [==============================] - 0s 2ms/step - loss: 1498.8418\n",
      "Epoch 54/200\n",
      "1/1 [==============================] - 0s 2ms/step - loss: 1498.3391\n",
      "Epoch 55/200\n",
      "1/1 [==============================] - 0s 2ms/step - loss: 1497.9197\n",
      "Epoch 56/200\n",
      "1/1 [==============================] - 0s 1ms/step - loss: 1497.7712\n",
      "Epoch 57/200\n",
      "1/1 [==============================] - 0s 2ms/step - loss: 1497.4790\n",
      "Epoch 58/200\n",
      "1/1 [==============================] - 0s 4ms/step - loss: 1496.7700\n",
      "Epoch 59/200\n",
      "1/1 [==============================] - 0s 2ms/step - loss: 1496.7695\n",
      "Epoch 60/200\n",
      "1/1 [==============================] - 0s 2ms/step - loss: 1495.6659\n",
      "Epoch 61/200\n",
      "1/1 [==============================] - 0s 1ms/step - loss: 1496.2212\n",
      "Epoch 62/200\n",
      "1/1 [==============================] - 0s 941us/step - loss: 1495.7739\n",
      "Epoch 63/200\n",
      "1/1 [==============================] - 0s 1ms/step - loss: 1494.1006\n",
      "Epoch 64/200\n",
      "1/1 [==============================] - 0s 2ms/step - loss: 1495.2325\n",
      "Epoch 65/200\n",
      "1/1 [==============================] - 0s 1ms/step - loss: 1495.1014\n",
      "Epoch 66/200\n",
      "1/1 [==============================] - 0s 2ms/step - loss: 1494.2797\n",
      "Epoch 67/200\n",
      "1/1 [==============================] - 0s 12ms/step - loss: 1493.9287\n",
      "Epoch 68/200\n",
      "1/1 [==============================] - 0s 998us/step - loss: 1494.7191\n",
      "Epoch 69/200\n",
      "1/1 [==============================] - 0s 1ms/step - loss: 1493.4623\n",
      "Epoch 70/200\n",
      "1/1 [==============================] - 0s 3ms/step - loss: 1492.7397\n",
      "Epoch 71/200\n",
      "1/1 [==============================] - 0s 1ms/step - loss: 1493.3298\n",
      "Epoch 72/200\n",
      "1/1 [==============================] - 0s 4ms/step - loss: 1492.7339\n",
      "Epoch 73/200\n",
      "1/1 [==============================] - 0s 2ms/step - loss: 1491.8596\n",
      "Epoch 74/200\n",
      "1/1 [==============================] - 0s 1ms/step - loss: 1492.0625\n",
      "Epoch 75/200\n",
      "1/1 [==============================] - 0s 2ms/step - loss: 1491.9348\n",
      "Epoch 76/200\n",
      "1/1 [==============================] - 0s 4ms/step - loss: 1491.3999\n",
      "Epoch 77/200\n",
      "1/1 [==============================] - 0s 3ms/step - loss: 1491.7887\n",
      "Epoch 78/200\n",
      "1/1 [==============================] - 0s 1ms/step - loss: 1491.8010\n",
      "Epoch 79/200\n",
      "1/1 [==============================] - 0s 2ms/step - loss: 1491.0129\n",
      "Epoch 80/200\n",
      "1/1 [==============================] - 0s 903us/step - loss: 1491.1721\n",
      "Epoch 81/200\n",
      "1/1 [==============================] - 0s 2ms/step - loss: 1491.0964\n",
      "Epoch 82/200\n",
      "1/1 [==============================] - 0s 1ms/step - loss: 1490.3998\n",
      "Epoch 83/200\n",
      "1/1 [==============================] - 0s 1ms/step - loss: 1490.7957\n",
      "Epoch 84/200\n",
      "1/1 [==============================] - 0s 2ms/step - loss: 1490.2865\n",
      "Epoch 85/200\n",
      "1/1 [==============================] - 0s 1ms/step - loss: 1490.3506\n",
      "Epoch 86/200\n",
      "1/1 [==============================] - 0s 1ms/step - loss: 1490.5004\n",
      "Epoch 87/200\n",
      "1/1 [==============================] - 0s 5ms/step - loss: 1489.9666\n",
      "Epoch 88/200\n",
      "1/1 [==============================] - 0s 1ms/step - loss: 1490.0155\n",
      "Epoch 89/200\n",
      "1/1 [==============================] - 0s 1ms/step - loss: 1490.0369\n",
      "Epoch 90/200\n",
      "1/1 [==============================] - 0s 1ms/step - loss: 1490.4258\n",
      "Epoch 91/200\n",
      "1/1 [==============================] - 0s 2ms/step - loss: 1489.8538\n",
      "Epoch 92/200\n",
      "1/1 [==============================] - 0s 1ms/step - loss: 1490.2461\n",
      "Epoch 93/200\n",
      "1/1 [==============================] - 0s 3ms/step - loss: 1489.2695\n",
      "Epoch 94/200\n",
      "1/1 [==============================] - 0s 2ms/step - loss: 1489.9478\n",
      "Epoch 95/200\n",
      "1/1 [==============================] - 0s 1ms/step - loss: 1489.4014\n",
      "Epoch 96/200\n",
      "1/1 [==============================] - 0s 2ms/step - loss: 1488.9338\n",
      "Epoch 97/200\n",
      "1/1 [==============================] - 0s 826us/step - loss: 1488.7324\n",
      "Epoch 98/200\n",
      "1/1 [==============================] - 0s 2ms/step - loss: 1488.1138\n",
      "Epoch 99/200\n",
      "1/1 [==============================] - 0s 1ms/step - loss: 1488.2019\n",
      "Epoch 100/200\n"
     ]
    },
    {
     "name": "stdout",
     "output_type": "stream",
     "text": [
      "1/1 [==============================] - 0s 2ms/step - loss: 1488.0699\n",
      "Epoch 101/200\n",
      "1/1 [==============================] - 0s 3ms/step - loss: 1487.6272\n",
      "Epoch 102/200\n",
      "1/1 [==============================] - 0s 2ms/step - loss: 1487.6284\n",
      "Epoch 103/200\n",
      "1/1 [==============================] - 0s 1ms/step - loss: 1487.2958\n",
      "Epoch 104/200\n",
      "1/1 [==============================] - 0s 1ms/step - loss: 1487.2219\n",
      "Epoch 105/200\n",
      "1/1 [==============================] - 0s 842us/step - loss: 1486.6052\n",
      "Epoch 106/200\n",
      "1/1 [==============================] - 0s 1ms/step - loss: 1486.5719\n",
      "Epoch 107/200\n",
      "1/1 [==============================] - 0s 1ms/step - loss: 1486.0730\n",
      "Epoch 108/200\n",
      "1/1 [==============================] - 0s 2ms/step - loss: 1486.4614\n",
      "Epoch 109/200\n",
      "1/1 [==============================] - 0s 1ms/step - loss: 1486.3361\n",
      "Epoch 110/200\n",
      "1/1 [==============================] - 0s 4ms/step - loss: 1485.9971\n",
      "Epoch 111/200\n",
      "1/1 [==============================] - 0s 2ms/step - loss: 1485.9736\n",
      "Epoch 112/200\n",
      "1/1 [==============================] - 0s 8ms/step - loss: 1486.1042\n",
      "Epoch 113/200\n",
      "1/1 [==============================] - 0s 1ms/step - loss: 1485.5977\n",
      "Epoch 114/200\n",
      "1/1 [==============================] - 0s 5ms/step - loss: 1485.6185\n",
      "Epoch 115/200\n",
      "1/1 [==============================] - 0s 1ms/step - loss: 1485.6058\n",
      "Epoch 116/200\n",
      "1/1 [==============================] - 0s 8ms/step - loss: 1485.7478\n",
      "Epoch 117/200\n",
      "1/1 [==============================] - 0s 2ms/step - loss: 1486.3142\n",
      "Epoch 118/200\n",
      "1/1 [==============================] - 0s 1ms/step - loss: 1485.0186\n",
      "Epoch 119/200\n",
      "1/1 [==============================] - 0s 5ms/step - loss: 1485.6338\n",
      "Epoch 120/200\n",
      "1/1 [==============================] - 0s 1ms/step - loss: 1484.3428\n",
      "Epoch 121/200\n",
      "1/1 [==============================] - 0s 3ms/step - loss: 1485.5131\n",
      "Epoch 122/200\n",
      "1/1 [==============================] - 0s 4ms/step - loss: 1485.4873\n",
      "Epoch 123/200\n",
      "1/1 [==============================] - 0s 4ms/step - loss: 1484.2227\n",
      "Epoch 124/200\n",
      "1/1 [==============================] - 0s 1ms/step - loss: 1485.0537\n",
      "Epoch 125/200\n",
      "1/1 [==============================] - 0s 940us/step - loss: 1483.8047\n",
      "Epoch 126/200\n",
      "1/1 [==============================] - 0s 2ms/step - loss: 1484.4734\n",
      "Epoch 127/200\n",
      "1/1 [==============================] - 0s 895us/step - loss: 1483.6797\n",
      "Epoch 128/200\n",
      "1/1 [==============================] - 0s 2ms/step - loss: 1484.1914\n",
      "Epoch 129/200\n",
      "1/1 [==============================] - 0s 3ms/step - loss: 1484.4688\n",
      "Epoch 130/200\n",
      "1/1 [==============================] - 0s 805us/step - loss: 1483.1213\n",
      "Epoch 131/200\n",
      "1/1 [==============================] - 0s 3ms/step - loss: 1484.0381\n",
      "Epoch 132/200\n",
      "1/1 [==============================] - 0s 3ms/step - loss: 1482.7487\n",
      "Epoch 133/200\n",
      "1/1 [==============================] - 0s 782us/step - loss: 1484.0000\n",
      "Epoch 134/200\n",
      "1/1 [==============================] - 0s 1ms/step - loss: 1482.4563\n",
      "Epoch 135/200\n",
      "1/1 [==============================] - 0s 2ms/step - loss: 1483.8267\n",
      "Epoch 136/200\n",
      "1/1 [==============================] - 0s 3ms/step - loss: 1482.3682\n",
      "Epoch 137/200\n",
      "1/1 [==============================] - 0s 1ms/step - loss: 1483.1868\n",
      "Epoch 138/200\n",
      "1/1 [==============================] - 0s 907us/step - loss: 1482.3738\n",
      "Epoch 139/200\n",
      "1/1 [==============================] - 0s 3ms/step - loss: 1483.2516\n",
      "Epoch 140/200\n",
      "1/1 [==============================] - 0s 2ms/step - loss: 1482.3671\n",
      "Epoch 141/200\n",
      "1/1 [==============================] - 0s 5ms/step - loss: 1482.1829\n",
      "Epoch 142/200\n",
      "1/1 [==============================] - 0s 2ms/step - loss: 1482.6334\n",
      "Epoch 143/200\n",
      "1/1 [==============================] - 0s 5ms/step - loss: 1481.6659\n",
      "Epoch 144/200\n",
      "1/1 [==============================] - 0s 3ms/step - loss: 1482.2833\n",
      "Epoch 145/200\n",
      "1/1 [==============================] - 0s 6ms/step - loss: 1481.7599\n",
      "Epoch 146/200\n",
      "1/1 [==============================] - 0s 5ms/step - loss: 1481.3599\n",
      "Epoch 147/200\n",
      "1/1 [==============================] - 0s 2ms/step - loss: 1482.1685\n",
      "Epoch 148/200\n",
      "1/1 [==============================] - 0s 2ms/step - loss: 1482.0123\n",
      "Epoch 149/200\n",
      "1/1 [==============================] - 0s 3ms/step - loss: 1480.9395\n",
      "Epoch 150/200\n",
      "1/1 [==============================] - 0s 4ms/step - loss: 1481.7385\n",
      "Epoch 151/200\n",
      "1/1 [==============================] - 0s 4ms/step - loss: 1480.7194\n",
      "Epoch 152/200\n",
      "1/1 [==============================] - 0s 4ms/step - loss: 1481.2091\n",
      "Epoch 153/200\n",
      "1/1 [==============================] - 0s 6ms/step - loss: 1480.6263\n",
      "Epoch 154/200\n",
      "1/1 [==============================] - 0s 3ms/step - loss: 1480.5355\n",
      "Epoch 155/200\n",
      "1/1 [==============================] - 0s 4ms/step - loss: 1480.5684\n",
      "Epoch 156/200\n",
      "1/1 [==============================] - 0s 4ms/step - loss: 1480.1005\n",
      "Epoch 157/200\n",
      "1/1 [==============================] - 0s 3ms/step - loss: 1480.1646\n",
      "Epoch 158/200\n",
      "1/1 [==============================] - 0s 6ms/step - loss: 1480.5386\n",
      "Epoch 159/200\n",
      "1/1 [==============================] - 0s 5ms/step - loss: 1479.9382\n",
      "Epoch 160/200\n",
      "1/1 [==============================] - 0s 3ms/step - loss: 1479.9617\n",
      "Epoch 161/200\n",
      "1/1 [==============================] - 0s 3ms/step - loss: 1479.7657\n",
      "Epoch 162/200\n",
      "1/1 [==============================] - 0s 3ms/step - loss: 1479.6105\n",
      "Epoch 163/200\n",
      "1/1 [==============================] - 0s 4ms/step - loss: 1479.8219\n",
      "Epoch 164/200\n",
      "1/1 [==============================] - 0s 4ms/step - loss: 1479.5857\n",
      "Epoch 165/200\n",
      "1/1 [==============================] - 0s 8ms/step - loss: 1478.9868\n",
      "Epoch 166/200\n",
      "1/1 [==============================] - ETA: 0s - loss: 1479.38 - 0s 9ms/step - loss: 1479.3860\n",
      "Epoch 167/200\n",
      "1/1 [==============================] - 0s 6ms/step - loss: 1478.7091\n",
      "Epoch 168/200\n",
      "1/1 [==============================] - 0s 1ms/step - loss: 1479.2927\n",
      "Epoch 169/200\n",
      "1/1 [==============================] - 0s 4ms/step - loss: 1478.9976\n",
      "Epoch 170/200\n",
      "1/1 [==============================] - 0s 1ms/step - loss: 1478.5647\n",
      "Epoch 171/200\n",
      "1/1 [==============================] - 0s 1ms/step - loss: 1478.4557\n",
      "Epoch 172/200\n",
      "1/1 [==============================] - 0s 5ms/step - loss: 1478.4399\n",
      "Epoch 173/200\n",
      "1/1 [==============================] - 0s 1ms/step - loss: 1478.4006\n",
      "Epoch 174/200\n",
      "1/1 [==============================] - 0s 2ms/step - loss: 1477.7477\n",
      "Epoch 175/200\n",
      "1/1 [==============================] - 0s 35ms/step - loss: 1478.1747\n",
      "Epoch 176/200\n",
      "1/1 [==============================] - 0s 1ms/step - loss: 1477.6665\n",
      "Epoch 177/200\n",
      "1/1 [==============================] - 0s 2ms/step - loss: 1477.8564\n",
      "Epoch 178/200\n",
      "1/1 [==============================] - 0s 2ms/step - loss: 1477.2385\n",
      "Epoch 179/200\n",
      "1/1 [==============================] - 0s 2ms/step - loss: 1477.3068\n",
      "Epoch 180/200\n",
      "1/1 [==============================] - 0s 3ms/step - loss: 1477.2756\n",
      "Epoch 181/200\n",
      "1/1 [==============================] - 0s 3ms/step - loss: 1477.2828\n",
      "Epoch 182/200\n",
      "1/1 [==============================] - 0s 4ms/step - loss: 1476.9766\n",
      "Epoch 183/200\n",
      "1/1 [==============================] - 0s 3ms/step - loss: 1477.0288\n",
      "Epoch 184/200\n",
      "1/1 [==============================] - 0s 3ms/step - loss: 1477.3378\n",
      "Epoch 185/200\n",
      "1/1 [==============================] - 0s 3ms/step - loss: 1476.6387\n",
      "Epoch 186/200\n",
      "1/1 [==============================] - 0s 4ms/step - loss: 1477.3416\n",
      "Epoch 187/200\n",
      "1/1 [==============================] - 0s 4ms/step - loss: 1477.6616\n",
      "Epoch 188/200\n",
      "1/1 [==============================] - 0s 5ms/step - loss: 1477.6637\n",
      "Epoch 189/200\n",
      "1/1 [==============================] - 0s 4ms/step - loss: 1477.4802\n",
      "Epoch 190/200\n",
      "1/1 [==============================] - 0s 5ms/step - loss: 1478.0950\n",
      "Epoch 191/200\n",
      "1/1 [==============================] - 0s 4ms/step - loss: 1477.2634\n",
      "Epoch 192/200\n",
      "1/1 [==============================] - 0s 4ms/step - loss: 1478.0740\n",
      "Epoch 193/200\n",
      "1/1 [==============================] - 0s 4ms/step - loss: 1478.4314\n",
      "Epoch 194/200\n",
      "1/1 [==============================] - 0s 4ms/step - loss: 1477.1453\n",
      "Epoch 195/200\n",
      "1/1 [==============================] - 0s 8ms/step - loss: 1477.3959\n",
      "Epoch 196/200\n",
      "1/1 [==============================] - 0s 6ms/step - loss: 1479.7927\n",
      "Epoch 197/200\n",
      "1/1 [==============================] - 0s 4ms/step - loss: 1477.4846\n",
      "Epoch 198/200\n"
     ]
    },
    {
     "name": "stdout",
     "output_type": "stream",
     "text": [
      "1/1 [==============================] - 0s 4ms/step - loss: 1477.6888\n",
      "Epoch 199/200\n",
      "1/1 [==============================] - 0s 6ms/step - loss: 1478.9937\n",
      "Epoch 200/200\n",
      "1/1 [==============================] - 0s 2ms/step - loss: 1476.4304\n"
     ]
    }
   ],
   "source": [
    "tfsf = tfSF.SFilter(n_features=learned_features)\n",
    "tfsf.fit(data['X_tr'], epochs=n_epochs, batchsize=900)"
   ]
  },
  {
   "cell_type": "markdown",
   "metadata": {},
   "source": [
    "We train the npSF module."
   ]
  },
  {
   "cell_type": "code",
   "execution_count": 6,
   "metadata": {},
   "outputs": [],
   "source": [
    "npsf = npSF.SFilter()\n",
    "npsf.setFeatures(learned_features)\n",
    "npsf.setTrainData(data['X_tr'])\n",
    "npsf.initializeWeights()\n",
    "npsf.initialiazeNotebook()\n",
    "npsf.train()"
   ]
  },
  {
   "cell_type": "markdown",
   "metadata": {},
   "source": [
    "We plot the loss function to verify that the models converged to a solution."
   ]
  },
  {
   "cell_type": "code",
   "execution_count": 7,
   "metadata": {},
   "outputs": [
    {
     "data": {
      "text/plain": [
       "<matplotlib.legend.Legend at 0x7ff3787f89e8>"
      ]
     },
     "execution_count": 7,
     "metadata": {},
     "output_type": "execute_result"
    },
    {
     "data": {
      "image/png": "[encoded data removed]",
      "text/plain": [
       "<Figure size 432x288 with 1 Axes>"
      ]
     },
     "metadata": {
      "needs_background": "light"
     },
     "output_type": "display_data"
    }
   ],
   "source": [
    "plt.title('Loss'); \n",
    "plt.xlabel('Epochs'); \n",
    "plt.ylabel('L1 loss');\n",
    "\n",
    "plt.plot(npsf.notebook['losses'],label='npSF')\n",
    "plt.plot(tfsf.hist.history['loss'],label='tfSF')\n",
    "plt.legend()"
   ]
  },
  {
   "cell_type": "markdown",
   "metadata": {},
   "source": [
    "We compute the information-theoretic statistics of interest (entropy and mutual information) at each iteration."
   ]
  },
  {
   "cell_type": "code",
   "execution_count": 8,
   "metadata": {},
   "outputs": [],
   "source": [
    "npWs = npsf.notebook['weights']    \n",
    "    \n",
    "np_Z_tes = []; np_MI_XZs = []; np_H_Zs = []  \n",
    "for W in npWs:\n",
    "    Z_te = computeZ(data['X_te'],W)\n",
    "    \n",
    "    np_Z_tes.append(Z_te)\n",
    "    np_MI_XZs.append(IT.compute_MI_bin(data['X_te'],Z_te,bins=IT_bins))\n",
    "    np_H_Zs.append(IT.compute_H_bin(Z_te,bins=IT_bins))\n",
    "\n",
    "\n",
    "tfWs = tfsf.weights\n",
    "\n",
    "tf_Z_tes = []; tf_MI_XZs = []; tf_H_Zs = []  \n",
    "for W in tfWs:\n",
    "    Z_te = computeZ(data['X_te'],W)\n",
    "    \n",
    "    tf_Z_tes.append(Z_te)\n",
    "    tf_MI_XZs.append(IT.compute_MI_bin(data['X_te'],Z_te,bins=IT_bins))\n",
    "    tf_H_Zs.append(IT.compute_H_bin(Z_te,bins=IT_bins))"
   ]
  },
  {
   "cell_type": "code",
   "execution_count": 9,
   "metadata": {},
   "outputs": [],
   "source": [
    "Z_trs = []\n",
    "for W in tfWs:\n",
    "    Z_tr = computeZ(data['X_tr'],W)\n",
    "    Z_trs.append(Z_tr)"
   ]
  },
  {
   "cell_type": "markdown",
   "metadata": {},
   "source": [
    "We plot entropy and mutual information."
   ]
  },
  {
   "cell_type": "code",
   "execution_count": 13,
   "metadata": {},
   "outputs": [
    {
     "data": {
      "text/plain": [
       "[<matplotlib.lines.Line2D at 0x7ff378631c18>]"
      ]
     },
     "execution_count": 13,
     "metadata": {},
     "output_type": "execute_result"
    },
    {
     "data": {
      "image/png": "[encoded data removed]",
      "text/plain": [
       "<Figure size 432x288 with 4 Axes>"
      ]
     },
     "metadata": {
      "needs_background": "light"
     },
     "output_type": "display_data"
    }
   ],
   "source": [
    "_,ax = plt.subplots(2,2)\n",
    "\n",
    "ax[0,0].plot(np_MI_XZs)\n",
    "ax[0,0].set_title('npSF: I(X;Z)')\n",
    "ax[0,0].set_xlabel('Epochs')\n",
    "ax[0,0].set_ylabel('Bits')\n",
    "ax[0,0].plot(linreg(np.arange(len(np_MI_XZs)),np_MI_XZs),'r--')\n",
    "\n",
    "ax[0,1].plot(tf_MI_XZs)\n",
    "ax[0,1].set_title('tfSF: I(X;Z)')\n",
    "ax[0,1].set_xlabel('Epochs')\n",
    "ax[0,1].set_ylabel('Bits')\n",
    "ax[0,1].plot(linreg(np.arange(n_epochs),tf_MI_XZs),'r--')\n",
    "\n",
    "ax[1,0].plot(np_H_Zs)\n",
    "ax[1,0].set_title('npSF: H(Z)')\n",
    "ax[1,0].set_xlabel('Epochs')\n",
    "ax[1,0].set_ylabel('Bits')\n",
    "ax[1,0].plot(linreg(np.arange(len(np_H_Zs)),np_H_Zs),'r--')\n",
    "\n",
    "ax[1,1].plot(tf_H_Zs)\n",
    "ax[1,1].set_title('tfSF: H(Z)')\n",
    "ax[1,1].set_xlabel('Epochs')\n",
    "ax[1,1].set_ylabel('Bits')\n",
    "ax[1,1].plot(linreg(np.arange(n_epochs),tf_H_Zs),'r--')"
   ]
  },
  {
   "cell_type": "markdown",
   "metadata": {},
   "source": [
    "And the information graphs."
   ]
  },
  {
   "cell_type": "code",
   "execution_count": 14,
   "metadata": {},
   "outputs": [
    {
     "data": {
      "text/plain": [
       "<matplotlib.collections.PathCollection at 0x7ff37851f940>"
      ]
     },
     "execution_count": 14,
     "metadata": {},
     "output_type": "execute_result"
    },
    {
     "data": {
      "image/png": "[encoded data removed]",
      "text/plain": [
       "<Figure size 432x288 with 2 Axes>"
      ]
     },
     "metadata": {
      "needs_background": "light"
     },
     "output_type": "display_data"
    }
   ],
   "source": [
    "_,ax = plt.subplots(1,2)\n",
    "\n",
    "ax[0].set_title('npSF: Info plot'); \n",
    "ax[0].set_xlabel('I(X;T)'); \n",
    "ax[0].set_ylabel('H(T)'); \n",
    "ax[0].plot(np_MI_XZs,np_H_Zs,c='black', zorder=0)\n",
    "ax[0].scatter(np_MI_XZs[1:-1],np_H_Zs[1:-1],c='black',s=30, zorder=1)\n",
    "ax[0].scatter(np_MI_XZs[0],np_H_Zs[0],c='green',s=75,zorder=2)\n",
    "ax[0].scatter(np_MI_XZs[-1],np_H_Zs[-1],c='red',s=75,zorder=2)\n",
    "\n",
    "ax[1].set_title('tfSF: Info plot'); \n",
    "ax[1].set_xlabel('I(X;T)'); \n",
    "ax[1].set_ylabel('H(T)'); \n",
    "ax[1].plot(tf_MI_XZs,tf_H_Zs,c='black', zorder=0)\n",
    "ax[1].scatter(tf_MI_XZs[1:-1],tf_H_Zs[1:-1],c='black',s=30, zorder=1)\n",
    "ax[1].scatter(tf_MI_XZs[0],tf_H_Zs[0],c='green',s=75,zorder=2)\n",
    "ax[1].scatter(tf_MI_XZs[-1],tf_H_Zs[-1],c='red',s=75,zorder=2)"
   ]
  },
  {
   "cell_type": "markdown",
   "metadata": {},
   "source": [
    "### References\n",
    "\n",
    "[1] Zennaro, F.M. and Chen, K., 2019. Towards Further Understanding of Sparse Filtering via Information Bottleneck. arXiv preprint arXiv:1910.08964."
   ]
  }
 ],
 "metadata": {
  "kernelspec": {
   "display_name": "Python 3",
   "language": "python",
   "name": "python3"
  },
  "language_info": {
   "codemirror_mode": {
    "name": "ipython",
    "version": 3
   },
   "file_extension": ".py",
   "mimetype": "text/x-python",
   "name": "python",
   "nbconvert_exporter": "python",
   "pygments_lexer": "ipython3",
   "version": "3.6.10"
  }
 },
 "nbformat": 4,
 "nbformat_minor": 4
}
