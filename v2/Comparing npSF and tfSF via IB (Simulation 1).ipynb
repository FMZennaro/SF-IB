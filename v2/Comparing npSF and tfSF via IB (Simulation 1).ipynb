{
 "cells": [
  {
   "cell_type": "markdown",
   "metadata": {},
   "source": [
    "# Comparing npSF and tfSF via IB (Simulation 1)\n",
    "\n",
    "In this notebook we compare npSF and tfSF using the IB, reproducing some of the experiments in [1]."
   ]
  },
  {
   "cell_type": "markdown",
   "metadata": {},
   "source": [
    "## Setup\n",
    "\n",
    "We start by importing some libraries:"
   ]
  },
  {
   "cell_type": "code",
   "execution_count": 1,
   "metadata": {},
   "outputs": [],
   "source": [
    "import numpy as np\n",
    "import joblib\n",
    "import sklearn.datasets as ds\n",
    "import scipy.stats as stats\n",
    "import matplotlib.pyplot as plt\n",
    "from tqdm import tqdm\n",
    "from scipy.stats import linregress\n",
    "\n",
    "import tfSF\n",
    "import npSF\n",
    "\n",
    "import data.data_creation as D\n",
    "import IT"
   ]
  },
  {
   "cell_type": "markdown",
   "metadata": {},
   "source": [
    "We define the parameters of our simulation:"
   ]
  },
  {
   "cell_type": "code",
   "execution_count": 2,
   "metadata": {},
   "outputs": [],
   "source": [
    "learned_features = 2\n",
    "n_epochs = 200\n",
    "\n",
    "IT_bins=30"
   ]
  },
  {
   "cell_type": "markdown",
   "metadata": {},
   "source": [
    "We define a couple of helper functions: a simple linear regression function and a helper function to compute the tfSF learned representation as a function of the weights. Notice that here, for simplicity, we call the steps of SF implemented using *numpy*; since no learning is now required, using *numpy* saves us the overhead of instantiating a *tensorflow* model."
   ]
  },
  {
   "cell_type": "code",
   "execution_count": 3,
   "metadata": {},
   "outputs": [],
   "source": [
    "def linreg(x,y):\n",
    "    a, b, _, _, _ = stats.linregress(x,y)\n",
    "    return a*x+b\n",
    "    \n",
    "\n",
    "def computeZ(X,W):\n",
    "    WX = np.dot(W,X.T)\n",
    "    F = npSF.softabsolute(WX)\n",
    "    Fsquish, _ = npSF.l2row(F)\n",
    "    Fhat, _ = npSF.l2row(Fsquish.T)\n",
    "    Z = Fhat\n",
    "    return Z"
   ]
  },
  {
   "cell_type": "markdown",
   "metadata": {},
   "source": [
    "## Simulation 1 from [1]\n",
    "\n",
    "We now reproduce the results for *Simulation 2* in [1]. We generate random data."
   ]
  },
  {
   "cell_type": "code",
   "execution_count": 4,
   "metadata": {},
   "outputs": [],
   "source": [
    "data = D.get_samples_independent_gaussians_2D(n_samples_train=900, n_samples_test=100, \n",
    "                                         mu1 = 0.0, sigma1 = .5, mu2 = 0.0, sigma2 =.5)"
   ]
  },
  {
   "cell_type": "markdown",
   "metadata": {},
   "source": [
    "We train the tfSF module."
   ]
  },
  {
   "cell_type": "code",
   "execution_count": 5,
   "metadata": {},
   "outputs": [
    {
     "name": "stdout",
     "output_type": "stream",
     "text": [
      "Epoch 1/200\n",
      "1/1 [==============================] - 0s 2ms/step - loss: 1192.4104\n",
      "Epoch 2/200\n",
      "1/1 [==============================] - 0s 2ms/step - loss: 1148.7743\n",
      "Epoch 3/200\n",
      "1/1 [==============================] - 0s 1ms/step - loss: 1147.0591\n",
      "Epoch 4/200\n",
      "1/1 [==============================] - 0s 2ms/step - loss: 1151.8470\n",
      "Epoch 5/200\n",
      "1/1 [==============================] - 0s 1ms/step - loss: 1152.1833\n",
      "Epoch 6/200\n",
      "1/1 [==============================] - 0s 2ms/step - loss: 1149.5598\n",
      "Epoch 7/200\n",
      "1/1 [==============================] - 0s 2ms/step - loss: 1147.3867\n",
      "Epoch 8/200\n",
      "1/1 [==============================] - 0s 2ms/step - loss: 1146.4941\n",
      "Epoch 9/200\n",
      "1/1 [==============================] - 0s 3ms/step - loss: 1146.2975\n",
      "Epoch 10/200\n",
      "1/1 [==============================] - 0s 2ms/step - loss: 1146.4900\n",
      "Epoch 11/200\n",
      "1/1 [==============================] - 0s 2ms/step - loss: 1146.7141\n",
      "Epoch 12/200\n",
      "1/1 [==============================] - 0s 3ms/step - loss: 1146.7507\n",
      "Epoch 13/200\n",
      "1/1 [==============================] - 0s 2ms/step - loss: 1146.5304\n",
      "Epoch 14/200\n",
      "1/1 [==============================] - 0s 3ms/step - loss: 1146.0764\n",
      "Epoch 15/200\n",
      "1/1 [==============================] - 0s 2ms/step - loss: 1145.6226\n",
      "Epoch 16/200\n",
      "1/1 [==============================] - 0s 3ms/step - loss: 1145.1591\n",
      "Epoch 17/200\n",
      "1/1 [==============================] - 0s 2ms/step - loss: 1144.8156\n",
      "Epoch 18/200\n",
      "1/1 [==============================] - 0s 2ms/step - loss: 1144.5221\n",
      "Epoch 19/200\n",
      "1/1 [==============================] - 0s 2ms/step - loss: 1144.3408\n",
      "Epoch 20/200\n",
      "1/1 [==============================] - 0s 2ms/step - loss: 1144.4019\n",
      "Epoch 21/200\n",
      "1/1 [==============================] - 0s 2ms/step - loss: 1144.5533\n",
      "Epoch 22/200\n",
      "1/1 [==============================] - 0s 2ms/step - loss: 1144.6647\n",
      "Epoch 23/200\n",
      "1/1 [==============================] - 0s 2ms/step - loss: 1144.7686\n",
      "Epoch 24/200\n",
      "1/1 [==============================] - 0s 2ms/step - loss: 1144.8938\n",
      "Epoch 25/200\n",
      "1/1 [==============================] - 0s 2ms/step - loss: 1144.9202\n",
      "Epoch 26/200\n",
      "1/1 [==============================] - 0s 2ms/step - loss: 1144.8369\n",
      "Epoch 27/200\n",
      "1/1 [==============================] - 0s 3ms/step - loss: 1144.7582\n",
      "Epoch 28/200\n",
      "1/1 [==============================] - 0s 2ms/step - loss: 1144.7012\n",
      "Epoch 29/200\n",
      "1/1 [==============================] - 0s 2ms/step - loss: 1144.6276\n",
      "Epoch 30/200\n",
      "1/1 [==============================] - 0s 2ms/step - loss: 1144.5198\n",
      "Epoch 31/200\n",
      "1/1 [==============================] - 0s 2ms/step - loss: 1144.4515\n",
      "Epoch 32/200\n",
      "1/1 [==============================] - 0s 2ms/step - loss: 1144.3965\n",
      "Epoch 33/200\n",
      "1/1 [==============================] - 0s 2ms/step - loss: 1144.3705\n",
      "Epoch 34/200\n",
      "1/1 [==============================] - 0s 2ms/step - loss: 1144.3899\n",
      "Epoch 35/200\n",
      "1/1 [==============================] - 0s 2ms/step - loss: 1144.4099\n",
      "Epoch 36/200\n",
      "1/1 [==============================] - 0s 2ms/step - loss: 1144.4138\n",
      "Epoch 37/200\n",
      "1/1 [==============================] - 0s 1ms/step - loss: 1144.4187\n",
      "Epoch 38/200\n",
      "1/1 [==============================] - 0s 2ms/step - loss: 1144.4130\n",
      "Epoch 39/200\n",
      "1/1 [==============================] - 0s 2ms/step - loss: 1144.4022\n",
      "Epoch 40/200\n",
      "1/1 [==============================] - 0s 1ms/step - loss: 1144.3826\n",
      "Epoch 41/200\n",
      "1/1 [==============================] - 0s 2ms/step - loss: 1144.3608\n",
      "Epoch 42/200\n",
      "1/1 [==============================] - 0s 1ms/step - loss: 1144.3469\n",
      "Epoch 43/200\n",
      "1/1 [==============================] - 0s 2ms/step - loss: 1144.3353\n",
      "Epoch 44/200\n",
      "1/1 [==============================] - 0s 1ms/step - loss: 1144.3552\n",
      "Epoch 45/200\n",
      "1/1 [==============================] - 0s 2ms/step - loss: 1144.3768\n",
      "Epoch 46/200\n",
      "1/1 [==============================] - 0s 2ms/step - loss: 1144.3824\n",
      "Epoch 47/200\n",
      "1/1 [==============================] - 0s 1ms/step - loss: 1144.3761\n",
      "Epoch 48/200\n",
      "1/1 [==============================] - 0s 2ms/step - loss: 1144.3606\n",
      "Epoch 49/200\n",
      "1/1 [==============================] - 0s 1ms/step - loss: 1144.3387\n",
      "Epoch 50/200\n",
      "1/1 [==============================] - 0s 2ms/step - loss: 1144.3225\n",
      "Epoch 51/200\n",
      "1/1 [==============================] - 0s 2ms/step - loss: 1144.3269\n",
      "Epoch 52/200\n",
      "1/1 [==============================] - 0s 2ms/step - loss: 1144.3362\n",
      "Epoch 53/200\n",
      "1/1 [==============================] - 0s 2ms/step - loss: 1144.3390\n",
      "Epoch 54/200\n",
      "1/1 [==============================] - 0s 3ms/step - loss: 1144.3354\n",
      "Epoch 55/200\n",
      "1/1 [==============================] - 0s 6ms/step - loss: 1144.3241\n",
      "Epoch 56/200\n",
      "1/1 [==============================] - 0s 2ms/step - loss: 1144.3073\n",
      "Epoch 57/200\n",
      "1/1 [==============================] - 0s 2ms/step - loss: 1144.3026\n",
      "Epoch 58/200\n",
      "1/1 [==============================] - 0s 2ms/step - loss: 1144.3082\n",
      "Epoch 59/200\n",
      "1/1 [==============================] - 0s 2ms/step - loss: 1144.3120\n",
      "Epoch 60/200\n",
      "1/1 [==============================] - 0s 2ms/step - loss: 1144.3138\n",
      "Epoch 61/200\n",
      "1/1 [==============================] - 0s 2ms/step - loss: 1144.3137\n",
      "Epoch 62/200\n",
      "1/1 [==============================] - 0s 2ms/step - loss: 1144.3099\n",
      "Epoch 63/200\n",
      "1/1 [==============================] - 0s 2ms/step - loss: 1144.3077\n",
      "Epoch 64/200\n",
      "1/1 [==============================] - 0s 2ms/step - loss: 1144.3101\n",
      "Epoch 65/200\n",
      "1/1 [==============================] - 0s 2ms/step - loss: 1144.3125\n",
      "Epoch 66/200\n",
      "1/1 [==============================] - 0s 3ms/step - loss: 1144.3080\n",
      "Epoch 67/200\n",
      "1/1 [==============================] - 0s 1ms/step - loss: 1144.3003\n",
      "Epoch 68/200\n",
      "1/1 [==============================] - 0s 2ms/step - loss: 1144.2985\n",
      "Epoch 69/200\n",
      "1/1 [==============================] - 0s 5ms/step - loss: 1144.3019\n",
      "Epoch 70/200\n",
      "1/1 [==============================] - 0s 2ms/step - loss: 1144.3044\n",
      "Epoch 71/200\n",
      "1/1 [==============================] - 0s 1ms/step - loss: 1144.3042\n",
      "Epoch 72/200\n",
      "1/1 [==============================] - 0s 3ms/step - loss: 1144.3025\n",
      "Epoch 73/200\n",
      "1/1 [==============================] - 0s 3ms/step - loss: 1144.3015\n",
      "Epoch 74/200\n",
      "1/1 [==============================] - 0s 4ms/step - loss: 1144.3027\n",
      "Epoch 75/200\n",
      "1/1 [==============================] - 0s 8ms/step - loss: 1144.3044\n",
      "Epoch 76/200\n",
      "1/1 [==============================] - 0s 4ms/step - loss: 1144.3032\n",
      "Epoch 77/200\n",
      "1/1 [==============================] - 0s 6ms/step - loss: 1144.3011\n",
      "Epoch 78/200\n",
      "1/1 [==============================] - 0s 4ms/step - loss: 1144.3015\n",
      "Epoch 79/200\n",
      "1/1 [==============================] - 0s 4ms/step - loss: 1144.3020\n",
      "Epoch 80/200\n",
      "1/1 [==============================] - 0s 4ms/step - loss: 1144.3020\n",
      "Epoch 81/200\n",
      "1/1 [==============================] - 0s 6ms/step - loss: 1144.3013\n",
      "Epoch 82/200\n",
      "1/1 [==============================] - 0s 4ms/step - loss: 1144.2998\n",
      "Epoch 83/200\n",
      "1/1 [==============================] - 0s 5ms/step - loss: 1144.2991\n",
      "Epoch 84/200\n",
      "1/1 [==============================] - 0s 6ms/step - loss: 1144.2986\n",
      "Epoch 85/200\n",
      "1/1 [==============================] - 0s 6ms/step - loss: 1144.2986\n",
      "Epoch 86/200\n",
      "1/1 [==============================] - 0s 4ms/step - loss: 1144.2982\n",
      "Epoch 87/200\n",
      "1/1 [==============================] - 0s 4ms/step - loss: 1144.2983\n",
      "Epoch 88/200\n",
      "1/1 [==============================] - 0s 4ms/step - loss: 1144.2991\n",
      "Epoch 89/200\n",
      "1/1 [==============================] - 0s 4ms/step - loss: 1144.2992\n",
      "Epoch 90/200\n",
      "1/1 [==============================] - 0s 6ms/step - loss: 1144.2983\n",
      "Epoch 91/200\n",
      "1/1 [==============================] - 0s 6ms/step - loss: 1144.2982\n",
      "Epoch 92/200\n",
      "1/1 [==============================] - 0s 4ms/step - loss: 1144.2975\n",
      "Epoch 93/200\n",
      "1/1 [==============================] - 0s 6ms/step - loss: 1144.2976\n",
      "Epoch 94/200\n",
      "1/1 [==============================] - 0s 7ms/step - loss: 1144.2983\n",
      "Epoch 95/200\n",
      "1/1 [==============================] - 0s 4ms/step - loss: 1144.2983\n",
      "Epoch 96/200\n",
      "1/1 [==============================] - 0s 5ms/step - loss: 1144.2979\n",
      "Epoch 97/200\n",
      "1/1 [==============================] - 0s 8ms/step - loss: 1144.2972\n",
      "Epoch 98/200\n",
      "1/1 [==============================] - 0s 5ms/step - loss: 1144.2974\n",
      "Epoch 99/200\n",
      "1/1 [==============================] - 0s 4ms/step - loss: 1144.2971\n",
      "Epoch 100/200\n",
      "1/1 [==============================] - 0s 2ms/step - loss: 1144.2974\n",
      "Epoch 101/200\n"
     ]
    },
    {
     "name": "stdout",
     "output_type": "stream",
     "text": [
      "1/1 [==============================] - ETA: 0s - loss: 1144.29 - 0s 2ms/step - loss: 1144.2974\n",
      "Epoch 102/200\n",
      "1/1 [==============================] - 0s 2ms/step - loss: 1144.2972\n",
      "Epoch 103/200\n",
      "1/1 [==============================] - 0s 1ms/step - loss: 1144.2974\n",
      "Epoch 104/200\n",
      "1/1 [==============================] - 0s 1ms/step - loss: 1144.2971\n",
      "Epoch 105/200\n",
      "1/1 [==============================] - 0s 2ms/step - loss: 1144.2970\n",
      "Epoch 106/200\n",
      "1/1 [==============================] - 0s 3ms/step - loss: 1144.2969\n",
      "Epoch 107/200\n",
      "1/1 [==============================] - 0s 8ms/step - loss: 1144.2969\n",
      "Epoch 108/200\n",
      "1/1 [==============================] - 0s 975us/step - loss: 1144.2969\n",
      "Epoch 109/200\n",
      "1/1 [==============================] - 0s 5ms/step - loss: 1144.2968\n",
      "Epoch 110/200\n",
      "1/1 [==============================] - 0s 6ms/step - loss: 1144.2966\n",
      "Epoch 111/200\n",
      "1/1 [==============================] - 0s 5ms/step - loss: 1144.2970\n",
      "Epoch 112/200\n",
      "1/1 [==============================] - 0s 11ms/step - loss: 1144.2969\n",
      "Epoch 113/200\n",
      "1/1 [==============================] - 0s 5ms/step - loss: 1144.2966\n",
      "Epoch 114/200\n",
      "1/1 [==============================] - 0s 11ms/step - loss: 1144.2969\n",
      "Epoch 115/200\n",
      "1/1 [==============================] - 0s 4ms/step - loss: 1144.2965\n",
      "Epoch 116/200\n",
      "1/1 [==============================] - 0s 4ms/step - loss: 1144.2968\n",
      "Epoch 117/200\n",
      "1/1 [==============================] - 0s 4ms/step - loss: 1144.2961\n",
      "Epoch 118/200\n",
      "1/1 [==============================] - 0s 4ms/step - loss: 1144.2966\n",
      "Epoch 119/200\n",
      "1/1 [==============================] - 0s 6ms/step - loss: 1144.2965\n",
      "Epoch 120/200\n",
      "1/1 [==============================] - 0s 5ms/step - loss: 1144.2966\n",
      "Epoch 121/200\n",
      "1/1 [==============================] - 0s 4ms/step - loss: 1144.2964\n",
      "Epoch 122/200\n",
      "1/1 [==============================] - 0s 3ms/step - loss: 1144.2964\n",
      "Epoch 123/200\n",
      "1/1 [==============================] - 0s 10ms/step - loss: 1144.2961\n",
      "Epoch 124/200\n",
      "1/1 [==============================] - 0s 5ms/step - loss: 1144.2961\n",
      "Epoch 125/200\n",
      "1/1 [==============================] - 0s 3ms/step - loss: 1144.2964\n",
      "Epoch 126/200\n",
      "1/1 [==============================] - 0s 7ms/step - loss: 1144.2961\n",
      "Epoch 127/200\n",
      "1/1 [==============================] - 0s 6ms/step - loss: 1144.2960\n",
      "Epoch 128/200\n",
      "1/1 [==============================] - 0s 4ms/step - loss: 1144.2960\n",
      "Epoch 129/200\n",
      "1/1 [==============================] - 0s 5ms/step - loss: 1144.2959\n",
      "Epoch 130/200\n",
      "1/1 [==============================] - 0s 6ms/step - loss: 1144.2961\n",
      "Epoch 131/200\n",
      "1/1 [==============================] - 0s 4ms/step - loss: 1144.2959\n",
      "Epoch 132/200\n",
      "1/1 [==============================] - 0s 4ms/step - loss: 1144.2961\n",
      "Epoch 133/200\n",
      "1/1 [==============================] - 0s 9ms/step - loss: 1144.2957\n",
      "Epoch 134/200\n",
      "1/1 [==============================] - 0s 4ms/step - loss: 1144.2957\n",
      "Epoch 135/200\n",
      "1/1 [==============================] - 0s 7ms/step - loss: 1144.2957\n",
      "Epoch 136/200\n",
      "1/1 [==============================] - 0s 4ms/step - loss: 1144.2959\n",
      "Epoch 137/200\n",
      "1/1 [==============================] - 0s 4ms/step - loss: 1144.2957\n",
      "Epoch 138/200\n",
      "1/1 [==============================] - 0s 4ms/step - loss: 1144.2952\n",
      "Epoch 139/200\n",
      "1/1 [==============================] - 0s 4ms/step - loss: 1144.2954\n",
      "Epoch 140/200\n",
      "1/1 [==============================] - 0s 4ms/step - loss: 1144.2953\n",
      "Epoch 141/200\n",
      "1/1 [==============================] - ETA: 0s - loss: 1144.29 - 0s 6ms/step - loss: 1144.2953\n",
      "Epoch 142/200\n",
      "1/1 [==============================] - 0s 6ms/step - loss: 1144.2954\n",
      "Epoch 143/200\n",
      "1/1 [==============================] - 0s 6ms/step - loss: 1144.2954\n",
      "Epoch 144/200\n",
      "1/1 [==============================] - 0s 6ms/step - loss: 1144.2954\n",
      "Epoch 145/200\n",
      "1/1 [==============================] - 0s 6ms/step - loss: 1144.2957\n",
      "Epoch 146/200\n",
      "1/1 [==============================] - 0s 7ms/step - loss: 1144.2955\n",
      "Epoch 147/200\n",
      "1/1 [==============================] - 0s 1ms/step - loss: 1144.2953\n",
      "Epoch 148/200\n",
      "1/1 [==============================] - 0s 1ms/step - loss: 1144.2955\n",
      "Epoch 149/200\n",
      "1/1 [==============================] - 0s 6ms/step - loss: 1144.2954\n",
      "Epoch 150/200\n",
      "1/1 [==============================] - 0s 4ms/step - loss: 1144.2955\n",
      "Epoch 151/200\n",
      "1/1 [==============================] - 0s 1ms/step - loss: 1144.2954\n",
      "Epoch 152/200\n",
      "1/1 [==============================] - 0s 2ms/step - loss: 1144.2952\n",
      "Epoch 153/200\n",
      "1/1 [==============================] - 0s 2ms/step - loss: 1144.2955\n",
      "Epoch 154/200\n",
      "1/1 [==============================] - 0s 2ms/step - loss: 1144.2953\n",
      "Epoch 155/200\n",
      "1/1 [==============================] - 0s 1ms/step - loss: 1144.2949\n",
      "Epoch 156/200\n",
      "1/1 [==============================] - 0s 2ms/step - loss: 1144.2946\n",
      "Epoch 157/200\n",
      "1/1 [==============================] - 0s 1ms/step - loss: 1144.2950\n",
      "Epoch 158/200\n",
      "1/1 [==============================] - 0s 1ms/step - loss: 1144.2949\n",
      "Epoch 159/200\n",
      "1/1 [==============================] - 0s 1ms/step - loss: 1144.2949\n",
      "Epoch 160/200\n",
      "1/1 [==============================] - 0s 5ms/step - loss: 1144.2949\n",
      "Epoch 161/200\n",
      "1/1 [==============================] - 0s 1ms/step - loss: 1144.2948\n",
      "Epoch 162/200\n",
      "1/1 [==============================] - 0s 1ms/step - loss: 1144.2949\n",
      "Epoch 163/200\n",
      "1/1 [==============================] - 0s 2ms/step - loss: 1144.2947\n",
      "Epoch 164/200\n",
      "1/1 [==============================] - 0s 2ms/step - loss: 1144.2947\n",
      "Epoch 165/200\n",
      "1/1 [==============================] - 0s 2ms/step - loss: 1144.2949\n",
      "Epoch 166/200\n",
      "1/1 [==============================] - 0s 1ms/step - loss: 1144.2947\n",
      "Epoch 167/200\n",
      "1/1 [==============================] - 0s 1ms/step - loss: 1144.2949\n",
      "Epoch 168/200\n",
      "1/1 [==============================] - 0s 1ms/step - loss: 1144.2946\n",
      "Epoch 169/200\n",
      "1/1 [==============================] - 0s 2ms/step - loss: 1144.2949\n",
      "Epoch 170/200\n",
      "1/1 [==============================] - 0s 3ms/step - loss: 1144.2944\n",
      "Epoch 171/200\n",
      "1/1 [==============================] - 0s 3ms/step - loss: 1144.2944\n",
      "Epoch 172/200\n",
      "1/1 [==============================] - 0s 3ms/step - loss: 1144.2941\n",
      "Epoch 173/200\n",
      "1/1 [==============================] - ETA: 0s - loss: 1144.29 - 0s 8ms/step - loss: 1144.2943\n",
      "Epoch 174/200\n",
      "1/1 [==============================] - 0s 7ms/step - loss: 1144.2943\n",
      "Epoch 175/200\n",
      "1/1 [==============================] - 0s 5ms/step - loss: 1144.2944\n",
      "Epoch 176/200\n",
      "1/1 [==============================] - ETA: 0s - loss: 1144.29 - 0s 2ms/step - loss: 1144.2943\n",
      "Epoch 177/200\n",
      "1/1 [==============================] - 0s 9ms/step - loss: 1144.2941\n",
      "Epoch 178/200\n",
      "1/1 [==============================] - 0s 2ms/step - loss: 1144.2943\n",
      "Epoch 179/200\n",
      "1/1 [==============================] - 0s 4ms/step - loss: 1144.2944\n",
      "Epoch 180/200\n",
      "1/1 [==============================] - 0s 2ms/step - loss: 1144.2939\n",
      "Epoch 181/200\n",
      "1/1 [==============================] - 0s 1ms/step - loss: 1144.2942\n",
      "Epoch 182/200\n",
      "1/1 [==============================] - 0s 8ms/step - loss: 1144.2942\n",
      "Epoch 183/200\n",
      "1/1 [==============================] - 0s 2ms/step - loss: 1144.2939\n",
      "Epoch 184/200\n",
      "1/1 [==============================] - 0s 4ms/step - loss: 1144.2939\n",
      "Epoch 185/200\n",
      "1/1 [==============================] - 0s 2ms/step - loss: 1144.2937\n",
      "Epoch 186/200\n",
      "1/1 [==============================] - 0s 2ms/step - loss: 1144.2937\n",
      "Epoch 187/200\n",
      "1/1 [==============================] - 0s 2ms/step - loss: 1144.2935\n",
      "Epoch 188/200\n",
      "1/1 [==============================] - 0s 1ms/step - loss: 1144.2938\n",
      "Epoch 189/200\n",
      "1/1 [==============================] - ETA: 0s - loss: 1144.29 - 0s 4ms/step - loss: 1144.2939\n",
      "Epoch 190/200\n",
      "1/1 [==============================] - 0s 4ms/step - loss: 1144.2939\n",
      "Epoch 191/200\n",
      "1/1 [==============================] - 0s 4ms/step - loss: 1144.2936\n",
      "Epoch 192/200\n",
      "1/1 [==============================] - 0s 4ms/step - loss: 1144.2937\n",
      "Epoch 193/200\n",
      "1/1 [==============================] - 0s 1ms/step - loss: 1144.2936\n",
      "Epoch 194/200\n",
      "1/1 [==============================] - 0s 13ms/step - loss: 1144.2935\n",
      "Epoch 195/200\n",
      "1/1 [==============================] - 0s 8ms/step - loss: 1144.2937\n",
      "Epoch 196/200\n",
      "1/1 [==============================] - 0s 2ms/step - loss: 1144.2938\n",
      "Epoch 197/200\n",
      "1/1 [==============================] - 0s 6ms/step - loss: 1144.2935\n",
      "Epoch 198/200\n"
     ]
    },
    {
     "name": "stdout",
     "output_type": "stream",
     "text": [
      "1/1 [==============================] - 0s 10ms/step - loss: 1144.2932\n",
      "Epoch 199/200\n",
      "1/1 [==============================] - 0s 9ms/step - loss: 1144.2935\n",
      "Epoch 200/200\n",
      "1/1 [==============================] - 0s 1ms/step - loss: 1144.2930\n"
     ]
    }
   ],
   "source": [
    "tfsf = tfSF.SFilter(n_features=learned_features)\n",
    "tfsf.fit(data['X_tr'], epochs=n_epochs, batchsize=900)"
   ]
  },
  {
   "cell_type": "markdown",
   "metadata": {},
   "source": [
    "We train the npSF module."
   ]
  },
  {
   "cell_type": "code",
   "execution_count": 6,
   "metadata": {},
   "outputs": [],
   "source": [
    "npsf = npSF.SFilter()\n",
    "npsf.setFeatures(learned_features)\n",
    "npsf.setTrainData(data['X_tr'])\n",
    "npsf.initializeWeights()\n",
    "npsf.initialiazeNotebook()\n",
    "npsf.train()"
   ]
  },
  {
   "cell_type": "markdown",
   "metadata": {},
   "source": [
    "We plot the loss function to verify that the models converged to a solution."
   ]
  },
  {
   "cell_type": "code",
   "execution_count": 7,
   "metadata": {},
   "outputs": [
    {
     "data": {
      "text/plain": [
       "<matplotlib.legend.Legend at 0x7f98f46aa9e8>"
      ]
     },
     "execution_count": 7,
     "metadata": {},
     "output_type": "execute_result"
    },
    {
     "data": {
      "image/png": "[encoded data removed]",
      "text/plain": [
       "<Figure size 432x288 with 1 Axes>"
      ]
     },
     "metadata": {
      "needs_background": "light"
     },
     "output_type": "display_data"
    }
   ],
   "source": [
    "plt.title('Loss'); \n",
    "plt.xlabel('Epochs'); \n",
    "plt.ylabel('L1 loss');\n",
    "\n",
    "plt.plot(npsf.notebook['losses'],label='npSF')\n",
    "plt.plot(tfsf.hist.history['loss'],label='tfSF')\n",
    "plt.legend()"
   ]
  },
  {
   "cell_type": "markdown",
   "metadata": {},
   "source": [
    "We compute the information-theoretic statistics of interest (entropy and mutual information) at each iteration."
   ]
  },
  {
   "cell_type": "code",
   "execution_count": 8,
   "metadata": {},
   "outputs": [],
   "source": [
    "npWs = npsf.notebook['weights']    \n",
    "    \n",
    "np_Z_tes = []; np_MI_XZs = []; np_H_Zs = []  \n",
    "for W in npWs:\n",
    "    Z_te = computeZ(data['X_te'],W)\n",
    "    \n",
    "    np_Z_tes.append(Z_te)\n",
    "    np_MI_XZs.append(IT.compute_MI_bin(data['X_te'],Z_te,bins=IT_bins))\n",
    "    np_H_Zs.append(IT.compute_H_bin(Z_te,bins=IT_bins))\n",
    "\n",
    "\n",
    "tfWs = tfsf.weights\n",
    "\n",
    "tf_Z_tes = []; tf_MI_XZs = []; tf_H_Zs = []  \n",
    "for W in tfWs:\n",
    "    Z_te = computeZ(data['X_te'],W)\n",
    "    \n",
    "    tf_Z_tes.append(Z_te)\n",
    "    tf_MI_XZs.append(IT.compute_MI_bin(data['X_te'],Z_te,bins=IT_bins))\n",
    "    tf_H_Zs.append(IT.compute_H_bin(Z_te,bins=IT_bins))"
   ]
  },
  {
   "cell_type": "code",
   "execution_count": 9,
   "metadata": {},
   "outputs": [],
   "source": [
    "Z_trs = []\n",
    "for W in tfWs:\n",
    "    Z_tr = computeZ(data['X_tr'],W)\n",
    "    Z_trs.append(Z_tr)"
   ]
  },
  {
   "cell_type": "markdown",
   "metadata": {},
   "source": [
    "We plot entropy and mutual information."
   ]
  },
  {
   "cell_type": "code",
   "execution_count": 10,
   "metadata": {},
   "outputs": [
    {
     "data": {
      "text/plain": [
       "[<matplotlib.lines.Line2D at 0x7f98f4537cc0>]"
      ]
     },
     "execution_count": 10,
     "metadata": {},
     "output_type": "execute_result"
    },
    {
     "data": {
      "image/png": "[encoded data removed]",
      "text/plain": [
       "<Figure size 432x288 with 4 Axes>"
      ]
     },
     "metadata": {
      "needs_background": "light"
     },
     "output_type": "display_data"
    }
   ],
   "source": [
    "_,ax = plt.subplots(2,2)\n",
    "\n",
    "ax[0,0].plot(np_MI_XZs)\n",
    "ax[0,0].set_title('npSF: I(X;Z)')\n",
    "ax[0,0].set_xlabel('Epochs')\n",
    "ax[0,0].set_ylabel('Bits')\n",
    "ax[0,0].plot(linreg(np.arange(len(np_MI_XZs)),np_MI_XZs),'r--')\n",
    "\n",
    "ax[0,1].plot(tf_MI_XZs)\n",
    "ax[0,1].set_title('tfSF: I(X;Z)')\n",
    "ax[0,1].set_xlabel('Epochs')\n",
    "ax[0,1].set_ylabel('Bits')\n",
    "ax[0,1].plot(linreg(np.arange(n_epochs),tf_MI_XZs),'r--')\n",
    "\n",
    "ax[1,0].plot(np_H_Zs)\n",
    "ax[1,0].set_title('npSF: H(Z)')\n",
    "ax[1,0].set_xlabel('Epochs')\n",
    "ax[1,0].set_ylabel('Bits')\n",
    "ax[1,0].plot(linreg(np.arange(len(np_H_Zs)),np_H_Zs),'r--')\n",
    "\n",
    "ax[1,1].plot(tf_H_Zs)\n",
    "ax[1,1].set_title('tfSF: H(Z)')\n",
    "ax[1,1].set_xlabel('Epochs')\n",
    "ax[1,1].set_ylabel('Bits')\n",
    "ax[1,1].plot(linreg(np.arange(n_epochs),tf_H_Zs),'r--')"
   ]
  },
  {
   "cell_type": "markdown",
   "metadata": {},
   "source": [
    "And the information graphs."
   ]
  },
  {
   "cell_type": "code",
   "execution_count": 11,
   "metadata": {},
   "outputs": [
    {
     "data": {
      "text/plain": [
       "<matplotlib.collections.PathCollection at 0x7f98f442f438>"
      ]
     },
     "execution_count": 11,
     "metadata": {},
     "output_type": "execute_result"
    },
    {
     "data": {
      "image/png": "[encoded data removed]",
      "text/plain": [
       "<Figure size 432x288 with 2 Axes>"
      ]
     },
     "metadata": {
      "needs_background": "light"
     },
     "output_type": "display_data"
    }
   ],
   "source": [
    "_,ax = plt.subplots(1,2)\n",
    "\n",
    "ax[0].set_title('npSF: Info plot'); \n",
    "ax[0].set_xlabel('I(X;T)'); \n",
    "ax[0].set_ylabel('H(T)'); \n",
    "ax[0].plot(np_MI_XZs,np_H_Zs,c='black', zorder=0)\n",
    "ax[0].scatter(np_MI_XZs[1:-1],np_H_Zs[1:-1],c='black',s=30, zorder=1)\n",
    "ax[0].scatter(np_MI_XZs[0],np_H_Zs[0],c='green',s=75,zorder=2)\n",
    "ax[0].scatter(np_MI_XZs[-1],np_H_Zs[-1],c='red',s=75,zorder=2)\n",
    "\n",
    "ax[1].set_title('tfSF: Info plot'); \n",
    "ax[1].set_xlabel('I(X;T)'); \n",
    "ax[1].set_ylabel('H(T)'); \n",
    "ax[1].plot(tf_MI_XZs,tf_H_Zs,c='black', zorder=0)\n",
    "ax[1].scatter(tf_MI_XZs[1:-1],tf_H_Zs[1:-1],c='black',s=30, zorder=1)\n",
    "ax[1].scatter(tf_MI_XZs[0],tf_H_Zs[0],c='green',s=75,zorder=2)\n",
    "ax[1].scatter(tf_MI_XZs[-1],tf_H_Zs[-1],c='red',s=75,zorder=2)"
   ]
  },
  {
   "cell_type": "markdown",
   "metadata": {},
   "source": [
    "### References\n",
    "\n",
    "[1] Zennaro, F.M. and Chen, K., 2019. Towards Further Understanding of Sparse Filtering via Information Bottleneck. arXiv preprint arXiv:1910.08964."
   ]
  }
 ],
 "metadata": {
  "kernelspec": {
   "display_name": "Python 3",
   "language": "python",
   "name": "python3"
  },
  "language_info": {
   "codemirror_mode": {
    "name": "ipython",
    "version": 3
   },
   "file_extension": ".py",
   "mimetype": "text/x-python",
   "name": "python",
   "nbconvert_exporter": "python",
   "pygments_lexer": "ipython3",
   "version": "3.6.10"
  }
 },
 "nbformat": 4,
 "nbformat_minor": 4
}
