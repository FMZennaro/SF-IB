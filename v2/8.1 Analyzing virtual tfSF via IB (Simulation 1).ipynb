{
 "cells": [
  {
   "cell_type": "markdown",
   "metadata": {},
   "source": [
    "# Analyzing virtual tfSF using the principles of Information Bottleneck (Simulation 1)\n",
    "\n",
    "In this notebook we take a look into the dynamics of tfSF assuming the IB hypothesis and considering virtual labels."
   ]
  },
  {
   "cell_type": "markdown",
   "metadata": {},
   "source": [
    "## Setup\n",
    "\n",
    "We start by importing some libraries:"
   ]
  },
  {
   "cell_type": "code",
   "execution_count": 1,
   "metadata": {},
   "outputs": [],
   "source": [
    "import numpy as np\n",
    "import joblib\n",
    "import matplotlib.pyplot as plt\n",
    "from tqdm import tqdm\n",
    "from scipy.stats import linregress\n",
    "\n",
    "import tfSF\n",
    "import npSF\n",
    "\n",
    "import data.data_creation as D\n",
    "from IT import IT"
   ]
  },
  {
   "cell_type": "markdown",
   "metadata": {},
   "source": [
    "We define the parameters of our simulation:"
   ]
  },
  {
   "cell_type": "code",
   "execution_count": 2,
   "metadata": {},
   "outputs": [],
   "source": [
    "learned_features = 2\n",
    "n_samples = 10\n",
    "n_epochs = 200\n",
    "\n",
    "IT_bins=30"
   ]
  },
  {
   "cell_type": "markdown",
   "metadata": {},
   "source": [
    "We define a couple of helper functions: a simple linear regression function and a helper function to compute the tfSF learned representation as a function of the weights. Notice that here, for simplicity, we call the steps of SF implemented using *numpy*; since no learning is now required, using *numpy* saves us the overhead of instantiating a *tensorflow* model."
   ]
  },
  {
   "cell_type": "code",
   "execution_count": 3,
   "metadata": {},
   "outputs": [],
   "source": [
    "def linreg(x,y):\n",
    "    a, b, _, _, _ = stats.linregress(x,y)\n",
    "    return a*x+b\n",
    "    \n",
    "\n",
    "def computeZ(X,W):\n",
    "    WX = np.dot(W,X.T)\n",
    "    F = npSF.softabsolute(WX)\n",
    "    Fsquish, _ = npSF.l2row(F)\n",
    "    Fhat, _ = npSF.l2row(Fsquish.T)\n",
    "    Z = Fhat\n",
    "    return Z"
   ]
  },
  {
   "cell_type": "markdown",
   "metadata": {},
   "source": [
    "## Simulation 1\n",
    "\n",
    "We now train a SF module and we evaluate the mutual information wrt to different possible labelling of the data. Specifically, we load random data togethere with three possible labelling: *Gaussian, radial, random*."
   ]
  },
  {
   "cell_type": "code",
   "execution_count": 4,
   "metadata": {},
   "outputs": [],
   "source": [
    "X, Y_gaussian, Y_radial, Y_random = D.get_samples_virtualSF(n_samples=n_samples)"
   ]
  },
  {
   "cell_type": "markdown",
   "metadata": {},
   "source": [
    "We plot the data to provide an understanding of the data points and the labels."
   ]
  },
  {
   "cell_type": "code",
   "execution_count": 5,
   "metadata": {},
   "outputs": [
    {
     "data": {
      "image/png": "[encoded data removed]",
      "text/plain": [
       "<Figure size 864x288 with 3 Axes>"
      ]
     },
     "metadata": {
      "needs_background": "light"
     },
     "output_type": "display_data"
    }
   ],
   "source": [
    "labels = [Y_gaussian, Y_radial, Y_random]\n",
    "titles = ['Gaussian labelling', 'Radial labelling', 'Random labelling']\n",
    "_, ax = plt.subplots(1,3,figsize=(12,4))\n",
    "\n",
    "for i in range(len(labels)):\n",
    "    ax[i].axhline(0,color='black')\n",
    "    ax[i].axvline(0,color='black')\n",
    "    ax[i].grid(True)\n",
    "    ax[i].scatter(X[:,0],X[:,1], c=labels[i])\n",
    "    ax[i].set_title(titles[i])"
   ]
  },
  {
   "cell_type": "markdown",
   "metadata": {},
   "source": [
    "We train the SF module."
   ]
  },
  {
   "cell_type": "code",
   "execution_count": 6,
   "metadata": {},
   "outputs": [
    {
     "name": "stdout",
     "output_type": "stream",
     "text": [
      "Epoch 1/200\n",
      "1/1 [==============================] - 0s 2ms/step - loss: 25.8096\n",
      "Epoch 2/200\n",
      "1/1 [==============================] - 0s 2ms/step - loss: 26.8978\n",
      "Epoch 3/200\n",
      "1/1 [==============================] - 0s 2ms/step - loss: 26.7064\n",
      "Epoch 4/200\n",
      "1/1 [==============================] - 0s 9ms/step - loss: 26.2467\n",
      "Epoch 5/200\n",
      "1/1 [==============================] - 0s 1ms/step - loss: 25.8424\n",
      "Epoch 6/200\n",
      "1/1 [==============================] - 0s 2ms/step - loss: 26.1071\n",
      "Epoch 7/200\n",
      "1/1 [==============================] - 0s 3ms/step - loss: 26.1327\n",
      "Epoch 8/200\n",
      "1/1 [==============================] - 0s 3ms/step - loss: 26.0936\n",
      "Epoch 9/200\n",
      "1/1 [==============================] - 0s 2ms/step - loss: 25.9724\n",
      "Epoch 10/200\n",
      "1/1 [==============================] - 0s 2ms/step - loss: 25.5706\n",
      "Epoch 11/200\n",
      "1/1 [==============================] - 0s 2ms/step - loss: 25.2090\n",
      "Epoch 12/200\n",
      "1/1 [==============================] - 0s 5ms/step - loss: 25.1508\n",
      "Epoch 13/200\n",
      "1/1 [==============================] - 0s 6ms/step - loss: 24.9572\n",
      "Epoch 14/200\n",
      "1/1 [==============================] - 0s 4ms/step - loss: 25.0040\n",
      "Epoch 15/200\n",
      "1/1 [==============================] - 0s 6ms/step - loss: 25.0144\n",
      "Epoch 16/200\n",
      "1/1 [==============================] - 0s 5ms/step - loss: 25.0089\n",
      "Epoch 17/200\n",
      "1/1 [==============================] - 0s 2ms/step - loss: 25.0558\n",
      "Epoch 18/200\n",
      "1/1 [==============================] - 0s 2ms/step - loss: 25.0611\n",
      "Epoch 19/200\n",
      "1/1 [==============================] - 0s 2ms/step - loss: 25.0602\n",
      "Epoch 20/200\n",
      "1/1 [==============================] - 0s 2ms/step - loss: 24.9782\n",
      "Epoch 21/200\n",
      "1/1 [==============================] - 0s 2ms/step - loss: 24.7651\n",
      "Epoch 22/200\n",
      "1/1 [==============================] - 0s 2ms/step - loss: 24.8997\n",
      "Epoch 23/200\n",
      "1/1 [==============================] - 0s 3ms/step - loss: 25.0038\n",
      "Epoch 24/200\n",
      "1/1 [==============================] - 0s 2ms/step - loss: 24.9664\n",
      "Epoch 25/200\n",
      "1/1 [==============================] - 0s 2ms/step - loss: 24.7991\n",
      "Epoch 26/200\n",
      "1/1 [==============================] - 0s 2ms/step - loss: 24.8507\n",
      "Epoch 27/200\n",
      "1/1 [==============================] - 0s 2ms/step - loss: 24.9700\n",
      "Epoch 28/200\n",
      "1/1 [==============================] - 0s 2ms/step - loss: 24.9748\n",
      "Epoch 29/200\n",
      "1/1 [==============================] - 0s 2ms/step - loss: 24.8919\n",
      "Epoch 30/200\n",
      "1/1 [==============================] - 0s 2ms/step - loss: 24.7528\n",
      "Epoch 31/200\n",
      "1/1 [==============================] - 0s 2ms/step - loss: 24.8201\n",
      "Epoch 32/200\n",
      "1/1 [==============================] - 0s 3ms/step - loss: 24.8538\n",
      "Epoch 33/200\n",
      "1/1 [==============================] - 0s 11ms/step - loss: 24.7813\n",
      "Epoch 34/200\n",
      "1/1 [==============================] - 0s 4ms/step - loss: 24.7528\n",
      "Epoch 35/200\n",
      "1/1 [==============================] - 0s 2ms/step - loss: 24.8022\n",
      "Epoch 36/200\n",
      "1/1 [==============================] - 0s 13ms/step - loss: 24.7913\n",
      "Epoch 37/200\n",
      "1/1 [==============================] - 0s 2ms/step - loss: 24.7396\n",
      "Epoch 38/200\n",
      "1/1 [==============================] - 0s 2ms/step - loss: 24.7349\n",
      "Epoch 39/200\n",
      "1/1 [==============================] - 0s 2ms/step - loss: 24.6912\n",
      "Epoch 40/200\n",
      "1/1 [==============================] - 0s 2ms/step - loss: 24.7170\n",
      "Epoch 41/200\n",
      "1/1 [==============================] - 0s 3ms/step - loss: 24.7374\n",
      "Epoch 42/200\n",
      "1/1 [==============================] - 0s 4ms/step - loss: 24.7333\n",
      "Epoch 43/200\n",
      "1/1 [==============================] - 0s 7ms/step - loss: 24.7265\n",
      "Epoch 44/200\n",
      "1/1 [==============================] - 0s 4ms/step - loss: 24.6926\n",
      "Epoch 45/200\n",
      "1/1 [==============================] - 0s 3ms/step - loss: 24.6960\n",
      "Epoch 46/200\n",
      "1/1 [==============================] - 0s 3ms/step - loss: 24.7400\n",
      "Epoch 47/200\n",
      "1/1 [==============================] - 0s 2ms/step - loss: 24.7024\n",
      "Epoch 48/200\n",
      "1/1 [==============================] - ETA: 0s - loss: 24.71 - 0s 3ms/step - loss: 24.7179\n",
      "Epoch 49/200\n",
      "1/1 [==============================] - 0s 2ms/step - loss: 24.7386\n",
      "Epoch 50/200\n",
      "1/1 [==============================] - 0s 2ms/step - loss: 24.7155\n",
      "Epoch 51/200\n",
      "1/1 [==============================] - 0s 2ms/step - loss: 24.7371\n",
      "Epoch 52/200\n",
      "1/1 [==============================] - 0s 2ms/step - loss: 24.7535\n",
      "Epoch 53/200\n",
      "1/1 [==============================] - 0s 2ms/step - loss: 24.7030\n",
      "Epoch 54/200\n",
      "1/1 [==============================] - 0s 2ms/step - loss: 24.7532\n",
      "Epoch 55/200\n",
      "1/1 [==============================] - 0s 2ms/step - loss: 24.7959\n",
      "Epoch 56/200\n",
      "1/1 [==============================] - 0s 2ms/step - loss: 24.7774\n",
      "Epoch 57/200\n",
      "1/1 [==============================] - 0s 2ms/step - loss: 24.7011\n",
      "Epoch 58/200\n",
      "1/1 [==============================] - ETA: 0s - loss: 24.71 - 0s 3ms/step - loss: 24.7114\n",
      "Epoch 59/200\n",
      "1/1 [==============================] - 0s 1ms/step - loss: 24.6974\n",
      "Epoch 60/200\n",
      "1/1 [==============================] - 0s 3ms/step - loss: 24.7263\n",
      "Epoch 61/200\n",
      "1/1 [==============================] - 0s 2ms/step - loss: 24.7194\n",
      "Epoch 62/200\n",
      "1/1 [==============================] - 0s 2ms/step - loss: 24.6958\n",
      "Epoch 63/200\n",
      "1/1 [==============================] - 0s 2ms/step - loss: 24.7062\n",
      "Epoch 64/200\n",
      "1/1 [==============================] - 0s 3ms/step - loss: 24.6994\n",
      "Epoch 65/200\n",
      "1/1 [==============================] - 0s 2ms/step - loss: 24.7264\n",
      "Epoch 66/200\n",
      "1/1 [==============================] - 0s 2ms/step - loss: 24.6961\n",
      "Epoch 67/200\n",
      "1/1 [==============================] - 0s 2ms/step - loss: 24.6931\n",
      "Epoch 68/200\n",
      "1/1 [==============================] - 0s 2ms/step - loss: 24.6945\n",
      "Epoch 69/200\n",
      "1/1 [==============================] - 0s 2ms/step - loss: 24.7188\n",
      "Epoch 70/200\n",
      "1/1 [==============================] - 0s 3ms/step - loss: 24.7111\n",
      "Epoch 71/200\n",
      "1/1 [==============================] - 0s 3ms/step - loss: 24.6980\n",
      "Epoch 72/200\n",
      "1/1 [==============================] - 0s 1ms/step - loss: 24.7093\n",
      "Epoch 73/200\n",
      "1/1 [==============================] - 0s 2ms/step - loss: 24.6948\n",
      "Epoch 74/200\n",
      "1/1 [==============================] - 0s 2ms/step - loss: 24.7446\n",
      "Epoch 75/200\n",
      "1/1 [==============================] - 0s 4ms/step - loss: 24.7418\n",
      "Epoch 76/200\n",
      "1/1 [==============================] - 0s 1ms/step - loss: 24.6903\n",
      "Epoch 77/200\n",
      "1/1 [==============================] - 0s 2ms/step - loss: 24.6870\n",
      "Epoch 78/200\n",
      "1/1 [==============================] - 0s 1ms/step - loss: 24.7319\n",
      "Epoch 79/200\n",
      "1/1 [==============================] - 0s 2ms/step - loss: 24.7181\n",
      "Epoch 80/200\n",
      "1/1 [==============================] - 0s 1ms/step - loss: 24.7000\n",
      "Epoch 81/200\n",
      "1/1 [==============================] - 0s 2ms/step - loss: 24.7095\n",
      "Epoch 82/200\n",
      "1/1 [==============================] - 0s 2ms/step - loss: 24.6903\n",
      "Epoch 83/200\n",
      "1/1 [==============================] - 0s 8ms/step - loss: 24.7411\n",
      "Epoch 84/200\n",
      "1/1 [==============================] - 0s 2ms/step - loss: 24.7404\n",
      "Epoch 85/200\n",
      "1/1 [==============================] - 0s 2ms/step - loss: 24.6881\n",
      "Epoch 86/200\n",
      "1/1 [==============================] - 0s 1ms/step - loss: 24.7149\n",
      "Epoch 87/200\n",
      "1/1 [==============================] - 0s 1ms/step - loss: 24.6992\n",
      "Epoch 88/200\n",
      "1/1 [==============================] - 0s 1ms/step - loss: 24.7145\n",
      "Epoch 89/200\n",
      "1/1 [==============================] - 0s 1ms/step - loss: 24.7219\n",
      "Epoch 90/200\n",
      "1/1 [==============================] - 0s 2ms/step - loss: 24.6941\n",
      "Epoch 91/200\n",
      "1/1 [==============================] - 0s 1ms/step - loss: 24.7516\n",
      "Epoch 92/200\n",
      "1/1 [==============================] - 0s 5ms/step - loss: 24.7593\n",
      "Epoch 93/200\n",
      "1/1 [==============================] - 0s 955us/step - loss: 24.7235\n",
      "Epoch 94/200\n",
      "1/1 [==============================] - 0s 1ms/step - loss: 24.7133\n",
      "Epoch 95/200\n",
      "1/1 [==============================] - 0s 2ms/step - loss: 24.7280\n",
      "Epoch 96/200\n",
      "1/1 [==============================] - 0s 1ms/step - loss: 24.6905\n",
      "Epoch 97/200\n",
      "1/1 [==============================] - 0s 1ms/step - loss: 24.6974\n",
      "Epoch 98/200\n",
      "1/1 [==============================] - 0s 1ms/step - loss: 24.6894\n",
      "Epoch 99/200\n",
      "1/1 [==============================] - 0s 1ms/step - loss: 24.6862\n",
      "Epoch 100/200\n",
      "1/1 [==============================] - 0s 1ms/step - loss: 24.7313\n",
      "Epoch 101/200\n",
      "1/1 [==============================] - 0s 3ms/step - loss: 24.6862\n",
      "Epoch 102/200\n"
     ]
    },
    {
     "name": "stdout",
     "output_type": "stream",
     "text": [
      "1/1 [==============================] - 0s 3ms/step - loss: 24.6897\n",
      "Epoch 103/200\n",
      "1/1 [==============================] - 0s 1ms/step - loss: 24.6879\n",
      "Epoch 104/200\n",
      "1/1 [==============================] - 0s 4ms/step - loss: 24.7141\n",
      "Epoch 105/200\n",
      "1/1 [==============================] - 0s 3ms/step - loss: 24.6975\n",
      "Epoch 106/200\n",
      "1/1 [==============================] - 0s 2ms/step - loss: 24.6867\n",
      "Epoch 107/200\n",
      "1/1 [==============================] - 0s 10ms/step - loss: 24.7266\n",
      "Epoch 108/200\n",
      "1/1 [==============================] - 0s 5ms/step - loss: 24.6868\n",
      "Epoch 109/200\n",
      "1/1 [==============================] - 0s 12ms/step - loss: 24.6959\n",
      "Epoch 110/200\n",
      "1/1 [==============================] - 0s 8ms/step - loss: 24.6878\n",
      "Epoch 111/200\n",
      "1/1 [==============================] - 0s 9ms/step - loss: 24.7123\n",
      "Epoch 112/200\n",
      "1/1 [==============================] - 0s 2ms/step - loss: 24.6906\n",
      "Epoch 113/200\n",
      "1/1 [==============================] - 0s 2ms/step - loss: 24.6984\n",
      "Epoch 114/200\n",
      "1/1 [==============================] - 0s 2ms/step - loss: 24.6969\n",
      "Epoch 115/200\n",
      "1/1 [==============================] - 0s 2ms/step - loss: 24.7073\n",
      "Epoch 116/200\n",
      "1/1 [==============================] - 0s 3ms/step - loss: 24.6892\n",
      "Epoch 117/200\n",
      "1/1 [==============================] - 0s 2ms/step - loss: 24.6878\n",
      "Epoch 118/200\n",
      "1/1 [==============================] - 0s 2ms/step - loss: 24.7191\n",
      "Epoch 119/200\n",
      "1/1 [==============================] - 0s 2ms/step - loss: 24.6899\n",
      "Epoch 120/200\n",
      "1/1 [==============================] - 0s 2ms/step - loss: 24.6908\n",
      "Epoch 121/200\n",
      "1/1 [==============================] - 0s 2ms/step - loss: 24.6916\n",
      "Epoch 122/200\n",
      "1/1 [==============================] - 0s 2ms/step - loss: 24.7116\n",
      "Epoch 123/200\n",
      "1/1 [==============================] - 0s 2ms/step - loss: 24.6919\n",
      "Epoch 124/200\n",
      "1/1 [==============================] - 0s 2ms/step - loss: 24.6925\n",
      "Epoch 125/200\n",
      "1/1 [==============================] - 0s 6ms/step - loss: 24.6912\n",
      "Epoch 126/200\n",
      "1/1 [==============================] - 0s 2ms/step - loss: 24.7269\n",
      "Epoch 127/200\n",
      "1/1 [==============================] - 0s 2ms/step - loss: 24.6901\n",
      "Epoch 128/200\n",
      "1/1 [==============================] - 0s 2ms/step - loss: 24.7513\n",
      "Epoch 129/200\n",
      "1/1 [==============================] - 0s 2ms/step - loss: 24.7695\n",
      "Epoch 130/200\n",
      "1/1 [==============================] - 0s 2ms/step - loss: 24.7628\n",
      "Epoch 131/200\n",
      "1/1 [==============================] - 0s 2ms/step - loss: 24.7065\n",
      "Epoch 132/200\n",
      "1/1 [==============================] - 0s 2ms/step - loss: 24.8055\n",
      "Epoch 133/200\n",
      "1/1 [==============================] - 0s 2ms/step - loss: 24.8247\n",
      "Epoch 134/200\n",
      "1/1 [==============================] - 0s 2ms/step - loss: 24.7995\n",
      "Epoch 135/200\n",
      "1/1 [==============================] - 0s 3ms/step - loss: 24.7940\n",
      "Epoch 136/200\n",
      "1/1 [==============================] - 0s 2ms/step - loss: 24.7505\n",
      "Epoch 137/200\n",
      "1/1 [==============================] - 0s 2ms/step - loss: 24.8231\n",
      "Epoch 138/200\n",
      "1/1 [==============================] - 0s 2ms/step - loss: 24.9339\n",
      "Epoch 139/200\n",
      "1/1 [==============================] - 0s 2ms/step - loss: 24.8410\n",
      "Epoch 140/200\n",
      "1/1 [==============================] - 0s 2ms/step - loss: 24.6858\n",
      "Epoch 141/200\n",
      "1/1 [==============================] - 0s 2ms/step - loss: 24.8150\n",
      "Epoch 142/200\n",
      "1/1 [==============================] - 0s 2ms/step - loss: 24.8660\n",
      "Epoch 143/200\n",
      "1/1 [==============================] - 0s 2ms/step - loss: 24.9285\n",
      "Epoch 144/200\n",
      "1/1 [==============================] - 0s 2ms/step - loss: 24.8265\n",
      "Epoch 145/200\n",
      "1/1 [==============================] - 0s 1ms/step - loss: 24.7204\n",
      "Epoch 146/200\n",
      "1/1 [==============================] - 0s 2ms/step - loss: 24.8415\n",
      "Epoch 147/200\n",
      "1/1 [==============================] - 0s 2ms/step - loss: 24.9494\n",
      "Epoch 148/200\n",
      "1/1 [==============================] - 0s 2ms/step - loss: 24.9263\n",
      "Epoch 149/200\n",
      "1/1 [==============================] - 0s 2ms/step - loss: 24.7681\n",
      "Epoch 150/200\n",
      "1/1 [==============================] - 0s 2ms/step - loss: 24.6941\n",
      "Epoch 151/200\n",
      "1/1 [==============================] - 0s 3ms/step - loss: 24.8005\n",
      "Epoch 152/200\n",
      "1/1 [==============================] - 0s 2ms/step - loss: 24.8074\n",
      "Epoch 153/200\n",
      "1/1 [==============================] - 0s 2ms/step - loss: 24.8939\n",
      "Epoch 154/200\n",
      "1/1 [==============================] - 0s 1ms/step - loss: 24.8294\n",
      "Epoch 155/200\n",
      "1/1 [==============================] - 0s 2ms/step - loss: 24.8269\n",
      "Epoch 156/200\n",
      "1/1 [==============================] - 0s 2ms/step - loss: 24.7904\n",
      "Epoch 157/200\n",
      "1/1 [==============================] - 0s 2ms/step - loss: 24.7385\n",
      "Epoch 158/200\n",
      "1/1 [==============================] - 0s 4ms/step - loss: 24.7358\n",
      "Epoch 159/200\n",
      "1/1 [==============================] - 0s 2ms/step - loss: 24.7978\n",
      "Epoch 160/200\n",
      "1/1 [==============================] - 0s 3ms/step - loss: 24.7481\n",
      "Epoch 161/200\n",
      "1/1 [==============================] - 0s 1ms/step - loss: 24.6981\n",
      "Epoch 162/200\n",
      "1/1 [==============================] - 0s 1ms/step - loss: 24.7647\n",
      "Epoch 163/200\n",
      "1/1 [==============================] - 0s 2ms/step - loss: 24.7752\n",
      "Epoch 164/200\n",
      "1/1 [==============================] - 0s 2ms/step - loss: 24.7502\n",
      "Epoch 165/200\n",
      "1/1 [==============================] - 0s 2ms/step - loss: 24.6967\n",
      "Epoch 166/200\n",
      "1/1 [==============================] - 0s 2ms/step - loss: 24.7140\n",
      "Epoch 167/200\n",
      "1/1 [==============================] - 0s 2ms/step - loss: 24.7122\n",
      "Epoch 168/200\n",
      "1/1 [==============================] - 0s 2ms/step - loss: 24.6944\n",
      "Epoch 169/200\n",
      "1/1 [==============================] - 0s 6ms/step - loss: 24.7506\n",
      "Epoch 170/200\n",
      "1/1 [==============================] - 0s 2ms/step - loss: 24.7502\n",
      "Epoch 171/200\n",
      "1/1 [==============================] - 0s 2ms/step - loss: 24.6902\n",
      "Epoch 172/200\n",
      "1/1 [==============================] - 0s 2ms/step - loss: 24.6964\n",
      "Epoch 173/200\n",
      "1/1 [==============================] - 0s 2ms/step - loss: 24.6883\n",
      "Epoch 174/200\n",
      "1/1 [==============================] - 0s 2ms/step - loss: 24.6910\n",
      "Epoch 175/200\n",
      "1/1 [==============================] - 0s 2ms/step - loss: 24.6915\n",
      "Epoch 176/200\n",
      "1/1 [==============================] - 0s 3ms/step - loss: 24.6889\n",
      "Epoch 177/200\n",
      "1/1 [==============================] - 0s 4ms/step - loss: 24.7208\n",
      "Epoch 178/200\n",
      "1/1 [==============================] - 0s 3ms/step - loss: 24.7037\n",
      "Epoch 179/200\n",
      "1/1 [==============================] - 0s 2ms/step - loss: 24.7078\n",
      "Epoch 180/200\n",
      "1/1 [==============================] - 0s 3ms/step - loss: 24.7116\n",
      "Epoch 181/200\n",
      "1/1 [==============================] - 0s 3ms/step - loss: 24.6911\n",
      "Epoch 182/200\n",
      "1/1 [==============================] - 0s 2ms/step - loss: 24.7416\n",
      "Epoch 183/200\n",
      "1/1 [==============================] - 0s 2ms/step - loss: 24.7574\n",
      "Epoch 184/200\n",
      "1/1 [==============================] - 0s 4ms/step - loss: 24.7082\n",
      "Epoch 185/200\n",
      "1/1 [==============================] - 0s 1ms/step - loss: 24.7208\n",
      "Epoch 186/200\n",
      "1/1 [==============================] - 0s 4ms/step - loss: 24.7502\n",
      "Epoch 187/200\n",
      "1/1 [==============================] - 0s 2ms/step - loss: 24.7200\n",
      "Epoch 188/200\n",
      "1/1 [==============================] - 0s 2ms/step - loss: 24.7340\n",
      "Epoch 189/200\n",
      "1/1 [==============================] - 0s 2ms/step - loss: 24.7673\n",
      "Epoch 190/200\n",
      "1/1 [==============================] - 0s 2ms/step - loss: 24.7648\n",
      "Epoch 191/200\n",
      "1/1 [==============================] - 0s 2ms/step - loss: 24.7270\n",
      "Epoch 192/200\n",
      "1/1 [==============================] - 0s 2ms/step - loss: 24.6961\n",
      "Epoch 193/200\n",
      "1/1 [==============================] - 0s 2ms/step - loss: 24.7340\n",
      "Epoch 194/200\n",
      "1/1 [==============================] - 0s 2ms/step - loss: 24.7155\n",
      "Epoch 195/200\n",
      "1/1 [==============================] - 0s 2ms/step - loss: 24.6996\n",
      "Epoch 196/200\n",
      "1/1 [==============================] - 0s 2ms/step - loss: 24.7111\n",
      "Epoch 197/200\n",
      "1/1 [==============================] - 0s 2ms/step - loss: 24.6979\n",
      "Epoch 198/200\n",
      "1/1 [==============================] - 0s 2ms/step - loss: 24.7395\n",
      "Epoch 199/200\n",
      "1/1 [==============================] - 0s 7ms/step - loss: 24.6971\n",
      "Epoch 200/200\n",
      "1/1 [==============================] - 0s 2ms/step - loss: 24.6947\n"
     ]
    }
   ],
   "source": [
    "tfsf = tfSF.SFilter(n_features=learned_features)\n",
    "tfsf.fit(X, epochs=n_epochs, batchsize=n_samples*2)"
   ]
  },
  {
   "cell_type": "markdown",
   "metadata": {},
   "source": [
    "We plot the loss function to verify that the model converged to a solution."
   ]
  },
  {
   "cell_type": "code",
   "execution_count": 7,
   "metadata": {},
   "outputs": [
    {
     "data": {
      "text/plain": [
       "[<matplotlib.lines.Line2D at 0x7fe7984d7d30>]"
      ]
     },
     "execution_count": 7,
     "metadata": {},
     "output_type": "execute_result"
    },
    {
     "data": {
      "image/png": "[encoded data removed]",
      "text/plain": [
       "<Figure size 432x288 with 1 Axes>"
      ]
     },
     "metadata": {
      "needs_background": "light"
     },
     "output_type": "display_data"
    }
   ],
   "source": [
    "plt.title('Loss'); \n",
    "plt.xlabel('Epochs'); \n",
    "plt.ylabel('L1 loss');\n",
    "    \n",
    "plt.plot(tfsf.hist.history['loss'])"
   ]
  },
  {
   "cell_type": "markdown",
   "metadata": {},
   "source": [
    "We compute the mutual information of the learned representations and the different types of labelling."
   ]
  },
  {
   "cell_type": "code",
   "execution_count": 9,
   "metadata": {},
   "outputs": [],
   "source": [
    "Ws = tfsf.weights\n",
    "\n",
    "MI_gaussian = []; MI_radial = []; MI_random = []\n",
    "  \n",
    "for W in Ws:\n",
    "    Z = computeZ(X,W)\n",
    "    \n",
    "    MI_gaussian.append(IT.compute_MI_dd_bin(Z,Y_gaussian,n_bins=IT_bins))\n",
    "    MI_radial.append(IT.compute_MI_dd_bin(Z,Y_radial,n_bins=IT_bins))\n",
    "    MI_random.append(IT.compute_MI_dd_bin(Z,Y_random,n_bins=IT_bins))"
   ]
  },
  {
   "cell_type": "markdown",
   "metadata": {},
   "source": [
    "We plot entropy and mutual information."
   ]
  },
  {
   "cell_type": "code",
   "execution_count": 10,
   "metadata": {},
   "outputs": [
    {
     "data": {
      "text/plain": [
       "<matplotlib.legend.Legend at 0x7fa49472ab38>"
      ]
     },
     "execution_count": 10,
     "metadata": {},
     "output_type": "execute_result"
    },
    {
     "data": {
      "image/png": "[encoded data removed]",
      "text/plain": [
       "<Figure size 432x288 with 1 Axes>"
      ]
     },
     "metadata": {
      "needs_background": "light"
     },
     "output_type": "display_data"
    }
   ],
   "source": [
    "mis = [MI_gaussian, MI_radial, MI_random]\n",
    "titles = ['Gaussian labelling', 'Radial labelling', 'Random labelling']\n",
    "\n",
    "for i in range(len(mis)):\n",
    "    plt.plot(mis[i],label=titles[i])\n",
    "plt.legend()"
   ]
  },
  {
   "cell_type": "markdown",
   "metadata": {},
   "source": [
    "## Conclusions\n",
    "\n",
    "- Mutual information seems higher with radial labelling."
   ]
  },
  {
   "cell_type": "markdown",
   "metadata": {},
   "source": [
    "### References\n",
    "\n",
    "[1] Zennaro, F.M. and Chen, K., 2019. Towards Further Understanding of Sparse Filtering via Information Bottleneck. arXiv preprint arXiv:1910.08964."
   ]
  }
 ],
 "metadata": {
  "kernelspec": {
   "display_name": "Python 3",
   "language": "python",
   "name": "python3"
  },
  "language_info": {
   "codemirror_mode": {
    "name": "ipython",
    "version": 3
   },
   "file_extension": ".py",
   "mimetype": "text/x-python",
   "name": "python",
   "nbconvert_exporter": "python",
   "pygments_lexer": "ipython3",
   "version": "3.6.10"
  }
 },
 "nbformat": 4,
 "nbformat_minor": 4
}
