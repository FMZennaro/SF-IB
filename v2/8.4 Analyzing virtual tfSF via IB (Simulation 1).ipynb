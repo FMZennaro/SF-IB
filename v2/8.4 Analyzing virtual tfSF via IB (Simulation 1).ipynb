{
 "cells": [
  {
   "cell_type": "markdown",
   "metadata": {},
   "source": [
    "# Analyzing virtual tfSF using the principles of Information Bottleneck (Simulation 1)\n",
    "\n",
    "In this notebook we re-run a simulation similar to Simulation 8.1 using a data samples in higher dimenesions."
   ]
  },
  {
   "cell_type": "markdown",
   "metadata": {},
   "source": [
    "## Setup\n",
    "\n",
    "We start by importing some libraries:"
   ]
  },
  {
   "cell_type": "code",
   "execution_count": 1,
   "metadata": {},
   "outputs": [],
   "source": [
    "import numpy as np\n",
    "import joblib\n",
    "import matplotlib.pyplot as plt\n",
    "from tqdm import tqdm\n",
    "from scipy.stats import linregress\n",
    "\n",
    "import tfSF\n",
    "import npSF\n",
    "\n",
    "import data.data_creation as D\n",
    "from IT import IT"
   ]
  },
  {
   "cell_type": "markdown",
   "metadata": {},
   "source": [
    "We define the parameters of our simulation:"
   ]
  },
  {
   "cell_type": "code",
   "execution_count": 2,
   "metadata": {},
   "outputs": [],
   "source": [
    "learned_features = 10\n",
    "n_samples = 1000\n",
    "n_epochs = 200\n",
    "\n",
    "IT_bins=30"
   ]
  },
  {
   "cell_type": "markdown",
   "metadata": {},
   "source": [
    "We define a couple of helper functions: a simple linear regression function and a helper function to compute the tfSF learned representation as a function of the weights. Notice that here, for simplicity, we call the steps of SF implemented using *numpy*; since no learning is now required, using *numpy* saves us the overhead of instantiating a *tensorflow* model."
   ]
  },
  {
   "cell_type": "code",
   "execution_count": 3,
   "metadata": {},
   "outputs": [],
   "source": [
    "def linreg(x,y):\n",
    "    a, b, _, _, _ = stats.linregress(x,y)\n",
    "    return a*x+b\n",
    "    \n",
    "\n",
    "def computeZ(X,W):\n",
    "    WX = np.dot(W,X.T)\n",
    "    F = npSF.softabsolute(WX)\n",
    "    Fsquish, _ = npSF.l2row(F)\n",
    "    Fhat, _ = npSF.l2row(Fsquish.T)\n",
    "    Z = Fhat\n",
    "    return Z"
   ]
  },
  {
   "cell_type": "markdown",
   "metadata": {},
   "source": [
    "## Simulation 1\n",
    "\n",
    "We now train a SF module and we evaluate the mutual information wrt to different possible labelling of the data. Specifically, we load random data togethere with three possible labelling: *Gaussian, radial, random*."
   ]
  },
  {
   "cell_type": "code",
   "execution_count": 5,
   "metadata": {},
   "outputs": [],
   "source": [
    "X, Y_radial, Y_random = D.get_samples_virtualSF_hd(n_dims=10,n_samples=n_samples)"
   ]
  },
  {
   "cell_type": "markdown",
   "metadata": {},
   "source": [
    "We train the SF module."
   ]
  },
  {
   "cell_type": "code",
   "execution_count": 6,
   "metadata": {},
   "outputs": [
    {
     "name": "stdout",
     "output_type": "stream",
     "text": [
      "Epoch 1/200\n",
      "2/2 [==============================] - 0s 6ms/step - loss: 4563.9556\n",
      "Epoch 2/200\n",
      "2/2 [==============================] - 0s 6ms/step - loss: 4248.8799\n",
      "Epoch 3/200\n",
      "2/2 [==============================] - 0s 4ms/step - loss: 4032.1797\n",
      "Epoch 4/200\n",
      "2/2 [==============================] - 0s 9ms/step - loss: 3913.5950\n",
      "Epoch 5/200\n",
      "2/2 [==============================] - 0s 8ms/step - loss: 3834.2473\n",
      "Epoch 6/200\n",
      "2/2 [==============================] - 0s 3ms/step - loss: 3759.8354\n",
      "Epoch 7/200\n",
      "2/2 [==============================] - 0s 4ms/step - loss: 3707.7974\n",
      "Epoch 8/200\n",
      "2/2 [==============================] - 0s 3ms/step - loss: 3692.0559\n",
      "Epoch 9/200\n",
      "2/2 [==============================] - 0s 4ms/step - loss: 3653.4016\n",
      "Epoch 10/200\n",
      "2/2 [==============================] - 0s 3ms/step - loss: 3630.2959\n",
      "Epoch 11/200\n",
      "2/2 [==============================] - 0s 5ms/step - loss: 3615.3936\n",
      "Epoch 12/200\n",
      "2/2 [==============================] - 0s 3ms/step - loss: 3588.2749\n",
      "Epoch 13/200\n",
      "2/2 [==============================] - 0s 4ms/step - loss: 3569.2236\n",
      "Epoch 14/200\n",
      "2/2 [==============================] - 0s 6ms/step - loss: 3555.1467\n",
      "Epoch 15/200\n",
      "2/2 [==============================] - 0s 5ms/step - loss: 3542.0413\n",
      "Epoch 16/200\n",
      "2/2 [==============================] - 0s 7ms/step - loss: 3530.5396\n",
      "Epoch 17/200\n",
      "2/2 [==============================] - 0s 7ms/step - loss: 3527.6387\n",
      "Epoch 18/200\n",
      "2/2 [==============================] - 0s 7ms/step - loss: 3521.0813\n",
      "Epoch 19/200\n",
      "2/2 [==============================] - 0s 7ms/step - loss: 3513.8574\n",
      "Epoch 20/200\n",
      "2/2 [==============================] - 0s 4ms/step - loss: 3505.8386\n",
      "Epoch 21/200\n",
      "2/2 [==============================] - 0s 7ms/step - loss: 3501.9287\n",
      "Epoch 22/200\n",
      "2/2 [==============================] - 0s 3ms/step - loss: 3496.3181\n",
      "Epoch 23/200\n",
      "2/2 [==============================] - 0s 5ms/step - loss: 3487.8003\n",
      "Epoch 24/200\n",
      "2/2 [==============================] - 0s 9ms/step - loss: 3487.6252\n",
      "Epoch 25/200\n",
      "2/2 [==============================] - 0s 4ms/step - loss: 3485.4480\n",
      "Epoch 26/200\n",
      "2/2 [==============================] - 0s 47ms/step - loss: 3484.0391\n",
      "Epoch 27/200\n",
      "2/2 [==============================] - 0s 9ms/step - loss: 3478.7854\n",
      "Epoch 28/200\n",
      "2/2 [==============================] - 0s 12ms/step - loss: 3476.5000\n",
      "Epoch 29/200\n",
      "2/2 [==============================] - 0s 4ms/step - loss: 3475.8494\n",
      "Epoch 30/200\n",
      "2/2 [==============================] - 0s 5ms/step - loss: 3473.1123\n",
      "Epoch 31/200\n",
      "2/2 [==============================] - 0s 9ms/step - loss: 3472.5012\n",
      "Epoch 32/200\n",
      "2/2 [==============================] - 0s 10ms/step - loss: 3470.4136\n",
      "Epoch 33/200\n",
      "2/2 [==============================] - 0s 8ms/step - loss: 3470.9426\n",
      "Epoch 34/200\n",
      "2/2 [==============================] - 0s 7ms/step - loss: 3466.4270\n",
      "Epoch 35/200\n",
      "2/2 [==============================] - 0s 6ms/step - loss: 3466.1433\n",
      "Epoch 36/200\n",
      "2/2 [==============================] - 0s 34ms/step - loss: 3465.3730\n",
      "Epoch 37/200\n",
      "2/2 [==============================] - 0s 5ms/step - loss: 3466.5247\n",
      "Epoch 38/200\n",
      "2/2 [==============================] - 0s 7ms/step - loss: 3467.4834\n",
      "Epoch 39/200\n",
      "2/2 [==============================] - 0s 8ms/step - loss: 3466.3406\n",
      "Epoch 40/200\n",
      "2/2 [==============================] - 0s 3ms/step - loss: 3465.5684\n",
      "Epoch 41/200\n",
      "2/2 [==============================] - 0s 2ms/step - loss: 3464.1499\n",
      "Epoch 42/200\n",
      "2/2 [==============================] - 0s 8ms/step - loss: 3461.6267\n",
      "Epoch 43/200\n",
      "2/2 [==============================] - 0s 4ms/step - loss: 3458.6028\n",
      "Epoch 44/200\n",
      "2/2 [==============================] - 0s 8ms/step - loss: 3461.1943\n",
      "Epoch 45/200\n",
      "2/2 [==============================] - 0s 3ms/step - loss: 3460.0447\n",
      "Epoch 46/200\n",
      "2/2 [==============================] - 0s 4ms/step - loss: 3456.4678\n",
      "Epoch 47/200\n",
      "2/2 [==============================] - ETA: 0s - loss: 4151.75 - 0s 5ms/step - loss: 3459.8218\n",
      "Epoch 48/200\n",
      "2/2 [==============================] - 0s 9ms/step - loss: 3457.2280\n",
      "Epoch 49/200\n",
      "2/2 [==============================] - 0s 4ms/step - loss: 3459.9734\n",
      "Epoch 50/200\n",
      "2/2 [==============================] - 0s 3ms/step - loss: 3457.6289\n",
      "Epoch 51/200\n",
      "2/2 [==============================] - 0s 6ms/step - loss: 3458.1348\n",
      "Epoch 52/200\n",
      "2/2 [==============================] - 0s 7ms/step - loss: 3456.9507\n",
      "Epoch 53/200\n",
      "2/2 [==============================] - 0s 7ms/step - loss: 3457.4939\n",
      "Epoch 54/200\n",
      "2/2 [==============================] - 0s 7ms/step - loss: 3458.6560\n",
      "Epoch 55/200\n",
      "2/2 [==============================] - 0s 10ms/step - loss: 3457.2754\n",
      "Epoch 56/200\n",
      "2/2 [==============================] - 0s 12ms/step - loss: 3456.1643\n",
      "Epoch 57/200\n",
      "2/2 [==============================] - 0s 8ms/step - loss: 3455.5198\n",
      "Epoch 58/200\n",
      "2/2 [==============================] - 0s 9ms/step - loss: 3458.3406\n",
      "Epoch 59/200\n",
      "2/2 [==============================] - 0s 5ms/step - loss: 3456.6768\n",
      "Epoch 60/200\n",
      "2/2 [==============================] - 0s 12ms/step - loss: 3458.1621\n",
      "Epoch 61/200\n",
      "2/2 [==============================] - 0s 13ms/step - loss: 3455.9856\n",
      "Epoch 62/200\n",
      "2/2 [==============================] - 0s 6ms/step - loss: 3457.9902\n",
      "Epoch 63/200\n",
      "2/2 [==============================] - 0s 7ms/step - loss: 3456.8140\n",
      "Epoch 64/200\n",
      "2/2 [==============================] - 0s 12ms/step - loss: 3456.7236\n",
      "Epoch 65/200\n",
      "2/2 [==============================] - 0s 9ms/step - loss: 3459.4834\n",
      "Epoch 66/200\n",
      "2/2 [==============================] - 0s 2ms/step - loss: 3456.2671\n",
      "Epoch 67/200\n",
      "2/2 [==============================] - 0s 4ms/step - loss: 3455.7920\n",
      "Epoch 68/200\n",
      "2/2 [==============================] - 0s 4ms/step - loss: 3456.1038\n",
      "Epoch 69/200\n",
      "2/2 [==============================] - 0s 4ms/step - loss: 3456.3411\n",
      "Epoch 70/200\n",
      "2/2 [==============================] - 0s 6ms/step - loss: 3455.8613\n",
      "Epoch 71/200\n",
      "2/2 [==============================] - ETA: 0s - loss: 4145.33 - 0s 8ms/step - loss: 3455.3459\n",
      "Epoch 72/200\n",
      "2/2 [==============================] - 0s 3ms/step - loss: 3455.8813\n",
      "Epoch 73/200\n",
      "2/2 [==============================] - 0s 5ms/step - loss: 3455.4917\n",
      "Epoch 74/200\n",
      "2/2 [==============================] - 0s 7ms/step - loss: 3454.0632\n",
      "Epoch 75/200\n",
      "2/2 [==============================] - 0s 4ms/step - loss: 3457.8140\n",
      "Epoch 76/200\n",
      "2/2 [==============================] - 0s 6ms/step - loss: 3455.7749\n",
      "Epoch 77/200\n",
      "2/2 [==============================] - 0s 7ms/step - loss: 3453.1284\n",
      "Epoch 78/200\n",
      "2/2 [==============================] - 0s 7ms/step - loss: 3457.1523\n",
      "Epoch 79/200\n",
      "2/2 [==============================] - 0s 2ms/step - loss: 3455.9153\n",
      "Epoch 80/200\n",
      "2/2 [==============================] - 0s 3ms/step - loss: 3456.0879\n",
      "Epoch 81/200\n",
      "2/2 [==============================] - 0s 3ms/step - loss: 3455.1577\n",
      "Epoch 82/200\n",
      "2/2 [==============================] - 0s 5ms/step - loss: 3455.5740\n",
      "Epoch 83/200\n",
      "2/2 [==============================] - ETA: 0s - loss: 4151.03 - 0s 4ms/step - loss: 3457.0356\n",
      "Epoch 84/200\n",
      "2/2 [==============================] - ETA: 0s - loss: 4147.23 - 0s 5ms/step - loss: 3455.7866\n",
      "Epoch 85/200\n",
      "2/2 [==============================] - 0s 4ms/step - loss: 3453.8984\n",
      "Epoch 86/200\n",
      "2/2 [==============================] - 0s 4ms/step - loss: 3453.1758\n",
      "Epoch 87/200\n",
      "2/2 [==============================] - 0s 3ms/step - loss: 3455.8884\n",
      "Epoch 88/200\n",
      "2/2 [==============================] - 0s 3ms/step - loss: 3455.5234\n",
      "Epoch 89/200\n",
      "2/2 [==============================] - 0s 7ms/step - loss: 3454.3123\n",
      "Epoch 90/200\n",
      "2/2 [==============================] - 0s 6ms/step - loss: 3452.6980\n",
      "Epoch 91/200\n",
      "2/2 [==============================] - 0s 4ms/step - loss: 3453.7188\n",
      "Epoch 92/200\n",
      "2/2 [==============================] - 0s 3ms/step - loss: 3452.5813\n",
      "Epoch 93/200\n",
      "2/2 [==============================] - 0s 7ms/step - loss: 3455.6086\n",
      "Epoch 94/200\n",
      "2/2 [==============================] - 0s 5ms/step - loss: 3455.6663\n",
      "Epoch 95/200\n",
      "2/2 [==============================] - 0s 4ms/step - loss: 3455.2520\n",
      "Epoch 96/200\n",
      "2/2 [==============================] - 0s 4ms/step - loss: 3454.8120\n",
      "Epoch 97/200\n",
      "2/2 [==============================] - 0s 4ms/step - loss: 3453.5222\n",
      "Epoch 98/200\n",
      "2/2 [==============================] - 0s 4ms/step - loss: 3456.1973\n",
      "Epoch 99/200\n",
      "2/2 [==============================] - ETA: 0s - loss: 4148.25 - 0s 4ms/step - loss: 3455.7446\n",
      "Epoch 100/200\n",
      "2/2 [==============================] - 0s 21ms/step - loss: 3453.9268\n",
      "Epoch 101/200\n",
      "2/2 [==============================] - 0s 4ms/step - loss: 3452.9043\n",
      "Epoch 102/200\n",
      "2/2 [==============================] - 0s 4ms/step - loss: 3453.9717\n",
      "Epoch 103/200\n",
      "2/2 [==============================] - 0s 7ms/step - loss: 3453.5100\n",
      "Epoch 104/200\n",
      "2/2 [==============================] - 0s 7ms/step - loss: 3450.8213\n",
      "Epoch 105/200\n",
      "2/2 [==============================] - 0s 4ms/step - loss: 3453.8877\n",
      "Epoch 106/200\n",
      "2/2 [==============================] - 0s 7ms/step - loss: 3455.4324\n",
      "Epoch 107/200\n",
      "2/2 [==============================] - 0s 7ms/step - loss: 3452.4792\n",
      "Epoch 108/200\n",
      "2/2 [==============================] - 0s 6ms/step - loss: 3452.6016\n",
      "Epoch 109/200\n",
      "2/2 [==============================] - 0s 3ms/step - loss: 3455.7004\n",
      "Epoch 110/200\n",
      "2/2 [==============================] - 0s 6ms/step - loss: 3453.7959\n",
      "Epoch 111/200\n",
      "2/2 [==============================] - 0s 34ms/step - loss: 3452.2424\n",
      "Epoch 112/200\n",
      "2/2 [==============================] - 0s 8ms/step - loss: 3451.1289\n",
      "Epoch 113/200\n",
      "2/2 [==============================] - 0s 15ms/step - loss: 3452.3694\n",
      "Epoch 114/200\n",
      "2/2 [==============================] - 0s 7ms/step - loss: 3453.0449\n",
      "Epoch 115/200\n",
      "2/2 [==============================] - 0s 7ms/step - loss: 3452.1787\n",
      "Epoch 116/200\n",
      "2/2 [==============================] - 0s 8ms/step - loss: 3455.0403\n",
      "Epoch 117/200\n",
      "2/2 [==============================] - 0s 4ms/step - loss: 3453.9856\n",
      "Epoch 118/200\n",
      "2/2 [==============================] - 0s 5ms/step - loss: 3453.5854\n",
      "Epoch 119/200\n",
      "2/2 [==============================] - 0s 6ms/step - loss: 3451.0447\n",
      "Epoch 120/200\n",
      "2/2 [==============================] - 0s 5ms/step - loss: 3455.9167\n",
      "Epoch 121/200\n",
      "2/2 [==============================] - 0s 5ms/step - loss: 3453.2473\n",
      "Epoch 122/200\n",
      "2/2 [==============================] - 0s 4ms/step - loss: 3451.6433\n",
      "Epoch 123/200\n",
      "2/2 [==============================] - 0s 6ms/step - loss: 3449.4893\n",
      "Epoch 124/200\n",
      "2/2 [==============================] - 0s 5ms/step - loss: 3452.1079\n",
      "Epoch 125/200\n",
      "2/2 [==============================] - 0s 7ms/step - loss: 3452.9990\n",
      "Epoch 126/200\n",
      "2/2 [==============================] - 0s 4ms/step - loss: 3451.1973\n",
      "Epoch 127/200\n",
      "2/2 [==============================] - 0s 5ms/step - loss: 3451.3284\n",
      "Epoch 128/200\n",
      "2/2 [==============================] - 0s 4ms/step - loss: 3451.0654\n",
      "Epoch 129/200\n",
      "2/2 [==============================] - 0s 6ms/step - loss: 3454.6462\n",
      "Epoch 130/200\n",
      "2/2 [==============================] - 0s 5ms/step - loss: 3454.3428\n",
      "Epoch 131/200\n",
      "2/2 [==============================] - 0s 6ms/step - loss: 3453.0107\n",
      "Epoch 132/200\n",
      "2/2 [==============================] - 0s 3ms/step - loss: 3449.1233\n",
      "Epoch 133/200\n",
      "2/2 [==============================] - 0s 5ms/step - loss: 3447.1094\n",
      "Epoch 134/200\n",
      "2/2 [==============================] - 0s 6ms/step - loss: 3448.8391\n",
      "Epoch 135/200\n",
      "2/2 [==============================] - 0s 10ms/step - loss: 3449.4492\n",
      "Epoch 136/200\n",
      "2/2 [==============================] - 0s 11ms/step - loss: 3451.9077\n",
      "Epoch 137/200\n",
      "2/2 [==============================] - 0s 28ms/step - loss: 3447.9143\n",
      "Epoch 138/200\n",
      "2/2 [==============================] - 0s 5ms/step - loss: 3449.6064\n",
      "Epoch 139/200\n",
      "2/2 [==============================] - 0s 4ms/step - loss: 3446.6479\n",
      "Epoch 140/200\n",
      "2/2 [==============================] - 0s 12ms/step - loss: 3450.5796\n",
      "Epoch 141/200\n",
      "2/2 [==============================] - 0s 6ms/step - loss: 3449.7539\n",
      "Epoch 142/200\n",
      "2/2 [==============================] - 0s 3ms/step - loss: 3449.2693\n",
      "Epoch 143/200\n",
      "2/2 [==============================] - 0s 5ms/step - loss: 3447.0732\n",
      "Epoch 144/200\n",
      "2/2 [==============================] - 0s 5ms/step - loss: 3446.3677\n",
      "Epoch 145/200\n",
      "2/2 [==============================] - 0s 7ms/step - loss: 3448.7261\n",
      "Epoch 146/200\n",
      "2/2 [==============================] - 0s 9ms/step - loss: 3445.1609\n",
      "Epoch 147/200\n",
      "2/2 [==============================] - 0s 5ms/step - loss: 3446.6143\n",
      "Epoch 148/200\n",
      "2/2 [==============================] - 0s 4ms/step - loss: 3447.5063\n",
      "Epoch 149/200\n",
      "2/2 [==============================] - 0s 3ms/step - loss: 3446.0459\n",
      "Epoch 150/200\n",
      "2/2 [==============================] - 0s 5ms/step - loss: 3445.1221\n",
      "Epoch 151/200\n",
      "2/2 [==============================] - 0s 9ms/step - loss: 3450.7600\n",
      "Epoch 152/200\n",
      "2/2 [==============================] - 0s 5ms/step - loss: 3442.1670\n",
      "Epoch 153/200\n",
      "2/2 [==============================] - 0s 6ms/step - loss: 3447.2214\n",
      "Epoch 154/200\n",
      "2/2 [==============================] - 0s 12ms/step - loss: 3448.2876\n",
      "Epoch 155/200\n",
      "2/2 [==============================] - 0s 5ms/step - loss: 3450.0000\n",
      "Epoch 156/200\n",
      "2/2 [==============================] - 0s 4ms/step - loss: 3445.9751\n",
      "Epoch 157/200\n",
      "2/2 [==============================] - 0s 4ms/step - loss: 3443.9397\n",
      "Epoch 158/200\n",
      "2/2 [==============================] - 0s 6ms/step - loss: 3449.3523\n",
      "Epoch 159/200\n",
      "2/2 [==============================] - 0s 4ms/step - loss: 3448.5154\n",
      "Epoch 160/200\n",
      "2/2 [==============================] - 0s 4ms/step - loss: 3447.5200\n",
      "Epoch 161/200\n",
      "2/2 [==============================] - 0s 5ms/step - loss: 3446.1724\n",
      "Epoch 162/200\n",
      "2/2 [==============================] - 0s 4ms/step - loss: 3444.6863\n",
      "Epoch 163/200\n",
      "2/2 [==============================] - 0s 4ms/step - loss: 3443.6121\n",
      "Epoch 164/200\n",
      "2/2 [==============================] - 0s 5ms/step - loss: 3446.6624\n",
      "Epoch 165/200\n",
      "2/2 [==============================] - 0s 7ms/step - loss: 3446.9048\n",
      "Epoch 166/200\n",
      "2/2 [==============================] - 0s 6ms/step - loss: 3443.7808\n",
      "Epoch 167/200\n",
      "2/2 [==============================] - 0s 4ms/step - loss: 3447.0103\n",
      "Epoch 168/200\n",
      "2/2 [==============================] - 0s 6ms/step - loss: 3451.8503\n",
      "Epoch 169/200\n",
      "2/2 [==============================] - 0s 9ms/step - loss: 3447.4290\n",
      "Epoch 170/200\n",
      "2/2 [==============================] - 0s 3ms/step - loss: 3450.5903\n",
      "Epoch 171/200\n",
      "2/2 [==============================] - 0s 8ms/step - loss: 3446.6331\n",
      "Epoch 172/200\n",
      "2/2 [==============================] - 0s 4ms/step - loss: 3444.8679\n",
      "Epoch 173/200\n",
      "2/2 [==============================] - 0s 3ms/step - loss: 3444.8191\n",
      "Epoch 174/200\n",
      "2/2 [==============================] - 0s 7ms/step - loss: 3443.9592\n",
      "Epoch 175/200\n",
      "2/2 [==============================] - 0s 6ms/step - loss: 3447.7446\n",
      "Epoch 176/200\n",
      "2/2 [==============================] - 0s 7ms/step - loss: 3448.1414\n",
      "Epoch 177/200\n",
      "2/2 [==============================] - 0s 6ms/step - loss: 3444.3228\n",
      "Epoch 178/200\n",
      "2/2 [==============================] - 0s 4ms/step - loss: 3443.3291\n",
      "Epoch 179/200\n",
      "2/2 [==============================] - 0s 4ms/step - loss: 3447.2529\n",
      "Epoch 180/200\n",
      "2/2 [==============================] - 0s 4ms/step - loss: 3447.5740\n",
      "Epoch 181/200\n",
      "2/2 [==============================] - 0s 11ms/step - loss: 3447.1299\n",
      "Epoch 182/200\n",
      "2/2 [==============================] - 0s 3ms/step - loss: 3447.8679\n",
      "Epoch 183/200\n",
      "2/2 [==============================] - 0s 3ms/step - loss: 3447.2900\n",
      "Epoch 184/200\n",
      "2/2 [==============================] - 0s 5ms/step - loss: 3443.3191\n",
      "Epoch 185/200\n",
      "2/2 [==============================] - 0s 4ms/step - loss: 3443.1040\n",
      "Epoch 186/200\n",
      "2/2 [==============================] - 0s 2ms/step - loss: 3447.0281\n",
      "Epoch 187/200\n",
      "2/2 [==============================] - 0s 5ms/step - loss: 3448.7273\n",
      "Epoch 188/200\n",
      "2/2 [==============================] - 0s 11ms/step - loss: 3447.2720\n",
      "Epoch 189/200\n",
      "2/2 [==============================] - 0s 12ms/step - loss: 3446.7886\n",
      "Epoch 190/200\n",
      "2/2 [==============================] - 0s 6ms/step - loss: 3445.0513\n",
      "Epoch 191/200\n",
      "2/2 [==============================] - 0s 3ms/step - loss: 3441.1152\n",
      "Epoch 192/200\n",
      "2/2 [==============================] - 0s 3ms/step - loss: 3449.0227\n",
      "Epoch 193/200\n",
      "2/2 [==============================] - 0s 4ms/step - loss: 3453.1851\n",
      "Epoch 194/200\n",
      "2/2 [==============================] - 0s 9ms/step - loss: 3447.3064\n",
      "Epoch 195/200\n",
      "2/2 [==============================] - 0s 16ms/step - loss: 3446.6394\n",
      "Epoch 196/200\n",
      "2/2 [==============================] - 0s 9ms/step - loss: 3447.2329\n",
      "Epoch 197/200\n"
     ]
    },
    {
     "name": "stdout",
     "output_type": "stream",
     "text": [
      "2/2 [==============================] - 0s 5ms/step - loss: 3446.8779\n",
      "Epoch 198/200\n",
      "2/2 [==============================] - 0s 4ms/step - loss: 3446.6497\n",
      "Epoch 199/200\n",
      "2/2 [==============================] - 0s 6ms/step - loss: 3444.3210\n",
      "Epoch 200/200\n",
      "2/2 [==============================] - 0s 5ms/step - loss: 3448.1841\n"
     ]
    }
   ],
   "source": [
    "tfsf = tfSF.SFilter(n_features=learned_features)\n",
    "tfsf.fit(X, epochs=n_epochs, batchsize=n_samples*2)"
   ]
  },
  {
   "cell_type": "markdown",
   "metadata": {},
   "source": [
    "We plot the loss function to verify that the model converged to a solution."
   ]
  },
  {
   "cell_type": "code",
   "execution_count": 7,
   "metadata": {},
   "outputs": [
    {
     "data": {
      "text/plain": [
       "[<matplotlib.lines.Line2D at 0x7fe8f0504550>]"
      ]
     },
     "execution_count": 7,
     "metadata": {},
     "output_type": "execute_result"
    },
    {
     "data": {
      "image/png": "[encoded data removed]",
      "text/plain": [
       "<Figure size 432x288 with 1 Axes>"
      ]
     },
     "metadata": {
      "needs_background": "light"
     },
     "output_type": "display_data"
    }
   ],
   "source": [
    "plt.title('Loss'); \n",
    "plt.xlabel('Epochs'); \n",
    "plt.ylabel('L1 loss');\n",
    "    \n",
    "plt.plot(tfsf.hist.history['loss'])"
   ]
  },
  {
   "cell_type": "markdown",
   "metadata": {},
   "source": [
    "We compute the mutual information of the learned representations and the different types of labelling."
   ]
  },
  {
   "cell_type": "code",
   "execution_count": 8,
   "metadata": {},
   "outputs": [],
   "source": [
    "Ws = tfsf.weights\n",
    "\n",
    "MI_radial = []; MI_random = []\n",
    "  \n",
    "for W in Ws:\n",
    "    Z = computeZ(X,W)\n",
    "    \n",
    "    MI_radial.append(IT.compute_MI_dd_bin(Z,Y_radial,n_bins=IT_bins))\n",
    "    MI_random.append(IT.compute_MI_dd_bin(Z,Y_random,n_bins=IT_bins))"
   ]
  },
  {
   "cell_type": "markdown",
   "metadata": {},
   "source": [
    "We plot entropy and mutual information."
   ]
  },
  {
   "cell_type": "code",
   "execution_count": 9,
   "metadata": {},
   "outputs": [
    {
     "data": {
      "text/plain": [
       "<matplotlib.legend.Legend at 0x7fe8f026e128>"
      ]
     },
     "execution_count": 9,
     "metadata": {},
     "output_type": "execute_result"
    },
    {
     "data": {
      "image/png": "[encoded data removed]",
      "text/plain": [
       "<Figure size 432x288 with 1 Axes>"
      ]
     },
     "metadata": {
      "needs_background": "light"
     },
     "output_type": "display_data"
    }
   ],
   "source": [
    "mis = [MI_radial, MI_random]\n",
    "titles = ['Radial labelling', 'Random labelling']\n",
    "\n",
    "for i in range(len(mis)):\n",
    "    plt.plot(mis[i],label=titles[i])\n",
    "plt.legend()"
   ]
  },
  {
   "cell_type": "code",
   "execution_count": 13,
   "metadata": {},
   "outputs": [],
   "source": [
    "labelixs_radial = {}\n",
    "labelixs_radial['0'] = (Y_radial==0).squeeze()\n",
    "labelixs_radial['1'] = (Y_radial==1).squeeze()\n",
    "labelixs_radial['2'] = (Y_radial==2).squeeze()\n",
    "\n",
    "labelixs_random = {}\n",
    "labelixs_random['0'] = (Y_random==0).squeeze()\n",
    "labelixs_random['1'] = (Y_random==1).squeeze()\n",
    "labelixs_random['2'] = (Y_random==2).squeeze()"
   ]
  },
  {
   "cell_type": "code",
   "execution_count": 16,
   "metadata": {},
   "outputs": [],
   "source": [
    "Ws = tfsf.weights\n",
    "\n",
    "MI_radial = []; MI_random = []\n",
    "  \n",
    "for W in Ws:\n",
    "    Z = computeZ(X,W)\n",
    "    \n",
    "    _,mi = IT.compute_MI_ld_bin(labelixs_radial,Z,bins=IT_bins)\n",
    "    MI_radial.append(mi)\n",
    "    _,mi = IT.compute_MI_ld_bin(labelixs_random,Z,bins=IT_bins)\n",
    "    MI_random.append(mi)"
   ]
  },
  {
   "cell_type": "code",
   "execution_count": 17,
   "metadata": {},
   "outputs": [
    {
     "data": {
      "text/plain": [
       "<matplotlib.legend.Legend at 0x7fe8a57ec4e0>"
      ]
     },
     "execution_count": 17,
     "metadata": {},
     "output_type": "execute_result"
    },
    {
     "data": {
      "image/png": "[encoded data removed]",
      "text/plain": [
       "<Figure size 432x288 with 1 Axes>"
      ]
     },
     "metadata": {
      "needs_background": "light"
     },
     "output_type": "display_data"
    }
   ],
   "source": [
    "mis = [MI_radial, MI_random]\n",
    "titles = ['Radial labelling', 'Random labelling']\n",
    "\n",
    "for i in range(len(mis)):\n",
    "    plt.plot(mis[i],label=titles[i])\n",
    "plt.legend()"
   ]
  },
  {
   "cell_type": "markdown",
   "metadata": {},
   "source": [
    "## Conclusions\n",
    "\n",
    "- Results on MI seems to hold even with samples in a higher-dimensional space."
   ]
  },
  {
   "cell_type": "markdown",
   "metadata": {},
   "source": [
    "### References\n",
    "\n",
    "[1] Zennaro, F.M. and Chen, K., 2019. Towards Further Understanding of Sparse Filtering via Information Bottleneck. arXiv preprint arXiv:1910.08964."
   ]
  }
 ],
 "metadata": {
  "kernelspec": {
   "display_name": "Python 3",
   "language": "python",
   "name": "python3"
  },
  "language_info": {
   "codemirror_mode": {
    "name": "ipython",
    "version": 3
   },
   "file_extension": ".py",
   "mimetype": "text/x-python",
   "name": "python",
   "nbconvert_exporter": "python",
   "pygments_lexer": "ipython3",
   "version": "3.6.10"
  }
 },
 "nbformat": 4,
 "nbformat_minor": 4
}
