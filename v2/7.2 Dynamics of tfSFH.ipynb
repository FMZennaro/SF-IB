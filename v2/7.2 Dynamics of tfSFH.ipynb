{
 "cells": [
  {
   "cell_type": "markdown",
   "metadata": {},
   "source": [
    "# Analyzing the Dynamisc of tfSFH\n",
    "\n",
    "In this notebook we take a look into the dynamics of tfSFH, that is, SF implemented in *tensor flow* and optimized via *entropy minimization*."
   ]
  },
  {
   "cell_type": "markdown",
   "metadata": {},
   "source": [
    "## Setup"
   ]
  },
  {
   "cell_type": "markdown",
   "metadata": {},
   "source": [
    "We start by importing some libraries:"
   ]
  },
  {
   "cell_type": "code",
   "execution_count": 1,
   "metadata": {},
   "outputs": [],
   "source": [
    "import numpy as np\n",
    "import tensorflow as tf\n",
    "import matplotlib.pyplot as plt\n",
    "from tqdm import tqdm\n",
    "\n",
    "import tfSF, tfSFH\n",
    "import npSF"
   ]
  },
  {
   "cell_type": "markdown",
   "metadata": {},
   "source": [
    "We define the parameters of our simulation:"
   ]
  },
  {
   "cell_type": "code",
   "execution_count": 2,
   "metadata": {},
   "outputs": [],
   "source": [
    "n_simulations = 1\n",
    "\n",
    "original_features = 2\n",
    "learned_features = 2\n",
    "IT_bins = 30\n",
    "sigma2 = 1./32\n",
    "\n",
    "n_samples = 5\n",
    "n_epochs = 100\n",
    "\n",
    "maxX = 5\n",
    "minX = -5   "
   ]
  },
  {
   "cell_type": "markdown",
   "metadata": {},
   "source": [
    "We also define some graphical parameters for plotting"
   ]
  },
  {
   "cell_type": "code",
   "execution_count": 3,
   "metadata": {},
   "outputs": [],
   "source": [
    "from IPython.display import display, clear_output\n",
    "\n",
    "colors = ['r','g','b','c','y']\n",
    "markers = ['*', 'o', '^', 's', 'D']\n",
    "z = range(n_samples)\n",
    "dotsize = 25\n",
    "refreshFrequency = 0.05"
   ]
  },
  {
   "cell_type": "markdown",
   "metadata": {},
   "source": [
    "## Running the simulation\n",
    "\n",
    "We generate some sample data"
   ]
  },
  {
   "cell_type": "code",
   "execution_count": 4,
   "metadata": {},
   "outputs": [],
   "source": [
    "X = (minX-maxX) * np.random.rand(n_samples,original_features) + maxX"
   ]
  },
  {
   "cell_type": "markdown",
   "metadata": {},
   "source": [
    "We instantiate and we train a tfSFH module"
   ]
  },
  {
   "cell_type": "code",
   "execution_count": 5,
   "metadata": {},
   "outputs": [
    {
     "name": "stdout",
     "output_type": "stream",
     "text": [
      "Epoch 1/100\n",
      "1/1 [==============================] - 0s 9ms/step - loss: 3.2589\n",
      "Epoch 2/100\n",
      "1/1 [==============================] - 0s 4ms/step - loss: 3.0018\n",
      "Epoch 3/100\n",
      "1/1 [==============================] - 0s 4ms/step - loss: 2.9322\n",
      "Epoch 4/100\n",
      "1/1 [==============================] - 0s 2ms/step - loss: 2.9538\n",
      "Epoch 5/100\n",
      "1/1 [==============================] - 0s 4ms/step - loss: 2.9733\n",
      "Epoch 6/100\n",
      "1/1 [==============================] - 0s 2ms/step - loss: 2.9773\n",
      "Epoch 7/100\n",
      "1/1 [==============================] - 0s 1ms/step - loss: 2.9723\n",
      "Epoch 8/100\n",
      "1/1 [==============================] - 0s 3ms/step - loss: 2.9639\n",
      "Epoch 9/100\n",
      "1/1 [==============================] - 0s 2ms/step - loss: 2.9551\n",
      "Epoch 10/100\n",
      "1/1 [==============================] - 0s 2ms/step - loss: 2.9475\n",
      "Epoch 11/100\n",
      "1/1 [==============================] - 0s 2ms/step - loss: 2.9418\n",
      "Epoch 12/100\n",
      "1/1 [==============================] - 0s 2ms/step - loss: 2.9379\n",
      "Epoch 13/100\n",
      "1/1 [==============================] - 0s 2ms/step - loss: 2.9356\n",
      "Epoch 14/100\n",
      "1/1 [==============================] - 0s 2ms/step - loss: 2.9345\n",
      "Epoch 15/100\n",
      "1/1 [==============================] - 0s 2ms/step - loss: 2.9344\n",
      "Epoch 16/100\n",
      "1/1 [==============================] - 0s 2ms/step - loss: 2.9348\n",
      "Epoch 17/100\n",
      "1/1 [==============================] - 0s 2ms/step - loss: 2.9356\n",
      "Epoch 18/100\n",
      "1/1 [==============================] - 0s 2ms/step - loss: 2.9364\n",
      "Epoch 19/100\n",
      "1/1 [==============================] - 0s 2ms/step - loss: 2.9371\n",
      "Epoch 20/100\n",
      "1/1 [==============================] - 0s 3ms/step - loss: 2.9376\n",
      "Epoch 21/100\n",
      "1/1 [==============================] - 0s 2ms/step - loss: 2.9378\n",
      "Epoch 22/100\n",
      "1/1 [==============================] - 0s 4ms/step - loss: 2.9379\n",
      "Epoch 23/100\n",
      "1/1 [==============================] - 0s 2ms/step - loss: 2.9377\n",
      "Epoch 24/100\n",
      "1/1 [==============================] - 0s 2ms/step - loss: 2.9374\n",
      "Epoch 25/100\n",
      "1/1 [==============================] - 0s 2ms/step - loss: 2.9369\n",
      "Epoch 26/100\n",
      "1/1 [==============================] - 0s 2ms/step - loss: 2.9364\n",
      "Epoch 27/100\n",
      "1/1 [==============================] - 0s 2ms/step - loss: 2.9359\n",
      "Epoch 28/100\n",
      "1/1 [==============================] - 0s 2ms/step - loss: 2.9355\n",
      "Epoch 29/100\n",
      "1/1 [==============================] - 0s 2ms/step - loss: 2.9351\n",
      "Epoch 30/100\n",
      "1/1 [==============================] - 0s 2ms/step - loss: 2.9349\n",
      "Epoch 31/100\n",
      "1/1 [==============================] - 0s 2ms/step - loss: 2.9347\n",
      "Epoch 32/100\n",
      "1/1 [==============================] - 0s 7ms/step - loss: 2.9346\n",
      "Epoch 33/100\n",
      "1/1 [==============================] - 0s 2ms/step - loss: 2.9346\n",
      "Epoch 34/100\n",
      "1/1 [==============================] - 0s 1ms/step - loss: 2.9346\n",
      "Epoch 35/100\n",
      "1/1 [==============================] - 0s 9ms/step - loss: 2.9347\n",
      "Epoch 36/100\n",
      "1/1 [==============================] - 0s 2ms/step - loss: 2.9348\n",
      "Epoch 37/100\n",
      "1/1 [==============================] - 0s 2ms/step - loss: 2.9349\n",
      "Epoch 38/100\n",
      "1/1 [==============================] - 0s 2ms/step - loss: 2.9350\n",
      "Epoch 39/100\n",
      "1/1 [==============================] - 0s 2ms/step - loss: 2.9350\n",
      "Epoch 40/100\n",
      "1/1 [==============================] - 0s 2ms/step - loss: 2.9351\n",
      "Epoch 41/100\n",
      "1/1 [==============================] - 0s 10ms/step - loss: 2.9351\n",
      "Epoch 42/100\n",
      "1/1 [==============================] - 0s 11ms/step - loss: 2.9350\n",
      "Epoch 43/100\n",
      "1/1 [==============================] - 0s 2ms/step - loss: 2.9350\n",
      "Epoch 44/100\n",
      "1/1 [==============================] - 0s 2ms/step - loss: 2.9349\n",
      "Epoch 45/100\n",
      "1/1 [==============================] - 0s 2ms/step - loss: 2.9348\n",
      "Epoch 46/100\n",
      "1/1 [==============================] - 0s 2ms/step - loss: 2.9348\n",
      "Epoch 47/100\n",
      "1/1 [==============================] - 0s 2ms/step - loss: 2.9347\n",
      "Epoch 48/100\n",
      "1/1 [==============================] - 0s 2ms/step - loss: 2.9347\n",
      "Epoch 49/100\n",
      "1/1 [==============================] - 0s 2ms/step - loss: 2.9346\n",
      "Epoch 50/100\n",
      "1/1 [==============================] - 0s 2ms/step - loss: 2.9346\n",
      "Epoch 51/100\n",
      "1/1 [==============================] - 0s 3ms/step - loss: 2.9346\n",
      "Epoch 52/100\n",
      "1/1 [==============================] - 0s 2ms/step - loss: 2.9346\n",
      "Epoch 53/100\n",
      "1/1 [==============================] - 0s 2ms/step - loss: 2.9346\n",
      "Epoch 54/100\n",
      "1/1 [==============================] - 0s 2ms/step - loss: 2.9346\n",
      "Epoch 55/100\n",
      "1/1 [==============================] - 0s 2ms/step - loss: 2.9346\n",
      "Epoch 56/100\n",
      "1/1 [==============================] - 0s 2ms/step - loss: 2.9346\n",
      "Epoch 57/100\n",
      "1/1 [==============================] - 0s 3ms/step - loss: 2.9347\n",
      "Epoch 58/100\n",
      "1/1 [==============================] - 0s 2ms/step - loss: 2.9347\n",
      "Epoch 59/100\n",
      "1/1 [==============================] - 0s 2ms/step - loss: 2.9347\n",
      "Epoch 60/100\n",
      "1/1 [==============================] - 0s 2ms/step - loss: 2.9347\n",
      "Epoch 61/100\n",
      "1/1 [==============================] - 0s 2ms/step - loss: 2.9346\n",
      "Epoch 62/100\n",
      "1/1 [==============================] - 0s 1ms/step - loss: 2.9346\n",
      "Epoch 63/100\n",
      "1/1 [==============================] - 0s 2ms/step - loss: 2.9346\n",
      "Epoch 64/100\n",
      "1/1 [==============================] - 0s 2ms/step - loss: 2.9346\n",
      "Epoch 65/100\n",
      "1/1 [==============================] - 0s 2ms/step - loss: 2.9346\n",
      "Epoch 66/100\n",
      "1/1 [==============================] - 0s 2ms/step - loss: 2.9346\n",
      "Epoch 67/100\n",
      "1/1 [==============================] - 0s 3ms/step - loss: 2.9346\n",
      "Epoch 68/100\n",
      "1/1 [==============================] - 0s 2ms/step - loss: 2.9346\n",
      "Epoch 69/100\n",
      "1/1 [==============================] - 0s 2ms/step - loss: 2.9346\n",
      "Epoch 70/100\n",
      "1/1 [==============================] - 0s 2ms/step - loss: 2.9346\n",
      "Epoch 71/100\n",
      "1/1 [==============================] - 0s 2ms/step - loss: 2.9346\n",
      "Epoch 72/100\n",
      "1/1 [==============================] - 0s 2ms/step - loss: 2.9346\n",
      "Epoch 73/100\n",
      "1/1 [==============================] - 0s 2ms/step - loss: 2.9346\n",
      "Epoch 74/100\n",
      "1/1 [==============================] - 0s 2ms/step - loss: 2.9346\n",
      "Epoch 75/100\n",
      "1/1 [==============================] - 0s 2ms/step - loss: 2.9346\n",
      "Epoch 76/100\n",
      "1/1 [==============================] - 0s 3ms/step - loss: 2.9346\n",
      "Epoch 77/100\n",
      "1/1 [==============================] - 0s 2ms/step - loss: 2.9346\n",
      "Epoch 78/100\n",
      "1/1 [==============================] - 0s 13ms/step - loss: 2.9346\n",
      "Epoch 79/100\n",
      "1/1 [==============================] - 0s 3ms/step - loss: 2.9346\n",
      "Epoch 80/100\n",
      "1/1 [==============================] - 0s 6ms/step - loss: 2.9346\n",
      "Epoch 81/100\n",
      "1/1 [==============================] - 0s 5ms/step - loss: 2.9346\n",
      "Epoch 82/100\n",
      "1/1 [==============================] - 0s 7ms/step - loss: 2.9346\n",
      "Epoch 83/100\n",
      "1/1 [==============================] - 0s 2ms/step - loss: 2.9346\n",
      "Epoch 84/100\n",
      "1/1 [==============================] - 0s 2ms/step - loss: 2.9346\n",
      "Epoch 85/100\n",
      "1/1 [==============================] - 0s 2ms/step - loss: 2.9345\n",
      "Epoch 86/100\n",
      "1/1 [==============================] - 0s 2ms/step - loss: 2.9345\n",
      "Epoch 87/100\n",
      "1/1 [==============================] - 0s 1ms/step - loss: 2.9345\n",
      "Epoch 88/100\n",
      "1/1 [==============================] - 0s 2ms/step - loss: 2.9345\n",
      "Epoch 89/100\n",
      "1/1 [==============================] - 0s 2ms/step - loss: 2.9345\n",
      "Epoch 90/100\n",
      "1/1 [==============================] - 0s 1ms/step - loss: 2.9345\n",
      "Epoch 91/100\n",
      "1/1 [==============================] - 0s 1ms/step - loss: 2.9345\n",
      "Epoch 92/100\n",
      "1/1 [==============================] - 0s 3ms/step - loss: 2.9345\n",
      "Epoch 93/100\n",
      "1/1 [==============================] - 0s 2ms/step - loss: 2.9345\n",
      "Epoch 94/100\n",
      "1/1 [==============================] - 0s 1ms/step - loss: 2.9345\n",
      "Epoch 95/100\n",
      "1/1 [==============================] - 0s 2ms/step - loss: 2.9345\n",
      "Epoch 96/100\n",
      "1/1 [==============================] - 0s 15ms/step - loss: 2.9345\n",
      "Epoch 97/100\n",
      "1/1 [==============================] - 0s 4ms/step - loss: 2.9345\n",
      "Epoch 98/100\n",
      "1/1 [==============================] - 0s 2ms/step - loss: 2.9345\n",
      "Epoch 99/100\n",
      "1/1 [==============================] - 0s 1ms/step - loss: 2.9345\n",
      "Epoch 100/100\n",
      "1/1 [==============================] - 0s 18ms/step - loss: 2.9345\n"
     ]
    }
   ],
   "source": [
    "sf = tfSFH.SFilterH(n_features=learned_features, bins=IT_bins, bandwidth=sigma2)\n",
    "sf.fit(X,epochs=n_epochs)"
   ]
  },
  {
   "cell_type": "markdown",
   "metadata": {},
   "source": [
    "## Dynamics of the learned representations\n",
    "\n",
    "We now want observe how the learned representations change during the learning process.\n",
    "\n",
    "To do this, we extract the weights we learned at each iteration."
   ]
  },
  {
   "cell_type": "code",
   "execution_count": 6,
   "metadata": {},
   "outputs": [],
   "source": [
    "Ws = sf.weights"
   ]
  },
  {
   "cell_type": "markdown",
   "metadata": {},
   "source": [
    "We then define a helper function to compute the tfSFH learned representation as a function of the weights. Notice that here, for simplicity, we call the steps of SF implemented using *numpy*; since no learning is now required, using *numpy* saves us the overhead of instantiating a *tensorflow* model."
   ]
  },
  {
   "cell_type": "code",
   "execution_count": 7,
   "metadata": {},
   "outputs": [],
   "source": [
    "def computeZ(X,W):\n",
    "    WX = np.dot(W,X.T)\n",
    "    F = npSF.softabsolute(WX)\n",
    "    Fsquish, _ = npSF.l2row(F)\n",
    "    Fhat, _ = npSF.l2row(Fsquish.T)\n",
    "    Z = Fhat.T\n",
    "    return Z"
   ]
  },
  {
   "cell_type": "markdown",
   "metadata": {},
   "source": [
    "Finally we plot the learned representations epoch by epoch."
   ]
  },
  {
   "cell_type": "code",
   "execution_count": 8,
   "metadata": {},
   "outputs": [
    {
     "data": {
      "image/png": "[encoded data removed]",
      "text/plain": [
       "<Figure size 432x288 with 1 Axes>"
      ]
     },
     "metadata": {},
     "output_type": "display_data"
    }
   ],
   "source": [
    "fig = plt.figure()\n",
    "ax = fig.add_subplot(1, 1, 1) \n",
    "\n",
    "for i in range(n_epochs):\n",
    "    \n",
    "    fig.suptitle(r\"SF: $\\mathbb{R}^{2}\\rightarrow\\mathbb{R}^{2}$  ---  iteration: \"+ str(i))\n",
    "    Z = computeZ(X,Ws[i])\n",
    "    \n",
    "    for x,y,c,m in zip(Z[0],Z[1],colors,markers):\n",
    "        ax.scatter(x,y,s=dotsize,c=c,marker=m)\n",
    "    ax.axhline(0,color='black')\n",
    "    ax.axvline(0,color='black')\n",
    "    ax.grid(True)\n",
    "    ax.text(0.5, -0.18,'(e)', horizontalalignment='center', verticalalignment='center',transform=ax.transAxes, fontsize=14)\n",
    "        \n",
    "    display(fig)\n",
    "    \n",
    "    clear_output(wait = True)\n",
    "    plt.pause(refreshFrequency)\n",
    "    ax.cla()"
   ]
  },
  {
   "cell_type": "markdown",
   "metadata": {},
   "source": [
    "These results already point out a substantially different behaviour of tfSF and tfSFH. Entropy minimization, indeed, stalls the learning very soon by clustering together all the data points onto a single point."
   ]
  },
  {
   "cell_type": "markdown",
   "metadata": {},
   "source": [
    "## Conclusions\n",
    "\n",
    "- tfSFH behaves differently from tfSF"
   ]
  },
  {
   "cell_type": "markdown",
   "metadata": {},
   "source": [
    "### References\n",
    "[1] Zennaro, F.M. and Chen, K., 2018. Towards understanding sparse filtering: A theoretical perspective. Neural Networks, 98, pp.154-177."
   ]
  }
 ],
 "metadata": {
  "kernelspec": {
   "display_name": "Python 3",
   "language": "python",
   "name": "python3"
  },
  "language_info": {
   "codemirror_mode": {
    "name": "ipython",
    "version": 3
   },
   "file_extension": ".py",
   "mimetype": "text/x-python",
   "name": "python",
   "nbconvert_exporter": "python",
   "pygments_lexer": "ipython3",
   "version": "3.6.10"
  }
 },
 "nbformat": 4,
 "nbformat_minor": 4
}
