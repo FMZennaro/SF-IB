{
 "cells": [
  {
   "cell_type": "markdown",
   "metadata": {},
   "source": [
    "# Comparing npSF and tfSF via IB (Simulation 3)\n",
    "\n",
    "In this notebook we compare npSF and tfSF using the IB, reproducing some of the experiments in [1]."
   ]
  },
  {
   "cell_type": "markdown",
   "metadata": {},
   "source": [
    "## Setup\n",
    "\n",
    "We start by importing some libraries:"
   ]
  },
  {
   "cell_type": "code",
   "execution_count": 1,
   "metadata": {},
   "outputs": [],
   "source": [
    "import numpy as np\n",
    "import joblib\n",
    "import sklearn.datasets as ds\n",
    "import scipy.stats as stats\n",
    "import matplotlib.pyplot as plt\n",
    "from tqdm import tqdm\n",
    "from scipy.stats import linregress\n",
    "\n",
    "import tfSF\n",
    "import npSF\n",
    "\n",
    "import data.data_creation as D\n",
    "import IT"
   ]
  },
  {
   "cell_type": "markdown",
   "metadata": {},
   "source": [
    "We define the parameters of our simulation:"
   ]
  },
  {
   "cell_type": "code",
   "execution_count": 2,
   "metadata": {},
   "outputs": [],
   "source": [
    "learned_features = 8\n",
    "n_epochs = 200\n",
    "\n",
    "IT_bins=30"
   ]
  },
  {
   "cell_type": "markdown",
   "metadata": {},
   "source": [
    "We define a couple of helper functions: a simple linear regression function and a helper function to compute the tfSF learned representation as a function of the weights. Notice that here, for simplicity, we call the steps of SF implemented using *numpy*; since no learning is now required, using *numpy* saves us the overhead of instantiating a *tensorflow* model."
   ]
  },
  {
   "cell_type": "code",
   "execution_count": 3,
   "metadata": {},
   "outputs": [],
   "source": [
    "def linreg(x,y):\n",
    "    a, b, _, _, _ = stats.linregress(x,y)\n",
    "    return a*x+b\n",
    "    \n",
    "\n",
    "def computeZ(X,W):\n",
    "    WX = np.dot(W,X.T)\n",
    "    F = npSF.softabsolute(WX)\n",
    "    Fsquish, _ = npSF.l2row(F)\n",
    "    Fhat, _ = npSF.l2row(Fsquish.T)\n",
    "    Z = Fhat\n",
    "    return Z"
   ]
  },
  {
   "cell_type": "markdown",
   "metadata": {},
   "source": [
    "## Simulation 3 from [1]\n",
    "\n",
    "We now reproduce the results for *Simulation 3* in [1]. We generate random data."
   ]
  },
  {
   "cell_type": "code",
   "execution_count": 4,
   "metadata": {},
   "outputs": [],
   "source": [
    "data = D.get_samples_multivariate_gaussians_ND(n_samples_train=900, \n",
    "                                            n_samples_test=100, \n",
    "                                            mu = stats.uniform.rvs(loc=-5,scale=10,size=4), \n",
    "                                            sigma = ds.make_spd_matrix(4))"
   ]
  },
  {
   "cell_type": "markdown",
   "metadata": {},
   "source": [
    "We train the tfSF module."
   ]
  },
  {
   "cell_type": "code",
   "execution_count": 5,
   "metadata": {},
   "outputs": [
    {
     "name": "stdout",
     "output_type": "stream",
     "text": [
      "Epoch 1/200\n",
      "1/1 [==============================] - 0s 2ms/step - loss: 2347.5791\n",
      "Epoch 2/200\n",
      "1/1 [==============================] - 0s 2ms/step - loss: 2327.5938\n",
      "Epoch 3/200\n",
      "1/1 [==============================] - 0s 988us/step - loss: 2273.2124\n",
      "Epoch 4/200\n",
      "1/1 [==============================] - 0s 1ms/step - loss: 2254.1938\n",
      "Epoch 5/200\n",
      "1/1 [==============================] - 0s 957us/step - loss: 2253.8953\n",
      "Epoch 6/200\n",
      "1/1 [==============================] - 0s 1ms/step - loss: 2242.0471\n",
      "Epoch 7/200\n",
      "1/1 [==============================] - 0s 1ms/step - loss: 2227.2185\n",
      "Epoch 8/200\n",
      "1/1 [==============================] - 0s 1ms/step - loss: 2231.4146\n",
      "Epoch 9/200\n",
      "1/1 [==============================] - 0s 1ms/step - loss: 2221.5681\n",
      "Epoch 10/200\n",
      "1/1 [==============================] - 0s 2ms/step - loss: 2228.9004\n",
      "Epoch 11/200\n",
      "1/1 [==============================] - 0s 2ms/step - loss: 2226.9644\n",
      "Epoch 12/200\n",
      "1/1 [==============================] - 0s 2ms/step - loss: 2220.3069\n",
      "Epoch 13/200\n",
      "1/1 [==============================] - 0s 2ms/step - loss: 2217.9272\n",
      "Epoch 14/200\n",
      "1/1 [==============================] - 0s 2ms/step - loss: 2216.9541\n",
      "Epoch 15/200\n",
      "1/1 [==============================] - 0s 2ms/step - loss: 2216.6338\n",
      "Epoch 16/200\n",
      "1/1 [==============================] - 0s 2ms/step - loss: 2214.8760\n",
      "Epoch 17/200\n",
      "1/1 [==============================] - 0s 2ms/step - loss: 2213.6060\n",
      "Epoch 18/200\n",
      "1/1 [==============================] - 0s 2ms/step - loss: 2212.7085\n",
      "Epoch 19/200\n",
      "1/1 [==============================] - 0s 2ms/step - loss: 2212.2061\n",
      "Epoch 20/200\n",
      "1/1 [==============================] - 0s 2ms/step - loss: 2212.4375\n",
      "Epoch 21/200\n",
      "1/1 [==============================] - 0s 3ms/step - loss: 2211.9177\n",
      "Epoch 22/200\n",
      "1/1 [==============================] - 0s 2ms/step - loss: 2211.5703\n",
      "Epoch 23/200\n",
      "1/1 [==============================] - 0s 2ms/step - loss: 2210.6304\n",
      "Epoch 24/200\n",
      "1/1 [==============================] - 0s 3ms/step - loss: 2210.6877\n",
      "Epoch 25/200\n",
      "1/1 [==============================] - 0s 2ms/step - loss: 2209.5991\n",
      "Epoch 26/200\n",
      "1/1 [==============================] - 0s 3ms/step - loss: 2209.0508\n",
      "Epoch 27/200\n",
      "1/1 [==============================] - 0s 4ms/step - loss: 2207.9624\n",
      "Epoch 28/200\n",
      "1/1 [==============================] - 0s 3ms/step - loss: 2207.8008\n",
      "Epoch 29/200\n",
      "1/1 [==============================] - 0s 2ms/step - loss: 2208.4966\n",
      "Epoch 30/200\n",
      "1/1 [==============================] - 0s 4ms/step - loss: 2208.8335\n",
      "Epoch 31/200\n",
      "1/1 [==============================] - 0s 4ms/step - loss: 2207.9839\n",
      "Epoch 32/200\n",
      "1/1 [==============================] - 0s 3ms/step - loss: 2207.1094\n",
      "Epoch 33/200\n",
      "1/1 [==============================] - 0s 3ms/step - loss: 2207.1326\n",
      "Epoch 34/200\n",
      "1/1 [==============================] - 0s 3ms/step - loss: 2206.9478\n",
      "Epoch 35/200\n",
      "1/1 [==============================] - 0s 6ms/step - loss: 2206.0645\n",
      "Epoch 36/200\n",
      "1/1 [==============================] - 0s 4ms/step - loss: 2205.4229\n",
      "Epoch 37/200\n",
      "1/1 [==============================] - ETA: 0s - loss: 2205.73 - 0s 6ms/step - loss: 2205.7307\n",
      "Epoch 38/200\n",
      "1/1 [==============================] - 0s 3ms/step - loss: 2204.6196\n",
      "Epoch 39/200\n",
      "1/1 [==============================] - 0s 6ms/step - loss: 2204.3486\n",
      "Epoch 40/200\n",
      "1/1 [==============================] - 0s 5ms/step - loss: 2203.5776\n",
      "Epoch 41/200\n",
      "1/1 [==============================] - 0s 4ms/step - loss: 2203.2065\n",
      "Epoch 42/200\n",
      "1/1 [==============================] - 0s 4ms/step - loss: 2202.4990\n",
      "Epoch 43/200\n",
      "1/1 [==============================] - 0s 4ms/step - loss: 2202.1318\n",
      "Epoch 44/200\n",
      "1/1 [==============================] - 0s 3ms/step - loss: 2201.3979\n",
      "Epoch 45/200\n",
      "1/1 [==============================] - 0s 3ms/step - loss: 2200.8413\n",
      "Epoch 46/200\n",
      "1/1 [==============================] - 0s 4ms/step - loss: 2200.0144\n",
      "Epoch 47/200\n",
      "1/1 [==============================] - 0s 4ms/step - loss: 2199.2949\n",
      "Epoch 48/200\n",
      "1/1 [==============================] - 0s 5ms/step - loss: 2198.3955\n",
      "Epoch 49/200\n",
      "1/1 [==============================] - 0s 4ms/step - loss: 2197.7197\n",
      "Epoch 50/200\n",
      "1/1 [==============================] - 0s 6ms/step - loss: 2196.9585\n",
      "Epoch 51/200\n",
      "1/1 [==============================] - 0s 4ms/step - loss: 2195.3542\n",
      "Epoch 52/200\n",
      "1/1 [==============================] - 0s 7ms/step - loss: 2194.0039\n",
      "Epoch 53/200\n",
      "1/1 [==============================] - 0s 8ms/step - loss: 2192.1448\n",
      "Epoch 54/200\n",
      "1/1 [==============================] - 0s 3ms/step - loss: 2188.7375\n",
      "Epoch 55/200\n",
      "1/1 [==============================] - 0s 4ms/step - loss: 2180.6121\n",
      "Epoch 56/200\n",
      "1/1 [==============================] - 0s 3ms/step - loss: 2183.3333\n",
      "Epoch 57/200\n",
      "1/1 [==============================] - 0s 6ms/step - loss: 2190.1912\n",
      "Epoch 58/200\n",
      "1/1 [==============================] - ETA: 0s - loss: 2181.68 - 0s 4ms/step - loss: 2181.6885\n",
      "Epoch 59/200\n",
      "1/1 [==============================] - 0s 3ms/step - loss: 2187.2427\n",
      "Epoch 60/200\n",
      "1/1 [==============================] - 0s 7ms/step - loss: 2186.9951\n",
      "Epoch 61/200\n",
      "1/1 [==============================] - 0s 3ms/step - loss: 2181.2769\n",
      "Epoch 62/200\n",
      "1/1 [==============================] - 0s 4ms/step - loss: 2179.5894\n",
      "Epoch 63/200\n",
      "1/1 [==============================] - 0s 12ms/step - loss: 2180.9902\n",
      "Epoch 64/200\n",
      "1/1 [==============================] - 0s 1ms/step - loss: 2175.8896\n",
      "Epoch 65/200\n",
      "1/1 [==============================] - 0s 11ms/step - loss: 2169.8638\n",
      "Epoch 66/200\n",
      "1/1 [==============================] - 0s 10ms/step - loss: 2171.6816\n",
      "Epoch 67/200\n",
      "1/1 [==============================] - 0s 14ms/step - loss: 2166.4937\n",
      "Epoch 68/200\n",
      "1/1 [==============================] - 0s 10ms/step - loss: 2164.5957\n",
      "Epoch 69/200\n",
      "1/1 [==============================] - 0s 11ms/step - loss: 2166.9268\n",
      "Epoch 70/200\n",
      "1/1 [==============================] - 0s 11ms/step - loss: 2161.0732\n",
      "Epoch 71/200\n",
      "1/1 [==============================] - 0s 4ms/step - loss: 2159.8721\n",
      "Epoch 72/200\n",
      "1/1 [==============================] - 0s 6ms/step - loss: 2160.6699\n",
      "Epoch 73/200\n",
      "1/1 [==============================] - 0s 4ms/step - loss: 2158.6943\n",
      "Epoch 74/200\n",
      "1/1 [==============================] - 0s 7ms/step - loss: 2154.1445\n",
      "Epoch 75/200\n",
      "1/1 [==============================] - 0s 6ms/step - loss: 2156.7427\n",
      "Epoch 76/200\n",
      "1/1 [==============================] - 0s 6ms/step - loss: 2155.1802\n",
      "Epoch 77/200\n",
      "1/1 [==============================] - 0s 7ms/step - loss: 2155.0103\n",
      "Epoch 78/200\n",
      "1/1 [==============================] - 0s 5ms/step - loss: 2154.5996\n",
      "Epoch 79/200\n",
      "1/1 [==============================] - 0s 4ms/step - loss: 2157.7686\n",
      "Epoch 80/200\n",
      "1/1 [==============================] - 0s 4ms/step - loss: 2158.8042\n",
      "Epoch 81/200\n",
      "1/1 [==============================] - 0s 5ms/step - loss: 2158.3977\n",
      "Epoch 82/200\n",
      "1/1 [==============================] - 0s 6ms/step - loss: 2155.9517\n",
      "Epoch 83/200\n",
      "1/1 [==============================] - 0s 4ms/step - loss: 2153.2700\n",
      "Epoch 84/200\n",
      "1/1 [==============================] - 0s 5ms/step - loss: 2155.3911\n",
      "Epoch 85/200\n",
      "1/1 [==============================] - 0s 4ms/step - loss: 2151.2007\n",
      "Epoch 86/200\n",
      "1/1 [==============================] - 0s 3ms/step - loss: 2149.7305\n",
      "Epoch 87/200\n",
      "1/1 [==============================] - 0s 5ms/step - loss: 2147.5562\n",
      "Epoch 88/200\n",
      "1/1 [==============================] - 0s 6ms/step - loss: 2153.8306\n",
      "Epoch 89/200\n",
      "1/1 [==============================] - 0s 6ms/step - loss: 2151.5518\n",
      "Epoch 90/200\n",
      "1/1 [==============================] - 0s 4ms/step - loss: 2143.9019\n",
      "Epoch 91/200\n",
      "1/1 [==============================] - 0s 4ms/step - loss: 2162.0273\n",
      "Epoch 92/200\n",
      "1/1 [==============================] - 0s 4ms/step - loss: 2140.7451\n",
      "Epoch 93/200\n",
      "1/1 [==============================] - 0s 7ms/step - loss: 2144.6060\n",
      "Epoch 94/200\n",
      "1/1 [==============================] - 0s 4ms/step - loss: 2152.8127\n",
      "Epoch 95/200\n",
      "1/1 [==============================] - 0s 2ms/step - loss: 2148.3955\n",
      "Epoch 96/200\n",
      "1/1 [==============================] - 0s 1ms/step - loss: 2147.0498\n",
      "Epoch 97/200\n",
      "1/1 [==============================] - 0s 4ms/step - loss: 2145.3667\n",
      "Epoch 98/200\n",
      "1/1 [==============================] - 0s 3ms/step - loss: 2160.4697\n",
      "Epoch 99/200\n",
      "1/1 [==============================] - 0s 3ms/step - loss: 2149.4204\n",
      "Epoch 100/200\n"
     ]
    },
    {
     "name": "stdout",
     "output_type": "stream",
     "text": [
      "1/1 [==============================] - 0s 3ms/step - loss: 2148.5508\n",
      "Epoch 101/200\n",
      "1/1 [==============================] - 0s 5ms/step - loss: 2145.0532\n",
      "Epoch 102/200\n",
      "1/1 [==============================] - 0s 3ms/step - loss: 2150.9619\n",
      "Epoch 103/200\n",
      "1/1 [==============================] - 0s 3ms/step - loss: 2155.4644\n",
      "Epoch 104/200\n",
      "1/1 [==============================] - 0s 3ms/step - loss: 2153.4414\n",
      "Epoch 105/200\n",
      "1/1 [==============================] - 0s 5ms/step - loss: 2146.1235\n",
      "Epoch 106/200\n",
      "1/1 [==============================] - 0s 3ms/step - loss: 2143.4856\n",
      "Epoch 107/200\n",
      "1/1 [==============================] - 0s 1ms/step - loss: 2148.6123\n",
      "Epoch 108/200\n",
      "1/1 [==============================] - 0s 1ms/step - loss: 2146.7715\n",
      "Epoch 109/200\n",
      "1/1 [==============================] - 0s 3ms/step - loss: 2146.1963\n",
      "Epoch 110/200\n",
      "1/1 [==============================] - 0s 3ms/step - loss: 2139.3979\n",
      "Epoch 111/200\n",
      "1/1 [==============================] - 0s 2ms/step - loss: 2144.3447\n",
      "Epoch 112/200\n",
      "1/1 [==============================] - 0s 3ms/step - loss: 2141.8923\n",
      "Epoch 113/200\n",
      "1/1 [==============================] - 0s 2ms/step - loss: 2144.2695\n",
      "Epoch 114/200\n",
      "1/1 [==============================] - 0s 1ms/step - loss: 2139.2563\n",
      "Epoch 115/200\n",
      "1/1 [==============================] - 0s 2ms/step - loss: 2145.2407\n",
      "Epoch 116/200\n",
      "1/1 [==============================] - 0s 2ms/step - loss: 2137.7490\n",
      "Epoch 117/200\n",
      "1/1 [==============================] - 0s 2ms/step - loss: 2141.6663\n",
      "Epoch 118/200\n",
      "1/1 [==============================] - 0s 1ms/step - loss: 2141.8647\n",
      "Epoch 119/200\n",
      "1/1 [==============================] - 0s 1ms/step - loss: 2134.4946\n",
      "Epoch 120/200\n",
      "1/1 [==============================] - 0s 1ms/step - loss: 2141.2891\n",
      "Epoch 121/200\n",
      "1/1 [==============================] - 0s 1ms/step - loss: 2134.5078\n",
      "Epoch 122/200\n",
      "1/1 [==============================] - 0s 1ms/step - loss: 2138.1953\n",
      "Epoch 123/200\n",
      "1/1 [==============================] - 0s 1ms/step - loss: 2135.9241\n",
      "Epoch 124/200\n",
      "1/1 [==============================] - 0s 1ms/step - loss: 2134.3696\n",
      "Epoch 125/200\n",
      "1/1 [==============================] - 0s 1ms/step - loss: 2134.0000\n",
      "Epoch 126/200\n",
      "1/1 [==============================] - 0s 1ms/step - loss: 2133.8176\n",
      "Epoch 127/200\n",
      "1/1 [==============================] - 0s 2ms/step - loss: 2133.4512\n",
      "Epoch 128/200\n",
      "1/1 [==============================] - 0s 1ms/step - loss: 2133.2595\n",
      "Epoch 129/200\n",
      "1/1 [==============================] - 0s 2ms/step - loss: 2134.3965\n",
      "Epoch 130/200\n",
      "1/1 [==============================] - 0s 1ms/step - loss: 2133.1611\n",
      "Epoch 131/200\n",
      "1/1 [==============================] - 0s 2ms/step - loss: 2133.1670\n",
      "Epoch 132/200\n",
      "1/1 [==============================] - 0s 2ms/step - loss: 2133.6140\n",
      "Epoch 133/200\n",
      "1/1 [==============================] - 0s 1ms/step - loss: 2131.9976\n",
      "Epoch 134/200\n",
      "1/1 [==============================] - 0s 2ms/step - loss: 2133.8994\n",
      "Epoch 135/200\n",
      "1/1 [==============================] - 0s 1ms/step - loss: 2131.7056\n",
      "Epoch 136/200\n",
      "1/1 [==============================] - 0s 1ms/step - loss: 2130.6785\n",
      "Epoch 137/200\n",
      "1/1 [==============================] - 0s 1ms/step - loss: 2133.3506\n",
      "Epoch 138/200\n",
      "1/1 [==============================] - 0s 1ms/step - loss: 2131.2749\n",
      "Epoch 139/200\n",
      "1/1 [==============================] - 0s 1ms/step - loss: 2132.0967\n",
      "Epoch 140/200\n",
      "1/1 [==============================] - 0s 1ms/step - loss: 2133.6211\n",
      "Epoch 141/200\n",
      "1/1 [==============================] - 0s 2ms/step - loss: 2131.5149\n",
      "Epoch 142/200\n",
      "1/1 [==============================] - 0s 1ms/step - loss: 2130.2632\n",
      "Epoch 143/200\n",
      "1/1 [==============================] - 0s 2ms/step - loss: 2127.8442\n",
      "Epoch 144/200\n",
      "1/1 [==============================] - 0s 2ms/step - loss: 2132.3516\n",
      "Epoch 145/200\n",
      "1/1 [==============================] - 0s 2ms/step - loss: 2128.9138\n",
      "Epoch 146/200\n",
      "1/1 [==============================] - 0s 2ms/step - loss: 2128.1482\n",
      "Epoch 147/200\n",
      "1/1 [==============================] - 0s 2ms/step - loss: 2129.6709\n",
      "Epoch 148/200\n",
      "1/1 [==============================] - 0s 2ms/step - loss: 2130.2490\n",
      "Epoch 149/200\n",
      "1/1 [==============================] - 0s 3ms/step - loss: 2131.1047\n",
      "Epoch 150/200\n",
      "1/1 [==============================] - 0s 3ms/step - loss: 2133.8208\n",
      "Epoch 151/200\n",
      "1/1 [==============================] - 0s 5ms/step - loss: 2130.2080\n",
      "Epoch 152/200\n",
      "1/1 [==============================] - 0s 3ms/step - loss: 2133.5181\n",
      "Epoch 153/200\n",
      "1/1 [==============================] - 0s 3ms/step - loss: 2130.9478\n",
      "Epoch 154/200\n",
      "1/1 [==============================] - 0s 2ms/step - loss: 2129.2759\n",
      "Epoch 155/200\n",
      "1/1 [==============================] - 0s 5ms/step - loss: 2133.4526\n",
      "Epoch 156/200\n",
      "1/1 [==============================] - 0s 1ms/step - loss: 2126.8350\n",
      "Epoch 157/200\n",
      "1/1 [==============================] - 0s 3ms/step - loss: 2129.2783\n",
      "Epoch 158/200\n",
      "1/1 [==============================] - 0s 4ms/step - loss: 2131.7009\n",
      "Epoch 159/200\n",
      "1/1 [==============================] - 0s 3ms/step - loss: 2130.1758\n",
      "Epoch 160/200\n",
      "1/1 [==============================] - 0s 2ms/step - loss: 2131.3604\n",
      "Epoch 161/200\n",
      "1/1 [==============================] - 0s 3ms/step - loss: 2131.1174\n",
      "Epoch 162/200\n",
      "1/1 [==============================] - 0s 4ms/step - loss: 2133.6228\n",
      "Epoch 163/200\n",
      "1/1 [==============================] - 0s 3ms/step - loss: 2129.8000\n",
      "Epoch 164/200\n",
      "1/1 [==============================] - 0s 2ms/step - loss: 2129.0239\n",
      "Epoch 165/200\n",
      "1/1 [==============================] - 0s 1ms/step - loss: 2129.7676\n",
      "Epoch 166/200\n",
      "1/1 [==============================] - 0s 2ms/step - loss: 2127.6089\n",
      "Epoch 167/200\n",
      "1/1 [==============================] - 0s 2ms/step - loss: 2127.7539\n",
      "Epoch 168/200\n",
      "1/1 [==============================] - 0s 2ms/step - loss: 2127.5334\n",
      "Epoch 169/200\n",
      "1/1 [==============================] - 0s 2ms/step - loss: 2125.2148\n",
      "Epoch 170/200\n",
      "1/1 [==============================] - 0s 2ms/step - loss: 2127.7063\n",
      "Epoch 171/200\n",
      "1/1 [==============================] - 0s 4ms/step - loss: 2126.3188\n",
      "Epoch 172/200\n",
      "1/1 [==============================] - 0s 5ms/step - loss: 2124.4189\n",
      "Epoch 173/200\n",
      "1/1 [==============================] - 0s 5ms/step - loss: 2125.8523\n",
      "Epoch 174/200\n",
      "1/1 [==============================] - 0s 2ms/step - loss: 2124.7349\n",
      "Epoch 175/200\n",
      "1/1 [==============================] - 0s 1ms/step - loss: 2124.5964\n",
      "Epoch 176/200\n",
      "1/1 [==============================] - 0s 1ms/step - loss: 2125.1228\n",
      "Epoch 177/200\n",
      "1/1 [==============================] - 0s 1ms/step - loss: 2124.2158\n",
      "Epoch 178/200\n",
      "1/1 [==============================] - 0s 2ms/step - loss: 2126.2524\n",
      "Epoch 179/200\n",
      "1/1 [==============================] - 0s 1ms/step - loss: 2124.1682\n",
      "Epoch 180/200\n",
      "1/1 [==============================] - ETA: 0s - loss: 2124.96 - 0s 1ms/step - loss: 2124.9639\n",
      "Epoch 181/200\n",
      "1/1 [==============================] - 0s 3ms/step - loss: 2124.2427\n",
      "Epoch 182/200\n",
      "1/1 [==============================] - 0s 1ms/step - loss: 2123.8386\n",
      "Epoch 183/200\n",
      "1/1 [==============================] - 0s 2ms/step - loss: 2123.9360\n",
      "Epoch 184/200\n",
      "1/1 [==============================] - 0s 3ms/step - loss: 2124.6399\n",
      "Epoch 185/200\n",
      "1/1 [==============================] - ETA: 0s - loss: 2123.68 - 0s 3ms/step - loss: 2123.6812\n",
      "Epoch 186/200\n",
      "1/1 [==============================] - 0s 3ms/step - loss: 2124.9539\n",
      "Epoch 187/200\n",
      "1/1 [==============================] - 0s 3ms/step - loss: 2124.2500\n",
      "Epoch 188/200\n",
      "1/1 [==============================] - 0s 3ms/step - loss: 2125.0562\n",
      "Epoch 189/200\n",
      "1/1 [==============================] - 0s 3ms/step - loss: 2123.3096\n",
      "Epoch 190/200\n",
      "1/1 [==============================] - 0s 3ms/step - loss: 2124.5898\n",
      "Epoch 191/200\n",
      "1/1 [==============================] - 0s 3ms/step - loss: 2124.0522\n",
      "Epoch 192/200\n",
      "1/1 [==============================] - 0s 3ms/step - loss: 2123.9272\n",
      "Epoch 193/200\n",
      "1/1 [==============================] - 0s 3ms/step - loss: 2123.5632\n",
      "Epoch 194/200\n",
      "1/1 [==============================] - 0s 5ms/step - loss: 2123.9258\n",
      "Epoch 195/200\n",
      "1/1 [==============================] - 0s 3ms/step - loss: 2125.2490\n",
      "Epoch 196/200\n",
      "1/1 [==============================] - 0s 3ms/step - loss: 2123.2300\n",
      "Epoch 197/200\n",
      "1/1 [==============================] - 0s 4ms/step - loss: 2123.9231\n",
      "Epoch 198/200\n"
     ]
    },
    {
     "name": "stdout",
     "output_type": "stream",
     "text": [
      "1/1 [==============================] - 0s 3ms/step - loss: 2123.4980\n",
      "Epoch 199/200\n",
      "1/1 [==============================] - 0s 3ms/step - loss: 2123.4871\n",
      "Epoch 200/200\n",
      "1/1 [==============================] - 0s 3ms/step - loss: 2122.5674\n"
     ]
    }
   ],
   "source": [
    "tfsf = tfSF.SFilter(n_features=learned_features)\n",
    "tfsf.fit(data['X_tr'], epochs=n_epochs, batchsize=900)"
   ]
  },
  {
   "cell_type": "markdown",
   "metadata": {},
   "source": [
    "We train the npSF module."
   ]
  },
  {
   "cell_type": "code",
   "execution_count": 6,
   "metadata": {},
   "outputs": [],
   "source": [
    "npsf = npSF.SFilter()\n",
    "npsf.setFeatures(learned_features)\n",
    "npsf.setTrainData(data['X_tr'])\n",
    "npsf.initializeWeights()\n",
    "npsf.initialiazeNotebook()\n",
    "npsf.train()"
   ]
  },
  {
   "cell_type": "markdown",
   "metadata": {},
   "source": [
    "We plot the loss function to verify that the models converged to a solution."
   ]
  },
  {
   "cell_type": "code",
   "execution_count": 7,
   "metadata": {},
   "outputs": [
    {
     "data": {
      "text/plain": [
       "<matplotlib.legend.Legend at 0x7f772077da90>"
      ]
     },
     "execution_count": 7,
     "metadata": {},
     "output_type": "execute_result"
    },
    {
     "data": {
      "image/png": "[encoded data removed]",
      "text/plain": [
       "<Figure size 432x288 with 1 Axes>"
      ]
     },
     "metadata": {
      "needs_background": "light"
     },
     "output_type": "display_data"
    }
   ],
   "source": [
    "plt.title('Loss'); \n",
    "plt.xlabel('Epochs'); \n",
    "plt.ylabel('L1 loss');\n",
    "\n",
    "plt.plot(npsf.notebook['losses'],label='npSF')\n",
    "plt.plot(tfsf.hist.history['loss'],label='tfSF')\n",
    "plt.legend()"
   ]
  },
  {
   "cell_type": "markdown",
   "metadata": {},
   "source": [
    "We compute the information-theoretic statistics of interest (entropy and mutual information) at each iteration."
   ]
  },
  {
   "cell_type": "code",
   "execution_count": 8,
   "metadata": {},
   "outputs": [],
   "source": [
    "npWs = npsf.notebook['weights']    \n",
    "    \n",
    "np_Z_tes = []; np_MI_XZs = []; np_H_Zs = []  \n",
    "for W in npWs:\n",
    "    Z_te = computeZ(data['X_te'],W)\n",
    "    \n",
    "    np_Z_tes.append(Z_te)\n",
    "    np_MI_XZs.append(IT.compute_MI_bin(data['X_te'],Z_te,bins=IT_bins))\n",
    "    np_H_Zs.append(IT.compute_H_bin(Z_te,bins=IT_bins))\n",
    "\n",
    "\n",
    "tfWs = tfsf.weights\n",
    "\n",
    "tf_Z_tes = []; tf_MI_XZs = []; tf_H_Zs = []  \n",
    "for W in tfWs:\n",
    "    Z_te = computeZ(data['X_te'],W)\n",
    "    \n",
    "    tf_Z_tes.append(Z_te)\n",
    "    tf_MI_XZs.append(IT.compute_MI_bin(data['X_te'],Z_te,bins=IT_bins))\n",
    "    tf_H_Zs.append(IT.compute_H_bin(Z_te,bins=IT_bins))"
   ]
  },
  {
   "cell_type": "code",
   "execution_count": 9,
   "metadata": {},
   "outputs": [],
   "source": [
    "Z_trs = []\n",
    "for W in tfWs:\n",
    "    Z_tr = computeZ(data['X_tr'],W)\n",
    "    Z_trs.append(Z_tr)"
   ]
  },
  {
   "cell_type": "markdown",
   "metadata": {},
   "source": [
    "We plot entropy and mutual information."
   ]
  },
  {
   "cell_type": "code",
   "execution_count": 13,
   "metadata": {},
   "outputs": [
    {
     "data": {
      "text/plain": [
       "[<matplotlib.lines.Line2D at 0x7f7720606320>]"
      ]
     },
     "execution_count": 13,
     "metadata": {},
     "output_type": "execute_result"
    },
    {
     "data": {
      "image/png": "[encoded data removed]",
      "text/plain": [
       "<Figure size 432x288 with 4 Axes>"
      ]
     },
     "metadata": {
      "needs_background": "light"
     },
     "output_type": "display_data"
    }
   ],
   "source": [
    "_,ax = plt.subplots(2,2)\n",
    "\n",
    "ax[0,0].plot(np_MI_XZs)\n",
    "ax[0,0].set_title('npSF: I(X;Z)')\n",
    "ax[0,0].set_xlabel('Epochs')\n",
    "ax[0,0].set_ylabel('Bits')\n",
    "ax[0,0].plot(linreg(np.arange(len(np_MI_XZs)),np_MI_XZs),'r--')\n",
    "\n",
    "ax[0,1].plot(tf_MI_XZs)\n",
    "ax[0,1].set_title('tfSF: I(X;Z)')\n",
    "ax[0,1].set_xlabel('Epochs')\n",
    "ax[0,1].set_ylabel('Bits')\n",
    "ax[0,1].plot(linreg(np.arange(n_epochs),tf_MI_XZs),'r--')\n",
    "\n",
    "ax[1,0].plot(np_H_Zs)\n",
    "ax[1,0].set_title('npSF: H(Z)')\n",
    "ax[1,0].set_xlabel('Epochs')\n",
    "ax[1,0].set_ylabel('Bits')\n",
    "ax[1,0].plot(linreg(np.arange(len(np_H_Zs)),np_H_Zs),'r--')\n",
    "\n",
    "ax[1,1].plot(tf_H_Zs)\n",
    "ax[1,1].set_title('tfSF: H(Z)')\n",
    "ax[1,1].set_xlabel('Epochs')\n",
    "ax[1,1].set_ylabel('Bits')\n",
    "ax[1,1].plot(linreg(np.arange(n_epochs),tf_H_Zs),'r--')"
   ]
  },
  {
   "cell_type": "markdown",
   "metadata": {},
   "source": [
    "And the information graphs."
   ]
  },
  {
   "cell_type": "code",
   "execution_count": 14,
   "metadata": {},
   "outputs": [
    {
     "data": {
      "text/plain": [
       "<matplotlib.collections.PathCollection at 0x7f772051ca58>"
      ]
     },
     "execution_count": 14,
     "metadata": {},
     "output_type": "execute_result"
    },
    {
     "data": {
      "image/png": "[encoded data removed]",
      "text/plain": [
       "<Figure size 432x288 with 2 Axes>"
      ]
     },
     "metadata": {
      "needs_background": "light"
     },
     "output_type": "display_data"
    }
   ],
   "source": [
    "_,ax = plt.subplots(1,2)\n",
    "\n",
    "ax[0].set_title('npSF: Info plot'); \n",
    "ax[0].set_xlabel('I(X;T)'); \n",
    "ax[0].set_ylabel('H(T)'); \n",
    "ax[0].plot(np_MI_XZs,np_H_Zs,c='black', zorder=0)\n",
    "ax[0].scatter(np_MI_XZs[1:-1],np_H_Zs[1:-1],c='black',s=30, zorder=1)\n",
    "ax[0].scatter(np_MI_XZs[0],np_H_Zs[0],c='green',s=75,zorder=2)\n",
    "ax[0].scatter(np_MI_XZs[-1],np_H_Zs[-1],c='red',s=75,zorder=2)\n",
    "\n",
    "ax[1].set_title('tfSF: Info plot'); \n",
    "ax[1].set_xlabel('I(X;T)'); \n",
    "ax[1].set_ylabel('H(T)'); \n",
    "ax[1].plot(tf_MI_XZs,tf_H_Zs,c='black', zorder=0)\n",
    "ax[1].scatter(tf_MI_XZs[1:-1],tf_H_Zs[1:-1],c='black',s=30, zorder=1)\n",
    "ax[1].scatter(tf_MI_XZs[0],tf_H_Zs[0],c='green',s=75,zorder=2)\n",
    "ax[1].scatter(tf_MI_XZs[-1],tf_H_Zs[-1],c='red',s=75,zorder=2)"
   ]
  },
  {
   "cell_type": "markdown",
   "metadata": {},
   "source": [
    "### References\n",
    "\n",
    "[1] Zennaro, F.M. and Chen, K., 2019. Towards Further Understanding of Sparse Filtering via Information Bottleneck. arXiv preprint arXiv:1910.08964."
   ]
  }
 ],
 "metadata": {
  "kernelspec": {
   "display_name": "Python 3",
   "language": "python",
   "name": "python3"
  },
  "language_info": {
   "codemirror_mode": {
    "name": "ipython",
    "version": 3
   },
   "file_extension": ".py",
   "mimetype": "text/x-python",
   "name": "python",
   "nbconvert_exporter": "python",
   "pygments_lexer": "ipython3",
   "version": "3.6.10"
  }
 },
 "nbformat": 4,
 "nbformat_minor": 4
}
